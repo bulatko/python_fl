{
 "cells": [
  {
   "cell_type": "code",
   "execution_count": 39,
   "metadata": {},
   "outputs": [],
   "source": [
    "import pandas as pd\n",
    "import numpy as np\n",
    "import matplotlib.pyplot as plt\n",
    "from statsmodels.api import OLS"
   ]
  },
  {
   "cell_type": "code",
   "execution_count": 40,
   "metadata": {},
   "outputs": [],
   "source": [
    "df = pd.read_excel('Акции АЗБУКА ВКУСА.xlsx')"
   ]
  },
  {
   "cell_type": "code",
   "execution_count": 41,
   "metadata": {},
   "outputs": [
    {
     "data": {
      "text/html": [
       "<div>\n",
       "<style scoped>\n",
       "    .dataframe tbody tr th:only-of-type {\n",
       "        vertical-align: middle;\n",
       "    }\n",
       "\n",
       "    .dataframe tbody tr th {\n",
       "        vertical-align: top;\n",
       "    }\n",
       "\n",
       "    .dataframe thead th {\n",
       "        text-align: right;\n",
       "    }\n",
       "</style>\n",
       "<table border=\"1\" class=\"dataframe\">\n",
       "  <thead>\n",
       "    <tr style=\"text-align: right;\">\n",
       "      <th></th>\n",
       "      <th>Категория</th>\n",
       "      <th>Артикул</th>\n",
       "      <th>Название</th>\n",
       "      <th>Цена</th>\n",
       "      <th>Старая цена</th>\n",
       "      <th>Регион</th>\n",
       "    </tr>\n",
       "  </thead>\n",
       "  <tbody>\n",
       "    <tr>\n",
       "      <th>1</th>\n",
       "      <td>Крепкие напитки/Аперитивы, вермуты</td>\n",
       "      <td>000010</td>\n",
       "      <td>Вермут Martini Bianco 1.0 L</td>\n",
       "      <td>998</td>\n",
       "      <td>1049</td>\n",
       "      <td>Москва</td>\n",
       "    </tr>\n",
       "    <tr>\n",
       "      <th>2</th>\n",
       "      <td>Крепкие напитки/Аперитивы, вермуты</td>\n",
       "      <td>000013</td>\n",
       "      <td>Вермут Martini Dry 1L</td>\n",
       "      <td>998</td>\n",
       "      <td>1049</td>\n",
       "      <td>Москва</td>\n",
       "    </tr>\n",
       "    <tr>\n",
       "      <th>3</th>\n",
       "      <td>Шампанское и игристые вина/Игристые вина</td>\n",
       "      <td>000015</td>\n",
       "      <td>Игристое вино итальянское Asti Martini 0.75 L ...</td>\n",
       "      <td>1190</td>\n",
       "      <td>1490</td>\n",
       "      <td>Москва</td>\n",
       "    </tr>\n",
       "    <tr>\n",
       "      <th>4</th>\n",
       "      <td>Крепкие напитки/Коньяк</td>\n",
       "      <td>000192</td>\n",
       "      <td>Коньяк Hennessy VSOP, 0.7 L</td>\n",
       "      <td>3990</td>\n",
       "      <td>5240</td>\n",
       "      <td>Москва</td>\n",
       "    </tr>\n",
       "    <tr>\n",
       "      <th>5</th>\n",
       "      <td>Крепкие напитки/Виски</td>\n",
       "      <td>000195</td>\n",
       "      <td>Виски шотландский Johnnie Walker Red Label  0,7 L</td>\n",
       "      <td>1199</td>\n",
       "      <td>1598</td>\n",
       "      <td>Москва</td>\n",
       "    </tr>\n",
       "    <tr>\n",
       "      <th>...</th>\n",
       "      <td>...</td>\n",
       "      <td>...</td>\n",
       "      <td>...</td>\n",
       "      <td>...</td>\n",
       "      <td>...</td>\n",
       "      <td>...</td>\n",
       "    </tr>\n",
       "    <tr>\n",
       "      <th>200</th>\n",
       "      <td>Стиль жизни</td>\n",
       "      <td>857512</td>\n",
       "      <td>Чехол для проектора Kikoriki, Cinemood</td>\n",
       "      <td>2590</td>\n",
       "      <td>3490</td>\n",
       "      <td>Москва</td>\n",
       "    </tr>\n",
       "    <tr>\n",
       "      <th>201</th>\n",
       "      <td>Игрушки и игры для детей/Детская электроника и...</td>\n",
       "      <td>857513</td>\n",
       "      <td>Чехол для проектора Kit n Kate, Cinemood</td>\n",
       "      <td>2590</td>\n",
       "      <td>3490</td>\n",
       "      <td>Москва</td>\n",
       "    </tr>\n",
       "    <tr>\n",
       "      <th>202</th>\n",
       "      <td>Игрушки и игры для детей/Детская электроника и...</td>\n",
       "      <td>857514</td>\n",
       "      <td>Чехол для проектора HooplaKidz, Cinemood</td>\n",
       "      <td>2590</td>\n",
       "      <td>3490</td>\n",
       "      <td>Москва</td>\n",
       "    </tr>\n",
       "    <tr>\n",
       "      <th>203</th>\n",
       "      <td>Игрушки и игры для детей/Детская электроника и...</td>\n",
       "      <td>861925</td>\n",
       "      <td>Чехол для проектора Be-be-bears MiMi, Cinemood</td>\n",
       "      <td>2590</td>\n",
       "      <td>3490</td>\n",
       "      <td>Москва</td>\n",
       "    </tr>\n",
       "    <tr>\n",
       "      <th>204</th>\n",
       "      <td>Игрушки и игры для детей/Детская электроника и...</td>\n",
       "      <td>867567</td>\n",
       "      <td>Портативный кинотеатр Storyteller С подпиской ...</td>\n",
       "      <td>26290</td>\n",
       "      <td>34990</td>\n",
       "      <td>Москва</td>\n",
       "    </tr>\n",
       "  </tbody>\n",
       "</table>\n",
       "<p>204 rows × 6 columns</p>\n",
       "</div>"
      ],
      "text/plain": [
       "0                                            Категория Артикул  \\\n",
       "1                   Крепкие напитки/Аперитивы, вермуты  000010   \n",
       "2                   Крепкие напитки/Аперитивы, вермуты  000013   \n",
       "3             Шампанское и игристые вина/Игристые вина  000015   \n",
       "4                               Крепкие напитки/Коньяк  000192   \n",
       "5                                Крепкие напитки/Виски  000195   \n",
       "..                                                 ...     ...   \n",
       "200                                        Стиль жизни  857512   \n",
       "201  Игрушки и игры для детей/Детская электроника и...  857513   \n",
       "202  Игрушки и игры для детей/Детская электроника и...  857514   \n",
       "203  Игрушки и игры для детей/Детская электроника и...  861925   \n",
       "204  Игрушки и игры для детей/Детская электроника и...  867567   \n",
       "\n",
       "0                                             Название   Цена Старая цена  \\\n",
       "1                          Вермут Martini Bianco 1.0 L    998        1049   \n",
       "2                                Вермут Martini Dry 1L    998        1049   \n",
       "3    Игристое вино итальянское Asti Martini 0.75 L ...   1190        1490   \n",
       "4                          Коньяк Hennessy VSOP, 0.7 L   3990        5240   \n",
       "5    Виски шотландский Johnnie Walker Red Label  0,7 L   1199        1598   \n",
       "..                                                 ...    ...         ...   \n",
       "200             Чехол для проектора Kikoriki, Cinemood   2590        3490   \n",
       "201           Чехол для проектора Kit n Kate, Cinemood   2590        3490   \n",
       "202           Чехол для проектора HooplaKidz, Cinemood   2590        3490   \n",
       "203     Чехол для проектора Be-be-bears MiMi, Cinemood   2590        3490   \n",
       "204  Портативный кинотеатр Storyteller С подпиской ...  26290       34990   \n",
       "\n",
       "0    Регион  \n",
       "1    Москва  \n",
       "2    Москва  \n",
       "3    Москва  \n",
       "4    Москва  \n",
       "5    Москва  \n",
       "..      ...  \n",
       "200  Москва  \n",
       "201  Москва  \n",
       "202  Москва  \n",
       "203  Москва  \n",
       "204  Москва  \n",
       "\n",
       "[204 rows x 6 columns]"
      ]
     },
     "execution_count": 41,
     "metadata": {},
     "output_type": "execute_result"
    }
   ],
   "source": [
    "df.columns = df.iloc[0]\n",
    "df = df.iloc[1:]\n",
    "df"
   ]
  },
  {
   "cell_type": "code",
   "execution_count": 47,
   "metadata": {},
   "outputs": [],
   "source": [
    "X = df.iloc[:, -2].values\n",
    "y = df.iloc[:, -3].values"
   ]
  },
  {
   "cell_type": "code",
   "execution_count": 51,
   "metadata": {},
   "outputs": [
    {
     "data": {
      "text/plain": [
       "array([998, 998, 1190, 3990, 1199, 13980, 2290, 3690, 1790, 1990, 3390,\n",
       "       1424, 269, 1999, 3498, 599, 1998, 998, 399, 59.9, 149, 149, 3298,\n",
       "       524, 279, 119, 119, 119, 119, 119, 24, 78, 43, 119, 120, 265.5, 47,\n",
       "       19.9, 299, 19.9, 530, 64.9, 2690, 899.5, 69, 120, 1435, 19.9, 898,\n",
       "       78, 990, 699, 165, 18.9, 125, 54, 64, 795, 999, 46, 795, 139, 1098,\n",
       "       1598, 2398, 18.9, 19.9, 650, 198, 94, 285, 72, 143, 225, 429,\n",
       "       398.4, 1998, 998, 119, 348, 67, 123, 123, 123, 290, 222, 214, 135,\n",
       "       2680, 230, 78, 19.9, 452, 53, 370, 2499, 194, 154, 258, 119, 165,\n",
       "       68.4, 258, 379, 698, 898, 68, 68, 57, 286, 990, 390, 98, 169, 16.1,\n",
       "       68, 189, 6.4, 169, 235, 698, 18.9, 135, 127.1, 119, 74, 168, 399,\n",
       "       99, 78, 74, 599, 599, 599, 98, 74, 299, 299, 19.9, 24, 360, 298,\n",
       "       238, 198, 340, 5490, 2390, 139, 389.5, 119, 890, 648, 219, 690,\n",
       "       210, 795, 990, 185, 55.9, 199, 84, 186, 690, 199, 12.8, 49, 269,\n",
       "       231, 133, 133, 1298, 98, 198, 19.9, 269, 269, 990, 5290, 470, 470,\n",
       "       145, 299, 399, 398, 188, 199, 19.9, 258, 255, 75, 70, 182, 1116,\n",
       "       19.9, 419, 589, 80, 223.2, 2590, 2590, 2590, 2590, 2590, 26290],\n",
       "      dtype=object)"
      ]
     },
     "execution_count": 51,
     "metadata": {},
     "output_type": "execute_result"
    }
   ],
   "source": [
    "y"
   ]
  },
  {
   "cell_type": "code",
   "execution_count": 54,
   "metadata": {},
   "outputs": [
    {
     "data": {
      "text/plain": [
       "((204,), (204,))"
      ]
     },
     "execution_count": 54,
     "metadata": {},
     "output_type": "execute_result"
    }
   ],
   "source": [
    "X.shape, y.shape"
   ]
  },
  {
   "cell_type": "code",
   "execution_count": 55,
   "metadata": {},
   "outputs": [
    {
     "data": {
      "text/plain": [
       "<matplotlib.collections.PathCollection at 0x207cca2fe48>"
      ]
     },
     "execution_count": 55,
     "metadata": {},
     "output_type": "execute_result"
    },
    {
     "data": {
      "image/png": "[encoded data removed]",
      "text/plain": [
       "<Figure size 432x288 with 1 Axes>"
      ]
     },
     "metadata": {
      "needs_background": "light"
     },
     "output_type": "display_data"
    }
   ],
   "source": [
    "plt.scatter(X[np.argsort(X)], y[np.argsort(X)])"
   ]
  },
  {
   "cell_type": "code",
   "execution_count": 53,
   "metadata": {},
   "outputs": [
    {
     "ename": "TypeError",
     "evalue": "ufunc 'isfinite' not supported for the input types, and the inputs could not be safely coerced to any supported types according to the casting rule ''safe''",
     "output_type": "error",
     "traceback": [
      "\u001b[1;31m---------------------------------------------------------------------------\u001b[0m",
      "\u001b[1;31mTypeError\u001b[0m                                 Traceback (most recent call last)",
      "\u001b[1;32m<ipython-input-53-2894d3eab391>\u001b[0m in \u001b[0;36m<module>\u001b[1;34m\u001b[0m\n\u001b[1;32m----> 1\u001b[1;33m \u001b[0mest\u001b[0m \u001b[1;33m=\u001b[0m \u001b[0mOLS\u001b[0m\u001b[1;33m(\u001b[0m\u001b[0my\u001b[0m\u001b[1;33m,\u001b[0m \u001b[0mX\u001b[0m\u001b[1;33m)\u001b[0m\u001b[1;33m\u001b[0m\u001b[0m\n\u001b[0m",
      "\u001b[1;32mc:\\program files\\python37\\lib\\site-packages\\statsmodels\\regression\\linear_model.py\u001b[0m in \u001b[0;36m__init__\u001b[1;34m(self, endog, exog, missing, hasconst, **kwargs)\u001b[0m\n\u001b[0;32m    857\u001b[0m                  **kwargs):\n\u001b[0;32m    858\u001b[0m         super(OLS, self).__init__(endog, exog, missing=missing,\n\u001b[1;32m--> 859\u001b[1;33m                                   hasconst=hasconst, **kwargs)\n\u001b[0m\u001b[0;32m    860\u001b[0m         \u001b[1;32mif\u001b[0m \u001b[1;34m\"weights\"\u001b[0m \u001b[1;32min\u001b[0m \u001b[0mself\u001b[0m\u001b[1;33m.\u001b[0m\u001b[0m_init_keys\u001b[0m\u001b[1;33m:\u001b[0m\u001b[1;33m\u001b[0m\u001b[0m\n\u001b[0;32m    861\u001b[0m             \u001b[0mself\u001b[0m\u001b[1;33m.\u001b[0m\u001b[0m_init_keys\u001b[0m\u001b[1;33m.\u001b[0m\u001b[0mremove\u001b[0m\u001b[1;33m(\u001b[0m\u001b[1;34m\"weights\"\u001b[0m\u001b[1;33m)\u001b[0m\u001b[1;33m\u001b[0m\u001b[0m\n",
      "\u001b[1;32mc:\\program files\\python37\\lib\\site-packages\\statsmodels\\regression\\linear_model.py\u001b[0m in \u001b[0;36m__init__\u001b[1;34m(self, endog, exog, weights, missing, hasconst, **kwargs)\u001b[0m\n\u001b[0;32m    700\u001b[0m             \u001b[0mweights\u001b[0m \u001b[1;33m=\u001b[0m \u001b[0mweights\u001b[0m\u001b[1;33m.\u001b[0m\u001b[0msqueeze\u001b[0m\u001b[1;33m(\u001b[0m\u001b[1;33m)\u001b[0m\u001b[1;33m\u001b[0m\u001b[0m\n\u001b[0;32m    701\u001b[0m         super(WLS, self).__init__(endog, exog, missing=missing,\n\u001b[1;32m--> 702\u001b[1;33m                                   weights=weights, hasconst=hasconst, **kwargs)\n\u001b[0m\u001b[0;32m    703\u001b[0m         \u001b[0mnobs\u001b[0m \u001b[1;33m=\u001b[0m \u001b[0mself\u001b[0m\u001b[1;33m.\u001b[0m\u001b[0mexog\u001b[0m\u001b[1;33m.\u001b[0m\u001b[0mshape\u001b[0m\u001b[1;33m[\u001b[0m\u001b[1;36m0\u001b[0m\u001b[1;33m]\u001b[0m\u001b[1;33m\u001b[0m\u001b[0m\n\u001b[0;32m    704\u001b[0m         \u001b[0mweights\u001b[0m \u001b[1;33m=\u001b[0m \u001b[0mself\u001b[0m\u001b[1;33m.\u001b[0m\u001b[0mweights\u001b[0m\u001b[1;33m\u001b[0m\u001b[0m\n",
      "\u001b[1;32mc:\\program files\\python37\\lib\\site-packages\\statsmodels\\regression\\linear_model.py\u001b[0m in \u001b[0;36m__init__\u001b[1;34m(self, endog, exog, **kwargs)\u001b[0m\n\u001b[0;32m    188\u001b[0m     \"\"\"\n\u001b[0;32m    189\u001b[0m     \u001b[1;32mdef\u001b[0m \u001b[0m__init__\u001b[0m\u001b[1;33m(\u001b[0m\u001b[0mself\u001b[0m\u001b[1;33m,\u001b[0m \u001b[0mendog\u001b[0m\u001b[1;33m,\u001b[0m \u001b[0mexog\u001b[0m\u001b[1;33m,\u001b[0m \u001b[1;33m**\u001b[0m\u001b[0mkwargs\u001b[0m\u001b[1;33m)\u001b[0m\u001b[1;33m:\u001b[0m\u001b[1;33m\u001b[0m\u001b[0m\n\u001b[1;32m--> 190\u001b[1;33m         \u001b[0msuper\u001b[0m\u001b[1;33m(\u001b[0m\u001b[0mRegressionModel\u001b[0m\u001b[1;33m,\u001b[0m \u001b[0mself\u001b[0m\u001b[1;33m)\u001b[0m\u001b[1;33m.\u001b[0m\u001b[0m__init__\u001b[0m\u001b[1;33m(\u001b[0m\u001b[0mendog\u001b[0m\u001b[1;33m,\u001b[0m \u001b[0mexog\u001b[0m\u001b[1;33m,\u001b[0m \u001b[1;33m**\u001b[0m\u001b[0mkwargs\u001b[0m\u001b[1;33m)\u001b[0m\u001b[1;33m\u001b[0m\u001b[0m\n\u001b[0m\u001b[0;32m    191\u001b[0m         \u001b[0mself\u001b[0m\u001b[1;33m.\u001b[0m\u001b[0m_data_attr\u001b[0m\u001b[1;33m.\u001b[0m\u001b[0mextend\u001b[0m\u001b[1;33m(\u001b[0m\u001b[1;33m[\u001b[0m\u001b[1;34m'pinv_wexog'\u001b[0m\u001b[1;33m,\u001b[0m \u001b[1;34m'wendog'\u001b[0m\u001b[1;33m,\u001b[0m \u001b[1;34m'wexog'\u001b[0m\u001b[1;33m,\u001b[0m \u001b[1;34m'weights'\u001b[0m\u001b[1;33m]\u001b[0m\u001b[1;33m)\u001b[0m\u001b[1;33m\u001b[0m\u001b[0m\n\u001b[0;32m    192\u001b[0m \u001b[1;33m\u001b[0m\u001b[0m\n",
      "\u001b[1;32mc:\\program files\\python37\\lib\\site-packages\\statsmodels\\base\\model.py\u001b[0m in \u001b[0;36m__init__\u001b[1;34m(self, endog, exog, **kwargs)\u001b[0m\n\u001b[0;32m    234\u001b[0m \u001b[1;33m\u001b[0m\u001b[0m\n\u001b[0;32m    235\u001b[0m     \u001b[1;32mdef\u001b[0m \u001b[0m__init__\u001b[0m\u001b[1;33m(\u001b[0m\u001b[0mself\u001b[0m\u001b[1;33m,\u001b[0m \u001b[0mendog\u001b[0m\u001b[1;33m,\u001b[0m \u001b[0mexog\u001b[0m\u001b[1;33m=\u001b[0m\u001b[1;32mNone\u001b[0m\u001b[1;33m,\u001b[0m \u001b[1;33m**\u001b[0m\u001b[0mkwargs\u001b[0m\u001b[1;33m)\u001b[0m\u001b[1;33m:\u001b[0m\u001b[1;33m\u001b[0m\u001b[0m\n\u001b[1;32m--> 236\u001b[1;33m         \u001b[0msuper\u001b[0m\u001b[1;33m(\u001b[0m\u001b[0mLikelihoodModel\u001b[0m\u001b[1;33m,\u001b[0m \u001b[0mself\u001b[0m\u001b[1;33m)\u001b[0m\u001b[1;33m.\u001b[0m\u001b[0m__init__\u001b[0m\u001b[1;33m(\u001b[0m\u001b[0mendog\u001b[0m\u001b[1;33m,\u001b[0m \u001b[0mexog\u001b[0m\u001b[1;33m,\u001b[0m \u001b[1;33m**\u001b[0m\u001b[0mkwargs\u001b[0m\u001b[1;33m)\u001b[0m\u001b[1;33m\u001b[0m\u001b[0m\n\u001b[0m\u001b[0;32m    237\u001b[0m         \u001b[0mself\u001b[0m\u001b[1;33m.\u001b[0m\u001b[0minitialize\u001b[0m\u001b[1;33m(\u001b[0m\u001b[1;33m)\u001b[0m\u001b[1;33m\u001b[0m\u001b[0m\n\u001b[0;32m    238\u001b[0m \u001b[1;33m\u001b[0m\u001b[0m\n",
      "\u001b[1;32mc:\\program files\\python37\\lib\\site-packages\\statsmodels\\base\\model.py\u001b[0m in \u001b[0;36m__init__\u001b[1;34m(self, endog, exog, **kwargs)\u001b[0m\n\u001b[0;32m     75\u001b[0m         \u001b[0mhasconst\u001b[0m \u001b[1;33m=\u001b[0m \u001b[0mkwargs\u001b[0m\u001b[1;33m.\u001b[0m\u001b[0mpop\u001b[0m\u001b[1;33m(\u001b[0m\u001b[1;34m'hasconst'\u001b[0m\u001b[1;33m,\u001b[0m \u001b[1;32mNone\u001b[0m\u001b[1;33m)\u001b[0m\u001b[1;33m\u001b[0m\u001b[0m\n\u001b[0;32m     76\u001b[0m         self.data = self._handle_data(endog, exog, missing, hasconst,\n\u001b[1;32m---> 77\u001b[1;33m                                       **kwargs)\n\u001b[0m\u001b[0;32m     78\u001b[0m         \u001b[0mself\u001b[0m\u001b[1;33m.\u001b[0m\u001b[0mk_constant\u001b[0m \u001b[1;33m=\u001b[0m \u001b[0mself\u001b[0m\u001b[1;33m.\u001b[0m\u001b[0mdata\u001b[0m\u001b[1;33m.\u001b[0m\u001b[0mk_constant\u001b[0m\u001b[1;33m\u001b[0m\u001b[0m\n\u001b[0;32m     79\u001b[0m         \u001b[0mself\u001b[0m\u001b[1;33m.\u001b[0m\u001b[0mexog\u001b[0m \u001b[1;33m=\u001b[0m \u001b[0mself\u001b[0m\u001b[1;33m.\u001b[0m\u001b[0mdata\u001b[0m\u001b[1;33m.\u001b[0m\u001b[0mexog\u001b[0m\u001b[1;33m\u001b[0m\u001b[0m\n",
      "\u001b[1;32mc:\\program files\\python37\\lib\\site-packages\\statsmodels\\base\\model.py\u001b[0m in \u001b[0;36m_handle_data\u001b[1;34m(self, endog, exog, missing, hasconst, **kwargs)\u001b[0m\n\u001b[0;32m     98\u001b[0m \u001b[1;33m\u001b[0m\u001b[0m\n\u001b[0;32m     99\u001b[0m     \u001b[1;32mdef\u001b[0m \u001b[0m_handle_data\u001b[0m\u001b[1;33m(\u001b[0m\u001b[0mself\u001b[0m\u001b[1;33m,\u001b[0m \u001b[0mendog\u001b[0m\u001b[1;33m,\u001b[0m \u001b[0mexog\u001b[0m\u001b[1;33m,\u001b[0m \u001b[0mmissing\u001b[0m\u001b[1;33m,\u001b[0m \u001b[0mhasconst\u001b[0m\u001b[1;33m,\u001b[0m \u001b[1;33m**\u001b[0m\u001b[0mkwargs\u001b[0m\u001b[1;33m)\u001b[0m\u001b[1;33m:\u001b[0m\u001b[1;33m\u001b[0m\u001b[0m\n\u001b[1;32m--> 100\u001b[1;33m         \u001b[0mdata\u001b[0m \u001b[1;33m=\u001b[0m \u001b[0mhandle_data\u001b[0m\u001b[1;33m(\u001b[0m\u001b[0mendog\u001b[0m\u001b[1;33m,\u001b[0m \u001b[0mexog\u001b[0m\u001b[1;33m,\u001b[0m \u001b[0mmissing\u001b[0m\u001b[1;33m,\u001b[0m \u001b[0mhasconst\u001b[0m\u001b[1;33m,\u001b[0m \u001b[1;33m**\u001b[0m\u001b[0mkwargs\u001b[0m\u001b[1;33m)\u001b[0m\u001b[1;33m\u001b[0m\u001b[0m\n\u001b[0m\u001b[0;32m    101\u001b[0m         \u001b[1;31m# kwargs arrays could have changed, easier to just attach here\u001b[0m\u001b[1;33m\u001b[0m\u001b[1;33m\u001b[0m\u001b[0m\n\u001b[0;32m    102\u001b[0m         \u001b[1;32mfor\u001b[0m \u001b[0mkey\u001b[0m \u001b[1;32min\u001b[0m \u001b[0mkwargs\u001b[0m\u001b[1;33m:\u001b[0m\u001b[1;33m\u001b[0m\u001b[0m\n",
      "\u001b[1;32mc:\\program files\\python37\\lib\\site-packages\\statsmodels\\base\\data.py\u001b[0m in \u001b[0;36mhandle_data\u001b[1;34m(endog, exog, missing, hasconst, **kwargs)\u001b[0m\n\u001b[0;32m    670\u001b[0m     \u001b[0mklass\u001b[0m \u001b[1;33m=\u001b[0m \u001b[0mhandle_data_class_factory\u001b[0m\u001b[1;33m(\u001b[0m\u001b[0mendog\u001b[0m\u001b[1;33m,\u001b[0m \u001b[0mexog\u001b[0m\u001b[1;33m)\u001b[0m\u001b[1;33m\u001b[0m\u001b[0m\n\u001b[0;32m    671\u001b[0m     return klass(endog, exog=exog, missing=missing, hasconst=hasconst,\n\u001b[1;32m--> 672\u001b[1;33m                  **kwargs)\n\u001b[0m",
      "\u001b[1;32mc:\\program files\\python37\\lib\\site-packages\\statsmodels\\base\\data.py\u001b[0m in \u001b[0;36m__init__\u001b[1;34m(self, endog, exog, missing, hasconst, **kwargs)\u001b[0m\n\u001b[0;32m     85\u001b[0m         \u001b[0mself\u001b[0m\u001b[1;33m.\u001b[0m\u001b[0mconst_idx\u001b[0m \u001b[1;33m=\u001b[0m \u001b[1;32mNone\u001b[0m\u001b[1;33m\u001b[0m\u001b[0m\n\u001b[0;32m     86\u001b[0m         \u001b[0mself\u001b[0m\u001b[1;33m.\u001b[0m\u001b[0mk_constant\u001b[0m \u001b[1;33m=\u001b[0m \u001b[1;36m0\u001b[0m\u001b[1;33m\u001b[0m\u001b[0m\n\u001b[1;32m---> 87\u001b[1;33m         \u001b[0mself\u001b[0m\u001b[1;33m.\u001b[0m\u001b[0m_handle_constant\u001b[0m\u001b[1;33m(\u001b[0m\u001b[0mhasconst\u001b[0m\u001b[1;33m)\u001b[0m\u001b[1;33m\u001b[0m\u001b[0m\n\u001b[0m\u001b[0;32m     88\u001b[0m         \u001b[0mself\u001b[0m\u001b[1;33m.\u001b[0m\u001b[0m_check_integrity\u001b[0m\u001b[1;33m(\u001b[0m\u001b[1;33m)\u001b[0m\u001b[1;33m\u001b[0m\u001b[0m\n\u001b[0;32m     89\u001b[0m         \u001b[0mself\u001b[0m\u001b[1;33m.\u001b[0m\u001b[0m_cache\u001b[0m \u001b[1;33m=\u001b[0m \u001b[1;33m{\u001b[0m\u001b[1;33m}\u001b[0m\u001b[1;33m\u001b[0m\u001b[0m\n",
      "\u001b[1;32mc:\\program files\\python37\\lib\\site-packages\\statsmodels\\base\\data.py\u001b[0m in \u001b[0;36m_handle_constant\u001b[1;34m(self, hasconst)\u001b[0m\n\u001b[0;32m    130\u001b[0m             \u001b[0mcheck_implicit\u001b[0m \u001b[1;33m=\u001b[0m \u001b[1;32mFalse\u001b[0m\u001b[1;33m\u001b[0m\u001b[0m\n\u001b[0;32m    131\u001b[0m             \u001b[0mexog_max\u001b[0m \u001b[1;33m=\u001b[0m \u001b[0mnp\u001b[0m\u001b[1;33m.\u001b[0m\u001b[0mmax\u001b[0m\u001b[1;33m(\u001b[0m\u001b[0mself\u001b[0m\u001b[1;33m.\u001b[0m\u001b[0mexog\u001b[0m\u001b[1;33m,\u001b[0m \u001b[0maxis\u001b[0m\u001b[1;33m=\u001b[0m\u001b[1;36m0\u001b[0m\u001b[1;33m)\u001b[0m\u001b[1;33m\u001b[0m\u001b[0m\n\u001b[1;32m--> 132\u001b[1;33m             \u001b[1;32mif\u001b[0m \u001b[1;32mnot\u001b[0m \u001b[0mnp\u001b[0m\u001b[1;33m.\u001b[0m\u001b[0misfinite\u001b[0m\u001b[1;33m(\u001b[0m\u001b[0mexog_max\u001b[0m\u001b[1;33m)\u001b[0m\u001b[1;33m.\u001b[0m\u001b[0mall\u001b[0m\u001b[1;33m(\u001b[0m\u001b[1;33m)\u001b[0m\u001b[1;33m:\u001b[0m\u001b[1;33m\u001b[0m\u001b[0m\n\u001b[0m\u001b[0;32m    133\u001b[0m                 \u001b[1;32mraise\u001b[0m \u001b[0mMissingDataError\u001b[0m\u001b[1;33m(\u001b[0m\u001b[1;34m'exog contains inf or nans'\u001b[0m\u001b[1;33m)\u001b[0m\u001b[1;33m\u001b[0m\u001b[0m\n\u001b[0;32m    134\u001b[0m             \u001b[0mexog_min\u001b[0m \u001b[1;33m=\u001b[0m \u001b[0mnp\u001b[0m\u001b[1;33m.\u001b[0m\u001b[0mmin\u001b[0m\u001b[1;33m(\u001b[0m\u001b[0mself\u001b[0m\u001b[1;33m.\u001b[0m\u001b[0mexog\u001b[0m\u001b[1;33m,\u001b[0m \u001b[0maxis\u001b[0m\u001b[1;33m=\u001b[0m\u001b[1;36m0\u001b[0m\u001b[1;33m)\u001b[0m\u001b[1;33m\u001b[0m\u001b[0m\n",
      "\u001b[1;31mTypeError\u001b[0m: ufunc 'isfinite' not supported for the input types, and the inputs could not be safely coerced to any supported types according to the casting rule ''safe''"
     ]
    }
   ],
   "source": [
    "est = OLS(y, X)"
   ]
  },
  {
   "cell_type": "code",
   "execution_count": 44,
   "metadata": {},
   "outputs": [
    {
     "ename": "TypeError",
     "evalue": "__init__() missing 1 required positional argument: 'endog'",
     "output_type": "error",
     "traceback": [
      "\u001b[1;31m---------------------------------------------------------------------------\u001b[0m",
      "\u001b[1;31mTypeError\u001b[0m                                 Traceback (most recent call last)",
      "\u001b[1;32m<ipython-input-44-5db4f227f21e>\u001b[0m in \u001b[0;36m<module>\u001b[1;34m\u001b[0m\n\u001b[1;32m----> 1\u001b[1;33m \u001b[0mest\u001b[0m \u001b[1;33m=\u001b[0m \u001b[0mOLS\u001b[0m\u001b[1;33m(\u001b[0m\u001b[1;33m)\u001b[0m\u001b[1;33m\u001b[0m\u001b[0m\n\u001b[0m\u001b[0;32m      2\u001b[0m \u001b[0mest\u001b[0m\u001b[1;33m.\u001b[0m\u001b[0mfit\u001b[0m\u001b[1;33m(\u001b[0m\u001b[1;33m)\u001b[0m\u001b[1;33m\u001b[0m\u001b[0m\n",
      "\u001b[1;31mTypeError\u001b[0m: __init__() missing 1 required positional argument: 'endog'"
     ]
    }
   ],
   "source": [
    "est.fit()"
   ]
  },
  {
   "cell_type": "code",
   "execution_count": 7,
   "metadata": {},
   "outputs": [
    {
     "data": {
      "text/html": [
       "<div>\n",
       "<style scoped>\n",
       "    .dataframe tbody tr th:only-of-type {\n",
       "        vertical-align: middle;\n",
       "    }\n",
       "\n",
       "    .dataframe tbody tr th {\n",
       "        vertical-align: top;\n",
       "    }\n",
       "\n",
       "    .dataframe thead th {\n",
       "        text-align: right;\n",
       "    }\n",
       "</style>\n",
       "<table border=\"1\" class=\"dataframe\">\n",
       "  <thead>\n",
       "    <tr style=\"text-align: right;\">\n",
       "      <th></th>\n",
       "      <th>АЗБУКА ВКУСА, новинки accортимента за период с 25.09.2019 по 09.10.2019</th>\n",
       "      <th>Unnamed: 1</th>\n",
       "      <th>Unnamed: 2</th>\n",
       "      <th>Unnamed: 3</th>\n",
       "      <th>Unnamed: 4</th>\n",
       "      <th>Unnamed: 5</th>\n",
       "      <th>Unnamed: 6</th>\n",
       "      <th>Unnamed: 7</th>\n",
       "      <th>Unnamed: 8</th>\n",
       "    </tr>\n",
       "  </thead>\n",
       "  <tbody>\n",
       "    <tr>\n",
       "      <th>0</th>\n",
       "      <td>Категория</td>\n",
       "      <td>Артикул</td>\n",
       "      <td>Название</td>\n",
       "      <td>Цена</td>\n",
       "      <td>Старая цена</td>\n",
       "      <td>Регион</td>\n",
       "      <td>Остаток</td>\n",
       "      <td>Дата появления</td>\n",
       "      <td>Дата обновления</td>\n",
       "    </tr>\n",
       "    <tr>\n",
       "      <th>1</th>\n",
       "      <td>Аксессуары для животных/Аксессуары</td>\n",
       "      <td>396238</td>\n",
       "      <td>Матрас TitBit для собак крупных и средних поро...</td>\n",
       "      <td>2397</td>\n",
       "      <td>0</td>\n",
       "      <td>Москва</td>\n",
       "      <td>В наличии</td>\n",
       "      <td>2019-09-29 19:50:14.213000</td>\n",
       "      <td>2019-10-07 11:51:53.503000</td>\n",
       "    </tr>\n",
       "    <tr>\n",
       "      <th>2</th>\n",
       "      <td>Аксессуары для праздников, упаковка/Палочки, з...</td>\n",
       "      <td>350514</td>\n",
       "      <td>Соломка для коктеля высота 27 см Koopman Inter...</td>\n",
       "      <td>184</td>\n",
       "      <td>0</td>\n",
       "      <td>Москва</td>\n",
       "      <td>В наличии</td>\n",
       "      <td>2019-10-07 09:05:04.833000</td>\n",
       "      <td>2019-10-07 09:05:04.833000</td>\n",
       "    </tr>\n",
       "    <tr>\n",
       "      <th>3</th>\n",
       "      <td>Аксессуары для праздников, упаковка/Свечи для ...</td>\n",
       "      <td>433206</td>\n",
       "      <td>Набор свечей для торта PAPSTAR \"Спираль\" 12,5с...</td>\n",
       "      <td>148</td>\n",
       "      <td>0</td>\n",
       "      <td>Москва</td>\n",
       "      <td>В наличии</td>\n",
       "      <td>2019-09-29 15:44:04.990000</td>\n",
       "      <td>2019-10-07 09:01:39.980000</td>\n",
       "    </tr>\n",
       "    <tr>\n",
       "      <th>4</th>\n",
       "      <td>Бытовая техника и электроника/Техника для кухни</td>\n",
       "      <td>426854</td>\n",
       "      <td>Весы Brabantia цифровые кухонные  Китай</td>\n",
       "      <td>5068</td>\n",
       "      <td>0</td>\n",
       "      <td>Москва</td>\n",
       "      <td>В наличии</td>\n",
       "      <td>2019-09-29 12:25:40.797000</td>\n",
       "      <td>2019-10-07 09:01:39.980000</td>\n",
       "    </tr>\n",
       "    <tr>\n",
       "      <th>...</th>\n",
       "      <td>...</td>\n",
       "      <td>...</td>\n",
       "      <td>...</td>\n",
       "      <td>...</td>\n",
       "      <td>...</td>\n",
       "      <td>...</td>\n",
       "      <td>...</td>\n",
       "      <td>...</td>\n",
       "      <td>...</td>\n",
       "    </tr>\n",
       "    <tr>\n",
       "      <th>225</th>\n",
       "      <td>Шоколад. Шоколадные батончики</td>\n",
       "      <td>434365</td>\n",
       "      <td>Шоколад веганский Nilambari белый на кешью Яго...</td>\n",
       "      <td>245</td>\n",
       "      <td>0</td>\n",
       "      <td>Москва</td>\n",
       "      <td>В наличии</td>\n",
       "      <td>2019-09-29 12:25:40.797000</td>\n",
       "      <td>2019-10-07 22:43:10.577000</td>\n",
       "    </tr>\n",
       "    <tr>\n",
       "      <th>226</th>\n",
       "      <td>Шоколад. Шоколадные батончики</td>\n",
       "      <td>434366</td>\n",
       "      <td>Шоколад веганский Nilambari молочный на кешью ...</td>\n",
       "      <td>245</td>\n",
       "      <td>0</td>\n",
       "      <td>Москва</td>\n",
       "      <td>В наличии</td>\n",
       "      <td>2019-09-29 12:25:40.797000</td>\n",
       "      <td>2019-10-07 22:43:10.577000</td>\n",
       "    </tr>\n",
       "    <tr>\n",
       "      <th>227</th>\n",
       "      <td>Шоколад. Шоколадные батончики</td>\n",
       "      <td>434367</td>\n",
       "      <td>Шоколад веганский Nilambari белый на кешью с в...</td>\n",
       "      <td>245</td>\n",
       "      <td>0</td>\n",
       "      <td>Москва</td>\n",
       "      <td>В наличии</td>\n",
       "      <td>2019-09-29 12:25:40.797000</td>\n",
       "      <td>2019-10-07 22:43:10.577000</td>\n",
       "    </tr>\n",
       "    <tr>\n",
       "      <th>228</th>\n",
       "      <td>Яйцо</td>\n",
       "      <td>346493</td>\n",
       "      <td>Яйцо куриное С1 20шт .ЗАО \"ПТИЦЕФАБРИКА ВАРАКС...</td>\n",
       "      <td>169</td>\n",
       "      <td>0</td>\n",
       "      <td>Москва</td>\n",
       "      <td>В наличии</td>\n",
       "      <td>2019-10-09 02:00:27.780000</td>\n",
       "      <td>2019-10-09 02:00:27.780000</td>\n",
       "    </tr>\n",
       "    <tr>\n",
       "      <th>229</th>\n",
       "      <td>Яйцо</td>\n",
       "      <td>368726</td>\n",
       "      <td>Яйцо куриное Праксики С1 6шт . Россия</td>\n",
       "      <td>70</td>\n",
       "      <td>0</td>\n",
       "      <td>Москва</td>\n",
       "      <td>В наличии</td>\n",
       "      <td>2019-10-09 02:00:27.780000</td>\n",
       "      <td>2019-10-09 02:00:27.780000</td>\n",
       "    </tr>\n",
       "  </tbody>\n",
       "</table>\n",
       "<p>230 rows × 9 columns</p>\n",
       "</div>"
      ],
      "text/plain": [
       "    АЗБУКА ВКУСА, новинки accортимента за период с 25.09.2019 по 09.10.2019  \\\n",
       "0                                            Категория                        \n",
       "1                   Аксессуары для животных/Аксессуары                        \n",
       "2    Аксессуары для праздников, упаковка/Палочки, з...                        \n",
       "3    Аксессуары для праздников, упаковка/Свечи для ...                        \n",
       "4      Бытовая техника и электроника/Техника для кухни                        \n",
       "..                                                 ...                        \n",
       "225                      Шоколад. Шоколадные батончики                        \n",
       "226                      Шоколад. Шоколадные батончики                        \n",
       "227                      Шоколад. Шоколадные батончики                        \n",
       "228                                               Яйцо                        \n",
       "229                                               Яйцо                        \n",
       "\n",
       "    Unnamed: 1                                         Unnamed: 2 Unnamed: 3  \\\n",
       "0      Артикул                                           Название       Цена   \n",
       "1       396238  Матрас TitBit для собак крупных и средних поро...       2397   \n",
       "2       350514  Соломка для коктеля высота 27 см Koopman Inter...        184   \n",
       "3       433206  Набор свечей для торта PAPSTAR \"Спираль\" 12,5с...        148   \n",
       "4       426854            Весы Brabantia цифровые кухонные  Китай       5068   \n",
       "..         ...                                                ...        ...   \n",
       "225     434365  Шоколад веганский Nilambari белый на кешью Яго...        245   \n",
       "226     434366  Шоколад веганский Nilambari молочный на кешью ...        245   \n",
       "227     434367  Шоколад веганский Nilambari белый на кешью с в...        245   \n",
       "228     346493  Яйцо куриное С1 20шт .ЗАО \"ПТИЦЕФАБРИКА ВАРАКС...        169   \n",
       "229     368726              Яйцо куриное Праксики С1 6шт . Россия         70   \n",
       "\n",
       "      Unnamed: 4 Unnamed: 5 Unnamed: 6                  Unnamed: 7  \\\n",
       "0    Старая цена     Регион    Остаток              Дата появления   \n",
       "1              0     Москва  В наличии  2019-09-29 19:50:14.213000   \n",
       "2              0     Москва  В наличии  2019-10-07 09:05:04.833000   \n",
       "3              0     Москва  В наличии  2019-09-29 15:44:04.990000   \n",
       "4              0     Москва  В наличии  2019-09-29 12:25:40.797000   \n",
       "..           ...        ...        ...                         ...   \n",
       "225            0     Москва  В наличии  2019-09-29 12:25:40.797000   \n",
       "226            0     Москва  В наличии  2019-09-29 12:25:40.797000   \n",
       "227            0     Москва  В наличии  2019-09-29 12:25:40.797000   \n",
       "228            0     Москва  В наличии  2019-10-09 02:00:27.780000   \n",
       "229            0     Москва  В наличии  2019-10-09 02:00:27.780000   \n",
       "\n",
       "                     Unnamed: 8  \n",
       "0               Дата обновления  \n",
       "1    2019-10-07 11:51:53.503000  \n",
       "2    2019-10-07 09:05:04.833000  \n",
       "3    2019-10-07 09:01:39.980000  \n",
       "4    2019-10-07 09:01:39.980000  \n",
       "..                          ...  \n",
       "225  2019-10-07 22:43:10.577000  \n",
       "226  2019-10-07 22:43:10.577000  \n",
       "227  2019-10-07 22:43:10.577000  \n",
       "228  2019-10-09 02:00:27.780000  \n",
       "229  2019-10-09 02:00:27.780000  \n",
       "\n",
       "[230 rows x 9 columns]"
      ]
     },
     "execution_count": 7,
     "metadata": {},
     "output_type": "execute_result"
    }
   ],
   "source": [
    "df = pd.read_excel('Новинки ассортимента АЗБУКА ВКУСА.xlsx')\n",
    "df"
   ]
  },
  {
   "cell_type": "code",
   "execution_count": 14,
   "metadata": {},
   "outputs": [],
   "source": [
    "df = pd.read_csv('2019-10-09_av.csv', encoding='windows-1251', sep=';', )\n",
    "df.columns = df.iloc[1]"
   ]
  },
  {
   "cell_type": "code",
   "execution_count": 24,
   "metadata": {},
   "outputs": [],
   "source": [
    "X = df.iloc[1:, -2].values"
   ]
  },
  {
   "cell_type": "code",
   "execution_count": 26,
   "metadata": {},
   "outputs": [
    {
     "data": {
      "text/plain": [
       "(array([7422., 3340., 4969.,  989., 2478.,    9.,   18.,   17.,    9.,\n",
       "          28.]),\n",
       " array([ 0. ,  2.2,  4.4,  6.6,  8.8, 11. , 13.2, 15.4, 17.6, 19.8, 22. ]),\n",
       " <a list of 10 Patch objects>)"
      ]
     },
     "execution_count": 26,
     "metadata": {},
     "output_type": "execute_result"
    },
    {
     "data": {
      "image/png": "[encoded data removed]",
      "text/plain": [
       "<Figure size 432x288 with 1 Axes>"
      ]
     },
     "metadata": {
      "needs_background": "light"
     },
     "output_type": "display_data"
    }
   ],
   "source": [
    "plt.hist(X)"
   ]
  },
  {
   "cell_type": "code",
   "execution_count": 28,
   "metadata": {},
   "outputs": [
    {
     "data": {
      "text/plain": [
       "('03.10.2019 07:30', '09.10.2019 02:00')"
      ]
     },
     "execution_count": 28,
     "metadata": {},
     "output_type": "execute_result"
    }
   ],
   "source": [
    "X.min(), X.max()"
   ]
  }
 ],
 "metadata": {
  "kernelspec": {
   "display_name": "Python 3",
   "language": "python",
   "name": "python3"
  },
  "language_info": {
   "codemirror_mode": {
    "name": "ipython",
    "version": 3
   },
   "file_extension": ".py",
   "mimetype": "text/x-python",
   "name": "python",
   "nbconvert_exporter": "python",
   "pygments_lexer": "ipython3",
   "version": "3.7.0"
  }
 },
 "nbformat": 4,
 "nbformat_minor": 2
}
