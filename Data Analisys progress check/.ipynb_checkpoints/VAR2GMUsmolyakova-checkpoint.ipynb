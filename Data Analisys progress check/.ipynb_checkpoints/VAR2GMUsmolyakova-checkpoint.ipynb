{
 "cells": [
  {
   "cell_type": "markdown",
   "metadata": {},
   "source": [
    "# Контрольная работа по дисциплине \"Технологии анализа больших данных\""
   ]
  },
  {
   "cell_type": "markdown",
   "metadata": {},
   "source": [
    "Внимание! За написание чужого варианта или за даже частичный плагиат автоматически ставится 0. Также 0 ставится за сдачу позже дедлайна или сдачу в неверном формате. "
   ]
  },
  {
   "cell_type": "markdown",
   "metadata": {},
   "source": [
    "Описание признаков:\n",
    "\n",
    "    *datetime - дата и время  \n",
    "    *season - сезон:  1 = весна, 2 = лето, 3 = осень, 4 = зима\n",
    "    *holiday - считается ли этот день праздником\n",
    "    *workingday - является ли этот день рабочим \n",
    "    *weather -погода, 1:ясно, мало облаков, переменная облачность, переменная облачность\n",
    "    2: туман + пасмурно, туман + дождь, туман + дождь, туман\n",
    "    3: легкий снег, легкий дождь + гроза + рассеянные облака, легкий дождь + рассеянные облака\n",
    "    4: Сильный Дождь + Гроза + Дождь + Туман, Снег + Туман \n",
    "    temp - температура в градусах Цельсия\n",
    "    atemp - \"ощущается как\" температура в градусах Цельсия\n",
    "    humidity - относительная влажность воздуха\n",
    "    windspeed - скорость ветра\n",
    "    casual - количество незарегистрированных пользователей\n",
    "    registered - количество зарегистрированных арендаторов\n",
    "    count - общее количество арендаторов"
   ]
  },
  {
   "cell_type": "markdown",
   "metadata": {},
   "source": [
    "## Задание 1 (1 балл)"
   ]
  },
  {
   "cell_type": "markdown",
   "metadata": {},
   "source": [
    "Откройте предложенный вам датасет, напишите, есть ли в нем пропуски, обработайте их. Про все признаки укажите, какого они типа"
   ]
  },
  {
   "cell_type": "code",
   "execution_count": 1,
   "metadata": {},
   "outputs": [],
   "source": [
    "import pandas as pd\n",
    "import numpy as np\n",
    "import matplotlib.pyplot as plt\n",
    "%matplotlib inline"
   ]
  },
  {
   "cell_type": "code",
   "execution_count": 2,
   "metadata": {},
   "outputs": [],
   "source": [
    "vel = pd.read_csv('velfinvarik2.csv', delimiter=';')\n"
   ]
  },
  {
   "cell_type": "code",
   "execution_count": 3,
   "metadata": {},
   "outputs": [
    {
     "data": {
      "text/html": [
       "<div>\n",
       "<style scoped>\n",
       "    .dataframe tbody tr th:only-of-type {\n",
       "        vertical-align: middle;\n",
       "    }\n",
       "\n",
       "    .dataframe tbody tr th {\n",
       "        vertical-align: top;\n",
       "    }\n",
       "\n",
       "    .dataframe thead th {\n",
       "        text-align: right;\n",
       "    }\n",
       "</style>\n",
       "<table border=\"1\" class=\"dataframe\">\n",
       "  <thead>\n",
       "    <tr style=\"text-align: right;\">\n",
       "      <th></th>\n",
       "      <th>datetime</th>\n",
       "      <th>season</th>\n",
       "      <th>holiday</th>\n",
       "      <th>workingday</th>\n",
       "      <th>weather</th>\n",
       "      <th>temp</th>\n",
       "      <th>atemp</th>\n",
       "      <th>humidity</th>\n",
       "      <th>windspeed</th>\n",
       "      <th>casual</th>\n",
       "      <th>registered</th>\n",
       "      <th>count</th>\n",
       "    </tr>\n",
       "  </thead>\n",
       "  <tbody>\n",
       "    <tr>\n",
       "      <th>0</th>\n",
       "      <td>01.01.2011 0:00</td>\n",
       "      <td>1</td>\n",
       "      <td>0</td>\n",
       "      <td>0.0</td>\n",
       "      <td>1</td>\n",
       "      <td>9.84</td>\n",
       "      <td>14.395</td>\n",
       "      <td>81</td>\n",
       "      <td>0.0000</td>\n",
       "      <td>3</td>\n",
       "      <td>13</td>\n",
       "      <td>16</td>\n",
       "    </tr>\n",
       "    <tr>\n",
       "      <th>1</th>\n",
       "      <td>01.01.2011 1:00</td>\n",
       "      <td>1</td>\n",
       "      <td>0</td>\n",
       "      <td>0.0</td>\n",
       "      <td>1</td>\n",
       "      <td>9.02</td>\n",
       "      <td>13.635</td>\n",
       "      <td>80</td>\n",
       "      <td>0.0000</td>\n",
       "      <td>8</td>\n",
       "      <td>32</td>\n",
       "      <td>40</td>\n",
       "    </tr>\n",
       "    <tr>\n",
       "      <th>2</th>\n",
       "      <td>01.01.2011 2:00</td>\n",
       "      <td>1</td>\n",
       "      <td>0</td>\n",
       "      <td>0.0</td>\n",
       "      <td>1</td>\n",
       "      <td>9.02</td>\n",
       "      <td>13.635</td>\n",
       "      <td>80</td>\n",
       "      <td>0.0000</td>\n",
       "      <td>5</td>\n",
       "      <td>27</td>\n",
       "      <td>32</td>\n",
       "    </tr>\n",
       "    <tr>\n",
       "      <th>3</th>\n",
       "      <td>01.01.2011 3:00</td>\n",
       "      <td>1</td>\n",
       "      <td>0</td>\n",
       "      <td>0.0</td>\n",
       "      <td>1</td>\n",
       "      <td>9.84</td>\n",
       "      <td>14.395</td>\n",
       "      <td>75</td>\n",
       "      <td>0.0000</td>\n",
       "      <td>3</td>\n",
       "      <td>10</td>\n",
       "      <td>13</td>\n",
       "    </tr>\n",
       "    <tr>\n",
       "      <th>4</th>\n",
       "      <td>01.01.2011 4:00</td>\n",
       "      <td>1</td>\n",
       "      <td>0</td>\n",
       "      <td>0.0</td>\n",
       "      <td>1</td>\n",
       "      <td>9.84</td>\n",
       "      <td>14.395</td>\n",
       "      <td>75</td>\n",
       "      <td>0.0000</td>\n",
       "      <td>0</td>\n",
       "      <td>1</td>\n",
       "      <td>1</td>\n",
       "    </tr>\n",
       "    <tr>\n",
       "      <th>...</th>\n",
       "      <td>...</td>\n",
       "      <td>...</td>\n",
       "      <td>...</td>\n",
       "      <td>...</td>\n",
       "      <td>...</td>\n",
       "      <td>...</td>\n",
       "      <td>...</td>\n",
       "      <td>...</td>\n",
       "      <td>...</td>\n",
       "      <td>...</td>\n",
       "      <td>...</td>\n",
       "      <td>...</td>\n",
       "    </tr>\n",
       "    <tr>\n",
       "      <th>5417</th>\n",
       "      <td>19.12.2011 19:00</td>\n",
       "      <td>4</td>\n",
       "      <td>0</td>\n",
       "      <td>1.0</td>\n",
       "      <td>2</td>\n",
       "      <td>14.76</td>\n",
       "      <td>17.425</td>\n",
       "      <td>53</td>\n",
       "      <td>11.0014</td>\n",
       "      <td>17</td>\n",
       "      <td>234</td>\n",
       "      <td>251</td>\n",
       "    </tr>\n",
       "    <tr>\n",
       "      <th>5418</th>\n",
       "      <td>19.12.2011 20:00</td>\n",
       "      <td>4</td>\n",
       "      <td>0</td>\n",
       "      <td>1.0</td>\n",
       "      <td>1</td>\n",
       "      <td>16.40</td>\n",
       "      <td>20.455</td>\n",
       "      <td>40</td>\n",
       "      <td>11.0014</td>\n",
       "      <td>9</td>\n",
       "      <td>197</td>\n",
       "      <td>206</td>\n",
       "    </tr>\n",
       "    <tr>\n",
       "      <th>5419</th>\n",
       "      <td>19.12.2011 21:00</td>\n",
       "      <td>4</td>\n",
       "      <td>0</td>\n",
       "      <td>1.0</td>\n",
       "      <td>2</td>\n",
       "      <td>14.76</td>\n",
       "      <td>17.425</td>\n",
       "      <td>53</td>\n",
       "      <td>8.9981</td>\n",
       "      <td>15</td>\n",
       "      <td>112</td>\n",
       "      <td>127</td>\n",
       "    </tr>\n",
       "    <tr>\n",
       "      <th>5420</th>\n",
       "      <td>19.12.2011 22:00</td>\n",
       "      <td>4</td>\n",
       "      <td>0</td>\n",
       "      <td>1.0</td>\n",
       "      <td>2</td>\n",
       "      <td>14.76</td>\n",
       "      <td>17.425</td>\n",
       "      <td>57</td>\n",
       "      <td>11.0014</td>\n",
       "      <td>12</td>\n",
       "      <td>95</td>\n",
       "      <td>107</td>\n",
       "    </tr>\n",
       "    <tr>\n",
       "      <th>5421</th>\n",
       "      <td>19.12.2011 23:00</td>\n",
       "      <td>4</td>\n",
       "      <td>0</td>\n",
       "      <td>1.0</td>\n",
       "      <td>1</td>\n",
       "      <td>14.76</td>\n",
       "      <td>17.425</td>\n",
       "      <td>53</td>\n",
       "      <td>11.0014</td>\n",
       "      <td>10</td>\n",
       "      <td>50</td>\n",
       "      <td>60</td>\n",
       "    </tr>\n",
       "  </tbody>\n",
       "</table>\n",
       "<p>5422 rows × 12 columns</p>\n",
       "</div>"
      ],
      "text/plain": [
       "              datetime  season  holiday  workingday  weather   temp   atemp  \\\n",
       "0      01.01.2011 0:00       1        0         0.0        1   9.84  14.395   \n",
       "1      01.01.2011 1:00       1        0         0.0        1   9.02  13.635   \n",
       "2      01.01.2011 2:00       1        0         0.0        1   9.02  13.635   \n",
       "3      01.01.2011 3:00       1        0         0.0        1   9.84  14.395   \n",
       "4      01.01.2011 4:00       1        0         0.0        1   9.84  14.395   \n",
       "...                ...     ...      ...         ...      ...    ...     ...   \n",
       "5417  19.12.2011 19:00       4        0         1.0        2  14.76  17.425   \n",
       "5418  19.12.2011 20:00       4        0         1.0        1  16.40  20.455   \n",
       "5419  19.12.2011 21:00       4        0         1.0        2  14.76  17.425   \n",
       "5420  19.12.2011 22:00       4        0         1.0        2  14.76  17.425   \n",
       "5421  19.12.2011 23:00       4        0         1.0        1  14.76  17.425   \n",
       "\n",
       "      humidity  windspeed  casual  registered  count  \n",
       "0           81     0.0000       3          13     16  \n",
       "1           80     0.0000       8          32     40  \n",
       "2           80     0.0000       5          27     32  \n",
       "3           75     0.0000       3          10     13  \n",
       "4           75     0.0000       0           1      1  \n",
       "...        ...        ...     ...         ...    ...  \n",
       "5417        53    11.0014      17         234    251  \n",
       "5418        40    11.0014       9         197    206  \n",
       "5419        53     8.9981      15         112    127  \n",
       "5420        57    11.0014      12          95    107  \n",
       "5421        53    11.0014      10          50     60  \n",
       "\n",
       "[5422 rows x 12 columns]"
      ]
     },
     "execution_count": 3,
     "metadata": {},
     "output_type": "execute_result"
    }
   ],
   "source": [
    "vel"
   ]
  },
  {
   "cell_type": "code",
   "execution_count": 4,
   "metadata": {},
   "outputs": [
    {
     "name": "stdout",
     "output_type": "stream",
     "text": [
      "<class 'pandas.core.frame.DataFrame'>\n",
      "RangeIndex: 5422 entries, 0 to 5421\n",
      "Data columns (total 12 columns):\n",
      "datetime      5422 non-null object\n",
      "season        5422 non-null int64\n",
      "holiday       5422 non-null int64\n",
      "workingday    5406 non-null float64\n",
      "weather       5422 non-null int64\n",
      "temp          5422 non-null float64\n",
      "atemp         5422 non-null float64\n",
      "humidity      5422 non-null int64\n",
      "windspeed     5422 non-null float64\n",
      "casual        5422 non-null int64\n",
      "registered    5422 non-null int64\n",
      "count         5422 non-null int64\n",
      "dtypes: float64(4), int64(7), object(1)\n",
      "memory usage: 508.4+ KB\n"
     ]
    },
    {
     "data": {
      "text/plain": [
       "(5422, 12)"
      ]
     },
     "execution_count": 4,
     "metadata": {},
     "output_type": "execute_result"
    }
   ],
   "source": [
    "vel.info()\n",
    "vel.shape"
   ]
  },
  {
   "cell_type": "code",
   "execution_count": 5,
   "metadata": {},
   "outputs": [
    {
     "name": "stdout",
     "output_type": "stream",
     "text": [
      "              datetime  season  holiday  workingday  weather   temp   atemp  \\\n",
      "0      01.01.2011 0:00       1        0         0.0        1   9.84  14.395   \n",
      "1      01.01.2011 1:00       1        0         0.0        1   9.02  13.635   \n",
      "2      01.01.2011 2:00       1        0         0.0        1   9.02  13.635   \n",
      "3      01.01.2011 3:00       1        0         0.0        1   9.84  14.395   \n",
      "4      01.01.2011 4:00       1        0         0.0        1   9.84  14.395   \n",
      "...                ...     ...      ...         ...      ...    ...     ...   \n",
      "5417  19.12.2011 19:00       4        0         1.0        2  14.76  17.425   \n",
      "5418  19.12.2011 20:00       4        0         1.0        1  16.40  20.455   \n",
      "5419  19.12.2011 21:00       4        0         1.0        2  14.76  17.425   \n",
      "5420  19.12.2011 22:00       4        0         1.0        2  14.76  17.425   \n",
      "5421  19.12.2011 23:00       4        0         1.0        1  14.76  17.425   \n",
      "\n",
      "      humidity  windspeed  casual  registered  count  \n",
      "0           81     0.0000       3          13     16  \n",
      "1           80     0.0000       8          32     40  \n",
      "2           80     0.0000       5          27     32  \n",
      "3           75     0.0000       3          10     13  \n",
      "4           75     0.0000       0           1      1  \n",
      "...        ...        ...     ...         ...    ...  \n",
      "5417        53    11.0014      17         234    251  \n",
      "5418        40    11.0014       9         197    206  \n",
      "5419        53     8.9981      15         112    127  \n",
      "5420        57    11.0014      12          95    107  \n",
      "5421        53    11.0014      10          50     60  \n",
      "\n",
      "[5406 rows x 12 columns]\n",
      "(5406, 12)\n"
     ]
    }
   ],
   "source": [
    "velno = vel.copy()\n",
    "velno = vel.dropna(how='any')\n",
    "print(velno)\n",
    "print(velno.shape)"
   ]
  },
  {
   "cell_type": "markdown",
   "metadata": {},
   "source": [
    "Было 5422, стло 5406 - следовательно убралось 16 "
   ]
  },
  {
   "cell_type": "markdown",
   "metadata": {},
   "source": [
    "## Задание 2 (1 балл)"
   ]
  },
  {
   "cell_type": "markdown",
   "metadata": {},
   "source": [
    "Вычислите среднее значение арендованных велосипедов в весенние и летние дни, в которые температура была выше 20, а ощущаемая температура выше 25. "
   ]
  },
  {
   "cell_type": "code",
   "execution_count": 8,
   "metadata": {},
   "outputs": [
    {
     "data": {
      "text/plain": [
       "122.2253999030538"
      ]
     },
     "execution_count": 8,
     "metadata": {},
     "output_type": "execute_result"
    }
   ],
   "source": [
    "velno[(velno['season'] == 1) | (velno['season'] == 2) & (velno['temp'] > 20) & (velno['atemp'] > 25)] ['count'].mean()"
   ]
  },
  {
   "cell_type": "markdown",
   "metadata": {},
   "source": [
    "## Задание 3 (1 балл)"
   ]
  },
  {
   "cell_type": "markdown",
   "metadata": {},
   "source": [
    "Постройте матрицу корреляций. Найдите признаки с самой слабой взаимосвязью. Напишите их, укажите коэффициент корреляции."
   ]
  },
  {
   "cell_type": "code",
   "execution_count": 9,
   "metadata": {},
   "outputs": [],
   "source": [
    "corr = velno.corr()"
   ]
  },
  {
   "cell_type": "code",
   "execution_count": 33,
   "metadata": {},
   "outputs": [
    {
     "name": "stdout",
     "output_type": "stream",
     "text": [
      "humidity holiday 0.001926373146583603\n",
      "holiday atemp -0.0029476026502621776\n",
      "temp holiday 0.003981143635638636\n",
      "temp windspeed 0.004804295730776041\n",
      "count workingday -0.006368600443898678\n",
      "workingday windspeed -0.007252838247337046\n",
      "count holiday 0.010493952622517242\n",
      "registered holiday -0.017414524331295988\n",
      "windspeed holiday -0.018946949112268296\n",
      "weather season -0.020516350725619293\n"
     ]
    }
   ],
   "source": [
    "corr_ravel = corr.values.ravel()\n",
    "ind = np.abs(corr_ravel).argsort()\n",
    "corr_ravel[ind][:20]\n",
    "unr_ind = np.unravel_index(ind, corr.shape)\n",
    "corr_names = np.concatenate((corr.columns[unr_ind[0]][:, np.newaxis], corr.columns[unr_ind[1]][:, np.newaxis]), axis=1)\n",
    "for i in range(0, 20, 2):\n",
    "    print(*corr_names[i], corr_ravel[ind[i]])"
   ]
  },
  {
   "cell_type": "markdown",
   "metadata": {},
   "source": [
    "## Задание 4 (0,5 балла)"
   ]
  },
  {
   "cell_type": "markdown",
   "metadata": {},
   "source": [
    "Рассчитайте все описательные статистики, которые мы проходили, для признака weather(отберите только те, которые подходят). Напишите краткую интерпретацию."
   ]
  },
  {
   "cell_type": "code",
   "execution_count": 49,
   "metadata": {},
   "outputs": [
    {
     "name": "stdout",
     "output_type": "stream",
     "text": [
      "Mode = 1\n",
      "Mean = 1.426378098409175\n",
      "Std = 0.6475169227504878\n",
      "Minimum = 1\n",
      "Maximum = 3\n"
     ]
    }
   ],
   "source": [
    "d = velno.weather\n",
    "print(\"Mode = {}\\nMean = {}\\nStd = {}\\nMinimum = {}\\nMaximum = {}\".format(*d.mode(), d.mean(), d.std(), d.min(), d.max()))"
   ]
  },
  {
   "cell_type": "markdown",
   "metadata": {},
   "source": [
    "## Задание 5 (1,5 балла)"
   ]
  },
  {
   "cell_type": "markdown",
   "metadata": {},
   "source": [
    "Постройте круговую диаграмму, которая будет отображать соотношение общего количества аренд по 4 сезонам (то есть, 4 сектора). Секторы раскрасьте своими цветами на выбор, добавьте название диаграммы, легенду, подписи. Проинтерпретируйте получившийся результат. Не забудьте первоначально вычислить сумму всех аренд для каждого сезона."
   ]
  },
  {
   "cell_type": "code",
   "execution_count": 55,
   "metadata": {},
   "outputs": [
    {
     "name": "stderr",
     "output_type": "stream",
     "text": [
      "c:\\program files\\python37\\lib\\site-packages\\matplotlib\\text.py:1150: FutureWarning: elementwise comparison failed; returning scalar instead, but in the future will perform elementwise comparison\n",
      "  if s != self._text:\n"
     ]
    },
    {
     "data": {
      "text/plain": [
       "([<matplotlib.patches.Wedge at 0x1fa1ec4ab70>,\n",
       "  <matplotlib.patches.Wedge at 0x1fa1ec5e240>,\n",
       "  <matplotlib.patches.Wedge at 0x1fa1ec5e748>,\n",
       "  <matplotlib.patches.Wedge at 0x1fa1ec5ec50>],\n",
       " [Text(1.0208232947141984, 0.40978018615942025, '[1]'),\n",
       "  Text(-0.08609531679915625, 1.0966255497777047, '[2]'),\n",
       "  Text(-1.0063637245979637, -0.4441081555356915, '[3]'),\n",
       "  Text(0.7244774125653385, -0.8277272972921894, '[4]')])"
      ]
     },
     "execution_count": 55,
     "metadata": {},
     "output_type": "execute_result"
    },
    {
     "data": {
      "image/png": "[encoded data removed]",
      "text/plain": [
       "<Figure size 432x288 with 1 Axes>"
      ]
     },
     "metadata": {},
     "output_type": "display_data"
    }
   ],
   "source": [
    "#YOUR CODE\n",
    "data = velno.groupby('season')\n",
    "plt.pie(data['count'].sum(), labels=data.season.unique())"
   ]
  },
  {
   "cell_type": "markdown",
   "metadata": {},
   "source": [
    "## Задание 6 (2 балла)"
   ]
  },
  {
   "cell_type": "markdown",
   "metadata": {},
   "source": [
    "Предскажите количество зарегистрированных пользователей по остальным признакам (кроме арендованных велосипедов и незарегистрированных пользователей).Постройте модель, найдите R квадрат, MSE, проинтерпретируйте полученные результаты, оцените качество вашей модели"
   ]
  },
  {
   "cell_type": "code",
   "execution_count": 81,
   "metadata": {},
   "outputs": [
    {
     "name": "stdout",
     "output_type": "stream",
     "text": [
      "R^2: 0.9573174975440114\n",
      "MSE: 505.59038854768914\n",
      "MAPE: 0.8871277931041142\n"
     ]
    }
   ],
   "source": [
    "#YOUR CODE\n",
    "from sklearn.linear_model import LinearRegression\n",
    "from sklearn.metrics import mean_squared_error\n",
    "\n",
    "def mape(y, y_pred):\n",
    "    return (np.abs(y - y_pred)[y != 0] / y[y != 0]).sum() / y.shape[0]\n",
    "\n",
    "reg = LinearRegression()\n",
    "X = velno.drop(['registered', 'casual', 'datetime'], axis=1).values\n",
    "y = velno.registered.values\n",
    "reg.fit(X, y)\n",
    "\n",
    "print('R^2:', reg.score(X, y))\n",
    "print(\"MSE:\", mean_squared_error(y, reg.predict(X)))\n",
    "print(\"MAPE:\", mape(y, reg.predict(X)))"
   ]
  },
  {
   "cell_type": "markdown",
   "metadata": {},
   "source": [
    "Модель вышла очень посредственная. Это мы можем понять из-за того, что средняя относительная ошибка равна 88%"
   ]
  },
  {
   "cell_type": "markdown",
   "metadata": {},
   "source": [
    "## Задание 7 (1 балл)"
   ]
  },
  {
   "cell_type": "markdown",
   "metadata": {},
   "source": [
    "Дано натуральное число (через инпут пользователь вводит). Выведите его вторую с конца цифру. Подсказка: вспомните математику и остатки от деления:))"
   ]
  },
  {
   "cell_type": "code",
   "execution_count": 57,
   "metadata": {},
   "outputs": [
    {
     "name": "stdout",
     "output_type": "stream",
     "text": [
      "542364572\n",
      "7\n"
     ]
    }
   ],
   "source": [
    "#YOUR CODE\n",
    "a = int(input())\n",
    "a //= 10\n",
    "print(a % 10)"
   ]
  },
  {
   "cell_type": "markdown",
   "metadata": {},
   "source": [
    "## Задание 8 (2 балла)"
   ]
  },
  {
   "cell_type": "markdown",
   "metadata": {},
   "source": [
    "Предложите пользователю ввести любое натуральное число. Выведите в результат факториал этого числа. Не используйте никакие встроенные в питон функции для вычисления факториала. Решите задачу с помощью цикла for"
   ]
  },
  {
   "cell_type": "code",
   "execution_count": 61,
   "metadata": {},
   "outputs": [
    {
     "name": "stdout",
     "output_type": "stream",
     "text": [
      "5\n",
      "120\n"
     ]
    }
   ],
   "source": [
    "#YOUR CODE\n",
    "a = int(input())\n",
    "prod = 1\n",
    "for i in range(1, a + 1):\n",
    "    prod *= i\n",
    "print(prod)"
   ]
  }
 ],
 "metadata": {
  "kernelspec": {
   "display_name": "Python 3",
   "language": "python",
   "name": "python3"
  },
  "language_info": {
   "codemirror_mode": {
    "name": "ipython",
    "version": 3
   },
   "file_extension": ".py",
   "mimetype": "text/x-python",
   "name": "python",
   "nbconvert_exporter": "python",
   "pygments_lexer": "ipython3",
   "version": "3.7.0"
  }
 },
 "nbformat": 4,
 "nbformat_minor": 4
}
