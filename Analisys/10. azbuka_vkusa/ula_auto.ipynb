{
 "cells": [
  {
   "cell_type": "markdown",
   "metadata": {},
   "source": [
    "<center><H1><b> Анализ данных с сайта </b></H1>\n",
    "\n"
   ]
  },
  {
   "cell_type": "markdown",
   "metadata": {},
   "source": [
    "## 1. Парсинг сайта"
   ]
  },
  {
   "cell_type": "code",
   "execution_count": 1,
   "metadata": {
    "pycharm": {
     "is_executing": false
    }
   },
   "outputs": [],
   "source": [
    "#загрузка необходимых библиотек\n",
    "import requests\n",
    "from bs4 import BeautifulSoup\n",
    "import csv\n",
    "import pandas as pd\n",
    "import numpy as np\n",
    "import matplotlib.pyplot as plt\n",
    "import seaborn as sns\n",
    "import matplotlib\n",
    "from sklearn import preprocessing\n",
    "from sklearn.cluster import KMeans\n",
    "from scipy.cluster.hierarchy import dendrogram, linkage, fcluster\n",
    "matplotlib.style.use('ggplot')\n",
    "%matplotlib inline \n",
    "pd.set_option('display.float_format', lambda x: '%.1f' % x)"
   ]
  },
  {
   "cell_type": "code",
   "execution_count": 2,
   "metadata": {},
   "outputs": [],
   "source": [
    "def write_parse_data(data):\n",
    "    with open('auto.csv', 'a') as f:\n",
    "        writer = csv.writer(f)\n",
    "        writer.writerow((data['name'],\n",
    "                         data['url'],\n",
    "                         data['run'],\n",
    "                         data['tank_volume'],\n",
    "                         data['horsepower'],\n",
    "                         data['year'],\n",
    "                         data['car_type'],\n",
    "                         data['transmission_type'],\n",
    "                         data['retailer'],\n",
    "                         data['phone'],\n",
    "                         data['town'],\n",
    "                         data['cur_price'],\n",
    "                         data['first_price'],\n",
    "                         data['diff_price_down']))"
   ]
  },
  {
   "cell_type": "code",
   "execution_count": 3,
   "metadata": {},
   "outputs": [],
   "source": [
    "def get_text(car, tag, class_name):\n",
    "    div = car.find(tag, class_= class_name)\n",
    "    return div.getText(\"//\")"
   ]
  },
  {
   "cell_type": "code",
   "execution_count": 717,
   "metadata": {},
   "outputs": [],
   "source": [
    "def get_page_data(html):\n",
    "    soup = BeautifulSoup(html, 'lxml')\n",
    "    divs = soup.find('div', {\"id\": \"serp\"})\n",
    "    cars = divs.find_all('div', class_='SerpSnippet_snippetContent__d8CHK')\n",
    "    for car in cars:\n",
    "        try:\n",
    "            div = car.find('a', class_='SerpSnippet_name__3F7Yu SerpSnippet_titleText__1Ex8A blackLink')\n",
    "            name = div.attrs['title']\n",
    "        except:\n",
    "            name = ''\n",
    "        try:\n",
    "            div = car.find('a', class_='SerpSnippet_photoWrapper__3W9J4')\n",
    "            url = div.attrs['href']\n",
    "        except:\n",
    "            url = ''\n",
    "        try:\n",
    "            div = get_text(car, 'div', 'SerpSnippet_info__3_y7m')\n",
    "            run, tank_volume, horsepower, year, car_type, transmission_type = div.split('//')\n",
    "        except:\n",
    "            run, tank_volume, horsepower, year, car_type, transmission_type = ['' for i in range(6)]\n",
    "        try:\n",
    "            div = get_text(car, 'div', 'SerpSnippet_bottomInfo__1zRMv')\n",
    "            retailer, phone, temp_field, town = div.split('//')\n",
    "        except:\n",
    "            retailer, phone, temp_field, town = ['' for i in range(4)]\n",
    "        try:\n",
    "            div = get_text(car, 'div', 'SerpSnippet_topInfoRight__pG1ha')\n",
    "            cur_price = int(div.split('//')[0].replace(\" \", \"\"))\n",
    "            if len(div.split('//')) > 2:\n",
    "                first_price = int(div.split('//')[1].replace(\"\\u2009\", \"\"))\n",
    "                diff_price_down = int( div.split('//')[-1].replace(\"\\u2009\", \"\"))\n",
    "            elif len(div.split('//')) > 1:\n",
    "                first_price = int(div.split('//')[1].replace(\"\\u2009\", \"\"))\n",
    "                diff_price_down = 0\n",
    "            else:\n",
    "                first_price, diff_price_down = 0, 0 \n",
    "                \n",
    "        except:\n",
    "            cur_price, first_price, diff_price_down = 0, 0, 0\n",
    "\n",
    "        data = {\n",
    "            'name':name,\n",
    "            'url':url,\n",
    "            'run':run,\n",
    "            'tank_volume':tank_volume,\n",
    "            'horsepower':horsepower,\n",
    "            'year':year,\n",
    "            'car_type':car_type,\n",
    "            'transmission_type':transmission_type,\n",
    "            'retailer':retailer,\n",
    "            'phone':phone,\n",
    "            'town':town,\n",
    "            'cur_price':cur_price,\n",
    "            'first_price':first_price,\n",
    "            'diff_price_down':diff_price_down\n",
    "       }\n",
    "        write_parse_data(data)"
   ]
  },
  {
   "cell_type": "code",
   "execution_count": 725,
   "metadata": {},
   "outputs": [],
   "source": [
    "def parse_main():\n",
    "    base_url = \"https://auto.youla.ru/\"\n",
    "    sort_part = 'moskva/cars/'\n",
    "    page_part = \"?page=\"\n",
    "    for i in range(1,900):\n",
    "        url = base_url + sort_part  + page_part + str(i) + '#serp'\n",
    "        response = requests.get(url)\n",
    "        html = response.text\n",
    "        get_page_data(html)\n",
    "        print(i, url)"
   ]
  },
  {
   "cell_type": "code",
   "execution_count": 724,
   "metadata": {},
   "outputs": [
    {
     "name": "stdout",
     "output_type": "stream",
     "text": [
      "522 https://auto.youla.ru/moskva/cars/?page=522#serp\n",
      "523 https://auto.youla.ru/moskva/cars/?page=523#serp\n",
      "524 https://auto.youla.ru/moskva/cars/?page=524#serp\n",
      "525 https://auto.youla.ru/moskva/cars/?page=525#serp\n",
      "526 https://auto.youla.ru/moskva/cars/?page=526#serp\n",
      "527 https://auto.youla.ru/moskva/cars/?page=527#serp\n",
      "528 https://auto.youla.ru/moskva/cars/?page=528#serp\n",
      "529 https://auto.youla.ru/moskva/cars/?page=529#serp\n",
      "530 https://auto.youla.ru/moskva/cars/?page=530#serp\n",
      "531 https://auto.youla.ru/moskva/cars/?page=531#serp\n",
      "532 https://auto.youla.ru/moskva/cars/?page=532#serp\n",
      "533 https://auto.youla.ru/moskva/cars/?page=533#serp\n",
      "534 https://auto.youla.ru/moskva/cars/?page=534#serp\n",
      "535 https://auto.youla.ru/moskva/cars/?page=535#serp\n",
      "536 https://auto.youla.ru/moskva/cars/?page=536#serp\n",
      "537 https://auto.youla.ru/moskva/cars/?page=537#serp\n",
      "538 https://auto.youla.ru/moskva/cars/?page=538#serp\n",
      "539 https://auto.youla.ru/moskva/cars/?page=539#serp\n",
      "540 https://auto.youla.ru/moskva/cars/?page=540#serp\n",
      "541 https://auto.youla.ru/moskva/cars/?page=541#serp\n",
      "542 https://auto.youla.ru/moskva/cars/?page=542#serp\n",
      "543 https://auto.youla.ru/moskva/cars/?page=543#serp\n",
      "544 https://auto.youla.ru/moskva/cars/?page=544#serp\n",
      "545 https://auto.youla.ru/moskva/cars/?page=545#serp\n",
      "546 https://auto.youla.ru/moskva/cars/?page=546#serp\n",
      "547 https://auto.youla.ru/moskva/cars/?page=547#serp\n",
      "548 https://auto.youla.ru/moskva/cars/?page=548#serp\n",
      "549 https://auto.youla.ru/moskva/cars/?page=549#serp\n",
      "550 https://auto.youla.ru/moskva/cars/?page=550#serp\n",
      "551 https://auto.youla.ru/moskva/cars/?page=551#serp\n",
      "552 https://auto.youla.ru/moskva/cars/?page=552#serp\n",
      "553 https://auto.youla.ru/moskva/cars/?page=553#serp\n",
      "554 https://auto.youla.ru/moskva/cars/?page=554#serp\n",
      "555 https://auto.youla.ru/moskva/cars/?page=555#serp\n",
      "556 https://auto.youla.ru/moskva/cars/?page=556#serp\n",
      "557 https://auto.youla.ru/moskva/cars/?page=557#serp\n",
      "558 https://auto.youla.ru/moskva/cars/?page=558#serp\n",
      "559 https://auto.youla.ru/moskva/cars/?page=559#serp\n",
      "560 https://auto.youla.ru/moskva/cars/?page=560#serp\n",
      "561 https://auto.youla.ru/moskva/cars/?page=561#serp\n",
      "562 https://auto.youla.ru/moskva/cars/?page=562#serp\n",
      "563 https://auto.youla.ru/moskva/cars/?page=563#serp\n",
      "564 https://auto.youla.ru/moskva/cars/?page=564#serp\n",
      "565 https://auto.youla.ru/moskva/cars/?page=565#serp\n",
      "566 https://auto.youla.ru/moskva/cars/?page=566#serp\n",
      "567 https://auto.youla.ru/moskva/cars/?page=567#serp\n",
      "568 https://auto.youla.ru/moskva/cars/?page=568#serp\n",
      "569 https://auto.youla.ru/moskva/cars/?page=569#serp\n",
      "570 https://auto.youla.ru/moskva/cars/?page=570#serp\n",
      "571 https://auto.youla.ru/moskva/cars/?page=571#serp\n",
      "572 https://auto.youla.ru/moskva/cars/?page=572#serp\n",
      "573 https://auto.youla.ru/moskva/cars/?page=573#serp\n",
      "574 https://auto.youla.ru/moskva/cars/?page=574#serp\n",
      "575 https://auto.youla.ru/moskva/cars/?page=575#serp\n",
      "576 https://auto.youla.ru/moskva/cars/?page=576#serp\n",
      "577 https://auto.youla.ru/moskva/cars/?page=577#serp\n",
      "578 https://auto.youla.ru/moskva/cars/?page=578#serp\n",
      "579 https://auto.youla.ru/moskva/cars/?page=579#serp\n",
      "580 https://auto.youla.ru/moskva/cars/?page=580#serp\n",
      "581 https://auto.youla.ru/moskva/cars/?page=581#serp\n",
      "582 https://auto.youla.ru/moskva/cars/?page=582#serp\n",
      "583 https://auto.youla.ru/moskva/cars/?page=583#serp\n",
      "584 https://auto.youla.ru/moskva/cars/?page=584#serp\n",
      "585 https://auto.youla.ru/moskva/cars/?page=585#serp\n",
      "586 https://auto.youla.ru/moskva/cars/?page=586#serp\n",
      "587 https://auto.youla.ru/moskva/cars/?page=587#serp\n",
      "588 https://auto.youla.ru/moskva/cars/?page=588#serp\n",
      "589 https://auto.youla.ru/moskva/cars/?page=589#serp\n",
      "590 https://auto.youla.ru/moskva/cars/?page=590#serp\n",
      "591 https://auto.youla.ru/moskva/cars/?page=591#serp\n",
      "592 https://auto.youla.ru/moskva/cars/?page=592#serp\n",
      "593 https://auto.youla.ru/moskva/cars/?page=593#serp\n",
      "594 https://auto.youla.ru/moskva/cars/?page=594#serp\n",
      "595 https://auto.youla.ru/moskva/cars/?page=595#serp\n",
      "596 https://auto.youla.ru/moskva/cars/?page=596#serp\n",
      "597 https://auto.youla.ru/moskva/cars/?page=597#serp\n",
      "598 https://auto.youla.ru/moskva/cars/?page=598#serp\n",
      "599 https://auto.youla.ru/moskva/cars/?page=599#serp\n",
      "600 https://auto.youla.ru/moskva/cars/?page=600#serp\n",
      "601 https://auto.youla.ru/moskva/cars/?page=601#serp\n",
      "602 https://auto.youla.ru/moskva/cars/?page=602#serp\n",
      "603 https://auto.youla.ru/moskva/cars/?page=603#serp\n",
      "604 https://auto.youla.ru/moskva/cars/?page=604#serp\n",
      "605 https://auto.youla.ru/moskva/cars/?page=605#serp\n",
      "606 https://auto.youla.ru/moskva/cars/?page=606#serp\n",
      "607 https://auto.youla.ru/moskva/cars/?page=607#serp\n",
      "608 https://auto.youla.ru/moskva/cars/?page=608#serp\n",
      "609 https://auto.youla.ru/moskva/cars/?page=609#serp\n",
      "610 https://auto.youla.ru/moskva/cars/?page=610#serp\n",
      "611 https://auto.youla.ru/moskva/cars/?page=611#serp\n",
      "612 https://auto.youla.ru/moskva/cars/?page=612#serp\n",
      "613 https://auto.youla.ru/moskva/cars/?page=613#serp\n",
      "614 https://auto.youla.ru/moskva/cars/?page=614#serp\n",
      "615 https://auto.youla.ru/moskva/cars/?page=615#serp\n",
      "616 https://auto.youla.ru/moskva/cars/?page=616#serp\n",
      "617 https://auto.youla.ru/moskva/cars/?page=617#serp\n",
      "618 https://auto.youla.ru/moskva/cars/?page=618#serp\n",
      "619 https://auto.youla.ru/moskva/cars/?page=619#serp\n",
      "620 https://auto.youla.ru/moskva/cars/?page=620#serp\n",
      "621 https://auto.youla.ru/moskva/cars/?page=621#serp\n",
      "622 https://auto.youla.ru/moskva/cars/?page=622#serp\n",
      "623 https://auto.youla.ru/moskva/cars/?page=623#serp\n",
      "624 https://auto.youla.ru/moskva/cars/?page=624#serp\n",
      "625 https://auto.youla.ru/moskva/cars/?page=625#serp\n",
      "626 https://auto.youla.ru/moskva/cars/?page=626#serp\n",
      "627 https://auto.youla.ru/moskva/cars/?page=627#serp\n",
      "628 https://auto.youla.ru/moskva/cars/?page=628#serp\n",
      "629 https://auto.youla.ru/moskva/cars/?page=629#serp\n",
      "630 https://auto.youla.ru/moskva/cars/?page=630#serp\n",
      "631 https://auto.youla.ru/moskva/cars/?page=631#serp\n",
      "632 https://auto.youla.ru/moskva/cars/?page=632#serp\n",
      "633 https://auto.youla.ru/moskva/cars/?page=633#serp\n",
      "634 https://auto.youla.ru/moskva/cars/?page=634#serp\n",
      "635 https://auto.youla.ru/moskva/cars/?page=635#serp\n",
      "636 https://auto.youla.ru/moskva/cars/?page=636#serp\n",
      "637 https://auto.youla.ru/moskva/cars/?page=637#serp\n",
      "638 https://auto.youla.ru/moskva/cars/?page=638#serp\n",
      "639 https://auto.youla.ru/moskva/cars/?page=639#serp\n",
      "640 https://auto.youla.ru/moskva/cars/?page=640#serp\n",
      "641 https://auto.youla.ru/moskva/cars/?page=641#serp\n",
      "642 https://auto.youla.ru/moskva/cars/?page=642#serp\n",
      "643 https://auto.youla.ru/moskva/cars/?page=643#serp\n",
      "644 https://auto.youla.ru/moskva/cars/?page=644#serp\n",
      "645 https://auto.youla.ru/moskva/cars/?page=645#serp\n",
      "646 https://auto.youla.ru/moskva/cars/?page=646#serp\n",
      "647 https://auto.youla.ru/moskva/cars/?page=647#serp\n",
      "648 https://auto.youla.ru/moskva/cars/?page=648#serp\n",
      "649 https://auto.youla.ru/moskva/cars/?page=649#serp\n",
      "650 https://auto.youla.ru/moskva/cars/?page=650#serp\n",
      "651 https://auto.youla.ru/moskva/cars/?page=651#serp\n",
      "652 https://auto.youla.ru/moskva/cars/?page=652#serp\n",
      "653 https://auto.youla.ru/moskva/cars/?page=653#serp\n",
      "654 https://auto.youla.ru/moskva/cars/?page=654#serp\n",
      "655 https://auto.youla.ru/moskva/cars/?page=655#serp\n",
      "656 https://auto.youla.ru/moskva/cars/?page=656#serp\n",
      "657 https://auto.youla.ru/moskva/cars/?page=657#serp\n",
      "658 https://auto.youla.ru/moskva/cars/?page=658#serp\n",
      "659 https://auto.youla.ru/moskva/cars/?page=659#serp\n",
      "660 https://auto.youla.ru/moskva/cars/?page=660#serp\n",
      "661 https://auto.youla.ru/moskva/cars/?page=661#serp\n",
      "662 https://auto.youla.ru/moskva/cars/?page=662#serp\n",
      "663 https://auto.youla.ru/moskva/cars/?page=663#serp\n",
      "664 https://auto.youla.ru/moskva/cars/?page=664#serp\n",
      "665 https://auto.youla.ru/moskva/cars/?page=665#serp\n",
      "666 https://auto.youla.ru/moskva/cars/?page=666#serp\n",
      "667 https://auto.youla.ru/moskva/cars/?page=667#serp\n",
      "668 https://auto.youla.ru/moskva/cars/?page=668#serp\n",
      "669 https://auto.youla.ru/moskva/cars/?page=669#serp\n",
      "670 https://auto.youla.ru/moskva/cars/?page=670#serp\n",
      "671 https://auto.youla.ru/moskva/cars/?page=671#serp\n",
      "672 https://auto.youla.ru/moskva/cars/?page=672#serp\n",
      "673 https://auto.youla.ru/moskva/cars/?page=673#serp\n",
      "674 https://auto.youla.ru/moskva/cars/?page=674#serp\n",
      "675 https://auto.youla.ru/moskva/cars/?page=675#serp\n",
      "676 https://auto.youla.ru/moskva/cars/?page=676#serp\n"
     ]
    },
    {
     "name": "stdout",
     "output_type": "stream",
     "text": [
      "677 https://auto.youla.ru/moskva/cars/?page=677#serp\n",
      "678 https://auto.youla.ru/moskva/cars/?page=678#serp\n",
      "679 https://auto.youla.ru/moskva/cars/?page=679#serp\n",
      "680 https://auto.youla.ru/moskva/cars/?page=680#serp\n",
      "681 https://auto.youla.ru/moskva/cars/?page=681#serp\n",
      "682 https://auto.youla.ru/moskva/cars/?page=682#serp\n",
      "683 https://auto.youla.ru/moskva/cars/?page=683#serp\n",
      "684 https://auto.youla.ru/moskva/cars/?page=684#serp\n",
      "685 https://auto.youla.ru/moskva/cars/?page=685#serp\n",
      "686 https://auto.youla.ru/moskva/cars/?page=686#serp\n",
      "687 https://auto.youla.ru/moskva/cars/?page=687#serp\n",
      "688 https://auto.youla.ru/moskva/cars/?page=688#serp\n",
      "689 https://auto.youla.ru/moskva/cars/?page=689#serp\n",
      "690 https://auto.youla.ru/moskva/cars/?page=690#serp\n",
      "691 https://auto.youla.ru/moskva/cars/?page=691#serp\n",
      "692 https://auto.youla.ru/moskva/cars/?page=692#serp\n",
      "693 https://auto.youla.ru/moskva/cars/?page=693#serp\n",
      "694 https://auto.youla.ru/moskva/cars/?page=694#serp\n",
      "695 https://auto.youla.ru/moskva/cars/?page=695#serp\n",
      "696 https://auto.youla.ru/moskva/cars/?page=696#serp\n",
      "697 https://auto.youla.ru/moskva/cars/?page=697#serp\n",
      "698 https://auto.youla.ru/moskva/cars/?page=698#serp\n",
      "699 https://auto.youla.ru/moskva/cars/?page=699#serp\n",
      "700 https://auto.youla.ru/moskva/cars/?page=700#serp\n",
      "701 https://auto.youla.ru/moskva/cars/?page=701#serp\n",
      "702 https://auto.youla.ru/moskva/cars/?page=702#serp\n",
      "703 https://auto.youla.ru/moskva/cars/?page=703#serp\n",
      "704 https://auto.youla.ru/moskva/cars/?page=704#serp\n",
      "705 https://auto.youla.ru/moskva/cars/?page=705#serp\n",
      "706 https://auto.youla.ru/moskva/cars/?page=706#serp\n",
      "707 https://auto.youla.ru/moskva/cars/?page=707#serp\n",
      "708 https://auto.youla.ru/moskva/cars/?page=708#serp\n",
      "709 https://auto.youla.ru/moskva/cars/?page=709#serp\n",
      "710 https://auto.youla.ru/moskva/cars/?page=710#serp\n",
      "711 https://auto.youla.ru/moskva/cars/?page=711#serp\n",
      "712 https://auto.youla.ru/moskva/cars/?page=712#serp\n",
      "713 https://auto.youla.ru/moskva/cars/?page=713#serp\n",
      "714 https://auto.youla.ru/moskva/cars/?page=714#serp\n",
      "715 https://auto.youla.ru/moskva/cars/?page=715#serp\n",
      "716 https://auto.youla.ru/moskva/cars/?page=716#serp\n",
      "717 https://auto.youla.ru/moskva/cars/?page=717#serp\n",
      "718 https://auto.youla.ru/moskva/cars/?page=718#serp\n",
      "719 https://auto.youla.ru/moskva/cars/?page=719#serp\n",
      "720 https://auto.youla.ru/moskva/cars/?page=720#serp\n",
      "721 https://auto.youla.ru/moskva/cars/?page=721#serp\n",
      "722 https://auto.youla.ru/moskva/cars/?page=722#serp\n",
      "723 https://auto.youla.ru/moskva/cars/?page=723#serp\n",
      "724 https://auto.youla.ru/moskva/cars/?page=724#serp\n",
      "725 https://auto.youla.ru/moskva/cars/?page=725#serp\n",
      "726 https://auto.youla.ru/moskva/cars/?page=726#serp\n",
      "727 https://auto.youla.ru/moskva/cars/?page=727#serp\n",
      "728 https://auto.youla.ru/moskva/cars/?page=728#serp\n",
      "729 https://auto.youla.ru/moskva/cars/?page=729#serp\n",
      "730 https://auto.youla.ru/moskva/cars/?page=730#serp\n",
      "731 https://auto.youla.ru/moskva/cars/?page=731#serp\n",
      "732 https://auto.youla.ru/moskva/cars/?page=732#serp\n",
      "733 https://auto.youla.ru/moskva/cars/?page=733#serp\n",
      "734 https://auto.youla.ru/moskva/cars/?page=734#serp\n",
      "735 https://auto.youla.ru/moskva/cars/?page=735#serp\n",
      "736 https://auto.youla.ru/moskva/cars/?page=736#serp\n",
      "737 https://auto.youla.ru/moskva/cars/?page=737#serp\n",
      "738 https://auto.youla.ru/moskva/cars/?page=738#serp\n",
      "739 https://auto.youla.ru/moskva/cars/?page=739#serp\n",
      "740 https://auto.youla.ru/moskva/cars/?page=740#serp\n",
      "741 https://auto.youla.ru/moskva/cars/?page=741#serp\n",
      "742 https://auto.youla.ru/moskva/cars/?page=742#serp\n",
      "743 https://auto.youla.ru/moskva/cars/?page=743#serp\n",
      "744 https://auto.youla.ru/moskva/cars/?page=744#serp\n",
      "745 https://auto.youla.ru/moskva/cars/?page=745#serp\n",
      "746 https://auto.youla.ru/moskva/cars/?page=746#serp\n",
      "747 https://auto.youla.ru/moskva/cars/?page=747#serp\n",
      "748 https://auto.youla.ru/moskva/cars/?page=748#serp\n",
      "749 https://auto.youla.ru/moskva/cars/?page=749#serp\n",
      "750 https://auto.youla.ru/moskva/cars/?page=750#serp\n",
      "751 https://auto.youla.ru/moskva/cars/?page=751#serp\n",
      "752 https://auto.youla.ru/moskva/cars/?page=752#serp\n",
      "753 https://auto.youla.ru/moskva/cars/?page=753#serp\n",
      "754 https://auto.youla.ru/moskva/cars/?page=754#serp\n",
      "755 https://auto.youla.ru/moskva/cars/?page=755#serp\n",
      "756 https://auto.youla.ru/moskva/cars/?page=756#serp\n",
      "757 https://auto.youla.ru/moskva/cars/?page=757#serp\n",
      "758 https://auto.youla.ru/moskva/cars/?page=758#serp\n",
      "759 https://auto.youla.ru/moskva/cars/?page=759#serp\n",
      "760 https://auto.youla.ru/moskva/cars/?page=760#serp\n",
      "761 https://auto.youla.ru/moskva/cars/?page=761#serp\n",
      "762 https://auto.youla.ru/moskva/cars/?page=762#serp\n",
      "763 https://auto.youla.ru/moskva/cars/?page=763#serp\n",
      "764 https://auto.youla.ru/moskva/cars/?page=764#serp\n",
      "765 https://auto.youla.ru/moskva/cars/?page=765#serp\n",
      "766 https://auto.youla.ru/moskva/cars/?page=766#serp\n",
      "767 https://auto.youla.ru/moskva/cars/?page=767#serp\n",
      "768 https://auto.youla.ru/moskva/cars/?page=768#serp\n",
      "769 https://auto.youla.ru/moskva/cars/?page=769#serp\n",
      "770 https://auto.youla.ru/moskva/cars/?page=770#serp\n",
      "771 https://auto.youla.ru/moskva/cars/?page=771#serp\n",
      "772 https://auto.youla.ru/moskva/cars/?page=772#serp\n",
      "773 https://auto.youla.ru/moskva/cars/?page=773#serp\n",
      "774 https://auto.youla.ru/moskva/cars/?page=774#serp\n",
      "775 https://auto.youla.ru/moskva/cars/?page=775#serp\n",
      "776 https://auto.youla.ru/moskva/cars/?page=776#serp\n",
      "777 https://auto.youla.ru/moskva/cars/?page=777#serp\n",
      "778 https://auto.youla.ru/moskva/cars/?page=778#serp\n",
      "779 https://auto.youla.ru/moskva/cars/?page=779#serp\n",
      "780 https://auto.youla.ru/moskva/cars/?page=780#serp\n",
      "781 https://auto.youla.ru/moskva/cars/?page=781#serp\n",
      "782 https://auto.youla.ru/moskva/cars/?page=782#serp\n",
      "783 https://auto.youla.ru/moskva/cars/?page=783#serp\n",
      "784 https://auto.youla.ru/moskva/cars/?page=784#serp\n",
      "785 https://auto.youla.ru/moskva/cars/?page=785#serp\n",
      "786 https://auto.youla.ru/moskva/cars/?page=786#serp\n",
      "787 https://auto.youla.ru/moskva/cars/?page=787#serp\n",
      "788 https://auto.youla.ru/moskva/cars/?page=788#serp\n",
      "789 https://auto.youla.ru/moskva/cars/?page=789#serp\n",
      "790 https://auto.youla.ru/moskva/cars/?page=790#serp\n",
      "791 https://auto.youla.ru/moskva/cars/?page=791#serp\n",
      "792 https://auto.youla.ru/moskva/cars/?page=792#serp\n",
      "793 https://auto.youla.ru/moskva/cars/?page=793#serp\n",
      "794 https://auto.youla.ru/moskva/cars/?page=794#serp\n",
      "795 https://auto.youla.ru/moskva/cars/?page=795#serp\n",
      "796 https://auto.youla.ru/moskva/cars/?page=796#serp\n",
      "797 https://auto.youla.ru/moskva/cars/?page=797#serp\n",
      "798 https://auto.youla.ru/moskva/cars/?page=798#serp\n",
      "799 https://auto.youla.ru/moskva/cars/?page=799#serp\n",
      "800 https://auto.youla.ru/moskva/cars/?page=800#serp\n",
      "801 https://auto.youla.ru/moskva/cars/?page=801#serp\n",
      "802 https://auto.youla.ru/moskva/cars/?page=802#serp\n",
      "803 https://auto.youla.ru/moskva/cars/?page=803#serp\n",
      "804 https://auto.youla.ru/moskva/cars/?page=804#serp\n",
      "805 https://auto.youla.ru/moskva/cars/?page=805#serp\n",
      "806 https://auto.youla.ru/moskva/cars/?page=806#serp\n",
      "807 https://auto.youla.ru/moskva/cars/?page=807#serp\n",
      "808 https://auto.youla.ru/moskva/cars/?page=808#serp\n",
      "809 https://auto.youla.ru/moskva/cars/?page=809#serp\n",
      "810 https://auto.youla.ru/moskva/cars/?page=810#serp\n",
      "811 https://auto.youla.ru/moskva/cars/?page=811#serp\n",
      "812 https://auto.youla.ru/moskva/cars/?page=812#serp\n",
      "813 https://auto.youla.ru/moskva/cars/?page=813#serp\n",
      "814 https://auto.youla.ru/moskva/cars/?page=814#serp\n",
      "815 https://auto.youla.ru/moskva/cars/?page=815#serp\n",
      "816 https://auto.youla.ru/moskva/cars/?page=816#serp\n",
      "817 https://auto.youla.ru/moskva/cars/?page=817#serp\n",
      "818 https://auto.youla.ru/moskva/cars/?page=818#serp\n",
      "819 https://auto.youla.ru/moskva/cars/?page=819#serp\n",
      "820 https://auto.youla.ru/moskva/cars/?page=820#serp\n",
      "821 https://auto.youla.ru/moskva/cars/?page=821#serp\n",
      "822 https://auto.youla.ru/moskva/cars/?page=822#serp\n",
      "823 https://auto.youla.ru/moskva/cars/?page=823#serp\n",
      "824 https://auto.youla.ru/moskva/cars/?page=824#serp\n",
      "825 https://auto.youla.ru/moskva/cars/?page=825#serp\n",
      "826 https://auto.youla.ru/moskva/cars/?page=826#serp\n",
      "827 https://auto.youla.ru/moskva/cars/?page=827#serp\n",
      "828 https://auto.youla.ru/moskva/cars/?page=828#serp\n",
      "829 https://auto.youla.ru/moskva/cars/?page=829#serp\n",
      "830 https://auto.youla.ru/moskva/cars/?page=830#serp\n",
      "831 https://auto.youla.ru/moskva/cars/?page=831#serp\n"
     ]
    },
    {
     "name": "stdout",
     "output_type": "stream",
     "text": [
      "832 https://auto.youla.ru/moskva/cars/?page=832#serp\n",
      "833 https://auto.youla.ru/moskva/cars/?page=833#serp\n",
      "834 https://auto.youla.ru/moskva/cars/?page=834#serp\n",
      "835 https://auto.youla.ru/moskva/cars/?page=835#serp\n",
      "836 https://auto.youla.ru/moskva/cars/?page=836#serp\n",
      "837 https://auto.youla.ru/moskva/cars/?page=837#serp\n",
      "838 https://auto.youla.ru/moskva/cars/?page=838#serp\n",
      "839 https://auto.youla.ru/moskva/cars/?page=839#serp\n",
      "840 https://auto.youla.ru/moskva/cars/?page=840#serp\n",
      "841 https://auto.youla.ru/moskva/cars/?page=841#serp\n",
      "842 https://auto.youla.ru/moskva/cars/?page=842#serp\n",
      "843 https://auto.youla.ru/moskva/cars/?page=843#serp\n",
      "844 https://auto.youla.ru/moskva/cars/?page=844#serp\n",
      "845 https://auto.youla.ru/moskva/cars/?page=845#serp\n",
      "846 https://auto.youla.ru/moskva/cars/?page=846#serp\n",
      "847 https://auto.youla.ru/moskva/cars/?page=847#serp\n",
      "848 https://auto.youla.ru/moskva/cars/?page=848#serp\n",
      "849 https://auto.youla.ru/moskva/cars/?page=849#serp\n",
      "850 https://auto.youla.ru/moskva/cars/?page=850#serp\n",
      "851 https://auto.youla.ru/moskva/cars/?page=851#serp\n",
      "852 https://auto.youla.ru/moskva/cars/?page=852#serp\n",
      "853 https://auto.youla.ru/moskva/cars/?page=853#serp\n",
      "854 https://auto.youla.ru/moskva/cars/?page=854#serp\n",
      "855 https://auto.youla.ru/moskva/cars/?page=855#serp\n",
      "856 https://auto.youla.ru/moskva/cars/?page=856#serp\n",
      "857 https://auto.youla.ru/moskva/cars/?page=857#serp\n",
      "858 https://auto.youla.ru/moskva/cars/?page=858#serp\n",
      "859 https://auto.youla.ru/moskva/cars/?page=859#serp\n",
      "860 https://auto.youla.ru/moskva/cars/?page=860#serp\n",
      "861 https://auto.youla.ru/moskva/cars/?page=861#serp\n",
      "862 https://auto.youla.ru/moskva/cars/?page=862#serp\n",
      "863 https://auto.youla.ru/moskva/cars/?page=863#serp\n",
      "864 https://auto.youla.ru/moskva/cars/?page=864#serp\n",
      "865 https://auto.youla.ru/moskva/cars/?page=865#serp\n",
      "866 https://auto.youla.ru/moskva/cars/?page=866#serp\n",
      "867 https://auto.youla.ru/moskva/cars/?page=867#serp\n",
      "868 https://auto.youla.ru/moskva/cars/?page=868#serp\n",
      "869 https://auto.youla.ru/moskva/cars/?page=869#serp\n",
      "870 https://auto.youla.ru/moskva/cars/?page=870#serp\n",
      "871 https://auto.youla.ru/moskva/cars/?page=871#serp\n",
      "872 https://auto.youla.ru/moskva/cars/?page=872#serp\n",
      "873 https://auto.youla.ru/moskva/cars/?page=873#serp\n",
      "874 https://auto.youla.ru/moskva/cars/?page=874#serp\n",
      "875 https://auto.youla.ru/moskva/cars/?page=875#serp\n",
      "876 https://auto.youla.ru/moskva/cars/?page=876#serp\n",
      "877 https://auto.youla.ru/moskva/cars/?page=877#serp\n",
      "878 https://auto.youla.ru/moskva/cars/?page=878#serp\n",
      "879 https://auto.youla.ru/moskva/cars/?page=879#serp\n",
      "880 https://auto.youla.ru/moskva/cars/?page=880#serp\n",
      "881 https://auto.youla.ru/moskva/cars/?page=881#serp\n",
      "882 https://auto.youla.ru/moskva/cars/?page=882#serp\n",
      "883 https://auto.youla.ru/moskva/cars/?page=883#serp\n",
      "884 https://auto.youla.ru/moskva/cars/?page=884#serp\n",
      "885 https://auto.youla.ru/moskva/cars/?page=885#serp\n",
      "886 https://auto.youla.ru/moskva/cars/?page=886#serp\n",
      "887 https://auto.youla.ru/moskva/cars/?page=887#serp\n",
      "888 https://auto.youla.ru/moskva/cars/?page=888#serp\n",
      "889 https://auto.youla.ru/moskva/cars/?page=889#serp\n",
      "890 https://auto.youla.ru/moskva/cars/?page=890#serp\n",
      "891 https://auto.youla.ru/moskva/cars/?page=891#serp\n",
      "892 https://auto.youla.ru/moskva/cars/?page=892#serp\n",
      "893 https://auto.youla.ru/moskva/cars/?page=893#serp\n",
      "894 https://auto.youla.ru/moskva/cars/?page=894#serp\n",
      "895 https://auto.youla.ru/moskva/cars/?page=895#serp\n",
      "896 https://auto.youla.ru/moskva/cars/?page=896#serp\n",
      "897 https://auto.youla.ru/moskva/cars/?page=897#serp\n",
      "898 https://auto.youla.ru/moskva/cars/?page=898#serp\n",
      "899 https://auto.youla.ru/moskva/cars/?page=899#serp\n"
     ]
    }
   ],
   "source": [
    "parse_main()"
   ]
  },
  {
   "cell_type": "markdown",
   "metadata": {},
   "source": [
    "## 2. Описание, анализ и визуализация данных:"
   ]
  },
  {
   "cell_type": "markdown",
   "metadata": {},
   "source": [
    "В рассмотрении имеются следующие поля:\n",
    "- name: Название объявления (содержит брэнд автомобиля и состояние)\n",
    "- run: Пробег автомобиля\n",
    "- fuel: Расход и тип топлива\n",
    "- horsepower: Количество лошадиных сил\n",
    "- year: Год выпуска\n",
    "- car_type: Тип ('Седан', 'Хетчбэк' итп)\n",
    "- transmission_type: Тип коробки передач\n",
    "- retailer: Ритейлер\n",
    "- phone: Телефон\n",
    "- town: Город \n",
    "- cur_price: Текущая цена в объявлении о продаже\n",
    "- first_price: Начальная цена в объявлении\n",
    "- diff_price_down: Величина снижения цены\n",
    "\n",
    "Некоторые из получнных признаков являются избыточными, например телефон. Такие признаки можно превратить в бинарные признаки (очевидно, что наличие телефона в объявлении влиять на эффективность объявления о продаже авто).\n",
    "Поля brand и fuel получим из поля name"
   ]
  },
  {
   "cell_type": "code",
   "execution_count": 675,
   "metadata": {},
   "outputs": [],
   "source": [
    "dt = pd.read_csv('auto.csv', names=['name', 'url','run', 'fuel', 'horsepower', \n",
    "                                    'year','car_type', 'transmission_type', 'retailer', \n",
    "                                    'phone', 'town', 'cur_price', 'first_price', 'diff_price_down', ])"
   ]
  },
  {
   "cell_type": "code",
   "execution_count": 676,
   "metadata": {},
   "outputs": [
    {
     "data": {
      "text/plain": [
       "0"
      ]
     },
     "execution_count": 676,
     "metadata": {},
     "output_type": "execute_result"
    }
   ],
   "source": [
    "dt.phone.isna().sum()"
   ]
  },
  {
   "cell_type": "markdown",
   "metadata": {},
   "source": [
    "Предложений с незаполненным телефоном нет, поэтому эти данные не несут важную информацию о предложении => его можно удалить"
   ]
  },
  {
   "cell_type": "code",
   "execution_count": 677,
   "metadata": {},
   "outputs": [],
   "source": [
    "dt = dt.drop('phone', axis = 1)"
   ]
  },
  {
   "cell_type": "code",
   "execution_count": 678,
   "metadata": {},
   "outputs": [],
   "source": [
    "#заполним пропуски\n",
    "dt.fillna('', inplace = True)"
   ]
  },
  {
   "cell_type": "code",
   "execution_count": 679,
   "metadata": {},
   "outputs": [],
   "source": [
    "dt['brand'] = [name.split(' ')[0] for name in dt.name]\n",
    "dt['cylinder_volume'] = [name.split(', ')[0].split(' ')[0] for name in dt.fuel]\n",
    "dt['fuel'] = [name.split(', ')[-1] for name in dt.fuel]\n",
    "dt['year'] = [name.split(' г.')[0] for name in dt.year]\n",
    "dt['run'] = [run.split(' км')[0].replace(' ', '') for run in dt.run]\n",
    "dt['horsepower'] = [horsepower.split(' л.с.')[0] for horsepower in dt.horsepower]"
   ]
  },
  {
   "cell_type": "code",
   "execution_count": 680,
   "metadata": {},
   "outputs": [],
   "source": [
    "dt = dt.drop(['name', 'url', 'town'], axis = 1)"
   ]
  },
  {
   "cell_type": "code",
   "execution_count": 681,
   "metadata": {},
   "outputs": [],
   "source": [
    "rus_names = ['Филипп', 'Лена', 'Сергей', 'Александр', 'Денис',\n",
    "             'Дмитрий', 'Егор', 'Алик', 'Алишер', 'Коля', 'Джоник', 'Артем',\n",
    "             'Виталий', 'Давид', 'Тема', 'Виктор', 'Иван', 'Игорь', 'Павел',\n",
    "             'Иванов', 'Тамара', 'Дима', 'Юрий', 'Матвей', 'Алексей', 'Андрей',\n",
    "             'Николай', 'Вячеслав', 'Никита', 'Наталья', 'Ринат', 'Олег',\n",
    "             'Людмила', 'Татьяна',  'Михаил', 'Паша', 'Женя', 'Юлия', 'Евгений', \n",
    "             'Роман', 'Константин', 'Ака', 'Евгения', 'Наталия', 'Макс','Акмал', \n",
    "             'Максим', 'Кристина', 'Антон','Альберт', 'Савва', 'Вадим', 'Маргарита', \n",
    "             'Анна', 'Владимир', 'Дарья','Ольга', 'Самат', 'Семен','Али', 'Бек', \n",
    "             'Динара', 'Данил', 'Магомед', 'Юля', 'София', 'Таня', 'Аня',\n",
    "             'Илья',  'Виктория', 'Жанна', 'Руслан', 'Алена','Валентина',\n",
    "             'Екатерина', 'Валентин','Владислав','Жора', 'Ирина','Тимур', \n",
    "             'Елена', 'Эльвира',  'Василий','Вектор', 'Кирилл', 'Марина']\n",
    "\n",
    "dt.loc[dt.retailer.isin(rus_names), 'retailer'] = 'ФЛ'\n",
    "dt.loc[dt.retailer != 'ФЛ' , 'retailer'] = 'ЮЛ'"
   ]
  },
  {
   "cell_type": "code",
   "execution_count": 682,
   "metadata": {},
   "outputs": [],
   "source": [
    "brand_price = pd.DataFrame(dt.groupby(['brand'])['cur_price'].mean().sort_values(ascending = False))\n",
    "dt.loc[dt.brand.isin(brand_price[brand_price.cur_price > 1500000].index), 'brand'] = 'Luxe'\n",
    "dt.loc[dt.brand.isin(brand_price[brand_price.cur_price < 300000].index), 'brand'] = 'Low_cost'\n",
    "dt.loc[~dt.brand.isin(['Luxe', 'Low_cost']), 'brand'] = 'General'"
   ]
  },
  {
   "cell_type": "code",
   "execution_count": 684,
   "metadata": {},
   "outputs": [],
   "source": [
    "def cast_as_float( col):\n",
    "    dt.loc[dt[col] == '', col] = '0'\n",
    "    dt[col] = pd.to_numeric(dt[col], errors='coerce')\n",
    "    return f'{col} done'"
   ]
  },
  {
   "cell_type": "code",
   "execution_count": 685,
   "metadata": {},
   "outputs": [
    {
     "data": {
      "text/plain": [
       "['cylinder_volume done', 'run done', 'horsepower done', 'year done']"
      ]
     },
     "execution_count": 685,
     "metadata": {},
     "output_type": "execute_result"
    }
   ],
   "source": [
    "columns = ['cylinder_volume', 'run', 'horsepower', 'year']\n",
    "[cast_as_float(col) for col in columns]"
   ]
  },
  {
   "cell_type": "code",
   "execution_count": 686,
   "metadata": {},
   "outputs": [],
   "source": [
    "dt.run.fillna(dt.run.mean(), inplace = True)"
   ]
  },
  {
   "cell_type": "code",
   "execution_count": 687,
   "metadata": {},
   "outputs": [],
   "source": [
    "dt.loc[dt.fuel == '' , 'fuel'] = dt.fuel.mode()[0]\n",
    "dt.loc[dt.car_type == '' , 'car_type'] = dt.car_type.mode()[0]\n",
    "dt.loc[dt.transmission_type == '' , 'transmission_type'] = dt.transmission_type.mode()[0]"
   ]
  },
  {
   "cell_type": "code",
   "execution_count": 688,
   "metadata": {},
   "outputs": [],
   "source": [
    "dt.loc[dt.transmission_type == 'Механика' , 'transmission_type'] = 'Механика'\n",
    "dt.loc[dt.transmission_type.isin(['Автомат', 'Вариатор', 'Робот']) , 'transmission_type'] = 'Автомат'"
   ]
  },
  {
   "cell_type": "code",
   "execution_count": 689,
   "metadata": {},
   "outputs": [
    {
     "data": {
      "text/html": [
       "<div>\n",
       "<style scoped>\n",
       "    .dataframe tbody tr th:only-of-type {\n",
       "        vertical-align: middle;\n",
       "    }\n",
       "\n",
       "    .dataframe tbody tr th {\n",
       "        vertical-align: top;\n",
       "    }\n",
       "\n",
       "    .dataframe thead th {\n",
       "        text-align: right;\n",
       "    }\n",
       "</style>\n",
       "<table border=\"1\" class=\"dataframe\">\n",
       "  <thead>\n",
       "    <tr style=\"text-align: right;\">\n",
       "      <th></th>\n",
       "      <th>run</th>\n",
       "      <th>fuel</th>\n",
       "      <th>horsepower</th>\n",
       "      <th>year</th>\n",
       "      <th>car_type</th>\n",
       "      <th>transmission_type</th>\n",
       "      <th>retailer</th>\n",
       "      <th>cur_price</th>\n",
       "      <th>first_price</th>\n",
       "      <th>diff_price_down</th>\n",
       "      <th>brand</th>\n",
       "      <th>cylinder_volume</th>\n",
       "    </tr>\n",
       "  </thead>\n",
       "  <tbody>\n",
       "    <tr>\n",
       "      <th>0</th>\n",
       "      <td>105000.0000</td>\n",
       "      <td>Бензин</td>\n",
       "      <td>81</td>\n",
       "      <td>2008</td>\n",
       "      <td>Хетчбэк</td>\n",
       "      <td>Механика</td>\n",
       "      <td>ФЛ</td>\n",
       "      <td>40000</td>\n",
       "      <td>0</td>\n",
       "      <td>0</td>\n",
       "      <td>General</td>\n",
       "      <td>1.6000</td>\n",
       "    </tr>\n",
       "    <tr>\n",
       "      <th>1</th>\n",
       "      <td>240000.0000</td>\n",
       "      <td>Бензин</td>\n",
       "      <td>86</td>\n",
       "      <td>2008</td>\n",
       "      <td>Седан</td>\n",
       "      <td>Механика</td>\n",
       "      <td>ЮЛ</td>\n",
       "      <td>96000</td>\n",
       "      <td>0</td>\n",
       "      <td>0</td>\n",
       "      <td>General</td>\n",
       "      <td>1.5000</td>\n",
       "    </tr>\n",
       "    <tr>\n",
       "      <th>2</th>\n",
       "      <td>60000.0000</td>\n",
       "      <td>Бензин</td>\n",
       "      <td>81</td>\n",
       "      <td>2011</td>\n",
       "      <td>Хетчбэк</td>\n",
       "      <td>Механика</td>\n",
       "      <td>ЮЛ</td>\n",
       "      <td>190000</td>\n",
       "      <td>0</td>\n",
       "      <td>0</td>\n",
       "      <td>General</td>\n",
       "      <td>1.6000</td>\n",
       "    </tr>\n",
       "    <tr>\n",
       "      <th>3</th>\n",
       "      <td>137807.0000</td>\n",
       "      <td>Бензин</td>\n",
       "      <td>64</td>\n",
       "      <td>1983</td>\n",
       "      <td>Седан</td>\n",
       "      <td>Механика</td>\n",
       "      <td>ЮЛ</td>\n",
       "      <td>45000</td>\n",
       "      <td>0</td>\n",
       "      <td>0</td>\n",
       "      <td>General</td>\n",
       "      <td>1.2000</td>\n",
       "    </tr>\n",
       "    <tr>\n",
       "      <th>4</th>\n",
       "      <td>157000.0000</td>\n",
       "      <td>Бензин</td>\n",
       "      <td>129</td>\n",
       "      <td>2007</td>\n",
       "      <td>Седан</td>\n",
       "      <td>Механика</td>\n",
       "      <td>ФЛ</td>\n",
       "      <td>59999</td>\n",
       "      <td>0</td>\n",
       "      <td>0</td>\n",
       "      <td>General</td>\n",
       "      <td>2.0000</td>\n",
       "    </tr>\n",
       "  </tbody>\n",
       "</table>\n",
       "</div>"
      ],
      "text/plain": [
       "          run    fuel  horsepower  year car_type transmission_type retailer  \\\n",
       "0 105000.0000  Бензин          81  2008  Хетчбэк          Механика       ФЛ   \n",
       "1 240000.0000  Бензин          86  2008    Седан          Механика       ЮЛ   \n",
       "2  60000.0000  Бензин          81  2011  Хетчбэк          Механика       ЮЛ   \n",
       "3 137807.0000  Бензин          64  1983    Седан          Механика       ЮЛ   \n",
       "4 157000.0000  Бензин         129  2007    Седан          Механика       ФЛ   \n",
       "\n",
       "   cur_price  first_price  diff_price_down    brand  cylinder_volume  \n",
       "0      40000            0                0  General           1.6000  \n",
       "1      96000            0                0  General           1.5000  \n",
       "2     190000            0                0  General           1.6000  \n",
       "3      45000            0                0  General           1.2000  \n",
       "4      59999            0                0  General           2.0000  "
      ]
     },
     "execution_count": 689,
     "metadata": {},
     "output_type": "execute_result"
    }
   ],
   "source": [
    "dt.head()"
   ]
  },
  {
   "cell_type": "code",
   "execution_count": 690,
   "metadata": {},
   "outputs": [
    {
     "data": {
      "text/html": [
       "<div>\n",
       "<style scoped>\n",
       "    .dataframe tbody tr th:only-of-type {\n",
       "        vertical-align: middle;\n",
       "    }\n",
       "\n",
       "    .dataframe tbody tr th {\n",
       "        vertical-align: top;\n",
       "    }\n",
       "\n",
       "    .dataframe thead th {\n",
       "        text-align: right;\n",
       "    }\n",
       "</style>\n",
       "<table border=\"1\" class=\"dataframe\">\n",
       "  <thead>\n",
       "    <tr style=\"text-align: right;\">\n",
       "      <th></th>\n",
       "      <th>run</th>\n",
       "      <th>horsepower</th>\n",
       "      <th>year</th>\n",
       "      <th>cur_price</th>\n",
       "      <th>first_price</th>\n",
       "      <th>diff_price_down</th>\n",
       "      <th>cylinder_volume</th>\n",
       "    </tr>\n",
       "  </thead>\n",
       "  <tbody>\n",
       "    <tr>\n",
       "      <th>count</th>\n",
       "      <td>36000.0000</td>\n",
       "      <td>36000.0000</td>\n",
       "      <td>36000.0000</td>\n",
       "      <td>36000.0000</td>\n",
       "      <td>36000.0000</td>\n",
       "      <td>36000.0000</td>\n",
       "      <td>36000.0000</td>\n",
       "    </tr>\n",
       "    <tr>\n",
       "      <th>mean</th>\n",
       "      <td>86222.4334</td>\n",
       "      <td>173.6468</td>\n",
       "      <td>2013.2501</td>\n",
       "      <td>1345107.1134</td>\n",
       "      <td>820553.3152</td>\n",
       "      <td>24051.5255</td>\n",
       "      <td>2.2244</td>\n",
       "    </tr>\n",
       "    <tr>\n",
       "      <th>std</th>\n",
       "      <td>63318.5034</td>\n",
       "      <td>81.5873</td>\n",
       "      <td>26.2525</td>\n",
       "      <td>1754076.2843</td>\n",
       "      <td>1871520.5078</td>\n",
       "      <td>79165.1976</td>\n",
       "      <td>0.9402</td>\n",
       "    </tr>\n",
       "    <tr>\n",
       "      <th>min</th>\n",
       "      <td>0.0000</td>\n",
       "      <td>0.0000</td>\n",
       "      <td>0.0000</td>\n",
       "      <td>16000.0000</td>\n",
       "      <td>0.0000</td>\n",
       "      <td>0.0000</td>\n",
       "      <td>0.0000</td>\n",
       "    </tr>\n",
       "    <tr>\n",
       "      <th>25%</th>\n",
       "      <td>45030.0000</td>\n",
       "      <td>122.0000</td>\n",
       "      <td>2012.0000</td>\n",
       "      <td>555000.0000</td>\n",
       "      <td>0.0000</td>\n",
       "      <td>0.0000</td>\n",
       "      <td>1.6000</td>\n",
       "    </tr>\n",
       "    <tr>\n",
       "      <th>50%</th>\n",
       "      <td>79396.0000</td>\n",
       "      <td>152.0000</td>\n",
       "      <td>2014.0000</td>\n",
       "      <td>950000.0000</td>\n",
       "      <td>139000.0000</td>\n",
       "      <td>5000.0000</td>\n",
       "      <td>2.0000</td>\n",
       "    </tr>\n",
       "    <tr>\n",
       "      <th>75%</th>\n",
       "      <td>113256.0000</td>\n",
       "      <td>190.0000</td>\n",
       "      <td>2016.0000</td>\n",
       "      <td>1490000.0000</td>\n",
       "      <td>1160000.0000</td>\n",
       "      <td>25000.0000</td>\n",
       "      <td>2.5000</td>\n",
       "    </tr>\n",
       "    <tr>\n",
       "      <th>max</th>\n",
       "      <td>985685.0000</td>\n",
       "      <td>642.0000</td>\n",
       "      <td>2019.0000</td>\n",
       "      <td>18000000.0000</td>\n",
       "      <td>14900000.0000</td>\n",
       "      <td>1498000.0000</td>\n",
       "      <td>6.7000</td>\n",
       "    </tr>\n",
       "  </tbody>\n",
       "</table>\n",
       "</div>"
      ],
      "text/plain": [
       "              run  horsepower       year     cur_price   first_price  \\\n",
       "count  36000.0000  36000.0000 36000.0000    36000.0000    36000.0000   \n",
       "mean   86222.4334    173.6468  2013.2501  1345107.1134   820553.3152   \n",
       "std    63318.5034     81.5873    26.2525  1754076.2843  1871520.5078   \n",
       "min        0.0000      0.0000     0.0000    16000.0000        0.0000   \n",
       "25%    45030.0000    122.0000  2012.0000   555000.0000        0.0000   \n",
       "50%    79396.0000    152.0000  2014.0000   950000.0000   139000.0000   \n",
       "75%   113256.0000    190.0000  2016.0000  1490000.0000  1160000.0000   \n",
       "max   985685.0000    642.0000  2019.0000 18000000.0000 14900000.0000   \n",
       "\n",
       "       diff_price_down  cylinder_volume  \n",
       "count       36000.0000       36000.0000  \n",
       "mean        24051.5255           2.2244  \n",
       "std         79165.1976           0.9402  \n",
       "min             0.0000           0.0000  \n",
       "25%             0.0000           1.6000  \n",
       "50%          5000.0000           2.0000  \n",
       "75%         25000.0000           2.5000  \n",
       "max       1498000.0000           6.7000  "
      ]
     },
     "execution_count": 690,
     "metadata": {},
     "output_type": "execute_result"
    }
   ],
   "source": [
    "#описательная статистика\n",
    "dt.describe()"
   ]
  },
  {
   "cell_type": "code",
   "execution_count": 691,
   "metadata": {},
   "outputs": [
    {
     "name": "stdout",
     "output_type": "stream",
     "text": [
      "В выборке рассмотрены офферы на продажу 36000 машин\n"
     ]
    }
   ],
   "source": [
    "print(f'В выборке рассмотрены офферы на продажу {dt.shape[0]} машин')"
   ]
  },
  {
   "cell_type": "code",
   "execution_count": 692,
   "metadata": {},
   "outputs": [],
   "source": [
    "def millions(x, pos):\n",
    "    return '{:,.1f}M'.format(x*1e-6)\n",
    "fmtr = matplotlib.ticker.FuncFormatter(millions)"
   ]
  },
  {
   "cell_type": "code",
   "execution_count": 693,
   "metadata": {},
   "outputs": [],
   "source": [
    "colors = {\n",
    "    'cur_price':'#bb5ee6',\n",
    "    'fuel':'mako_r', \n",
    "    'transmission_type':'binary_r',\n",
    "    'retailer':'Blues', \n",
    "    'town':'PuBuGn_r', \n",
    "    'brand':'OrRd',\n",
    "    'car_type':'plasma_r'\n",
    "}"
   ]
  },
  {
   "cell_type": "code",
   "execution_count": 694,
   "metadata": {},
   "outputs": [
    {
     "name": "stdout",
     "output_type": "stream",
     "text": [
      "Медианная стоимость машин составила 950000\n"
     ]
    },
    {
     "data": {
      "image/png": "[encoded data removed]",
      "text/plain": [
       "<Figure size 1584x432 with 2 Axes>"
      ]
     },
     "metadata": {
      "needs_background": "light"
     },
     "output_type": "display_data"
    }
   ],
   "source": [
    "print(f'Медианная стоимость машин составила {int(dt.cur_price.median())}')\n",
    "\n",
    "fig, axes = plt.subplots(nrows=1, ncols=2, figsize=(22,6))\n",
    "\n",
    "plt.subplot(1,2,1)\n",
    "ax = sns.kdeplot(dt.cur_price, shade=True, color = colors['cur_price'])\n",
    "_ = ax.xaxis.set_major_formatter(fmtr)\n",
    "\n",
    "plt.subplot(1,2,2)\n",
    "ax = sns.boxplot(y=dt.cur_price, color = colors['cur_price'])\n",
    "_ = ax.yaxis.set_major_formatter(fmtr)\n",
    "\n",
    "fig.suptitle(\"Расспределение цен автомобилей\",fontsize=25)\n",
    "plt.show()"
   ]
  },
  {
   "cell_type": "markdown",
   "metadata": {},
   "source": [
    "Распределение цен слишком сильно смещено влево, поэтому есть смысл далее исследовать их логарифмы"
   ]
  },
  {
   "cell_type": "code",
   "execution_count": 695,
   "metadata": {},
   "outputs": [
    {
     "data": {
      "image/png": "[encoded data removed]",
      "text/plain": [
       "<Figure size 432x288 with 1 Axes>"
      ]
     },
     "metadata": {
      "needs_background": "light"
     },
     "output_type": "display_data"
    }
   ],
   "source": [
    "sns.kdeplot(np.log(dt.cur_price), shade=True, color = colors['cur_price'])\n",
    "plt.title('Распределение прологарифмированных цен')\n",
    "plt.show()"
   ]
  },
  {
   "cell_type": "markdown",
   "metadata": {},
   "source": [
    "Посмотрим на распределения категориальных признаков и их связь с ценами машин"
   ]
  },
  {
   "cell_type": "code",
   "execution_count": 696,
   "metadata": {
    "scrolled": false
   },
   "outputs": [
    {
     "data": {
      "image/png": "[encoded data removed]",
      "text/plain": [
       "<Figure size 1584x576 with 2 Axes>"
      ]
     },
     "metadata": {
      "needs_background": "light"
     },
     "output_type": "display_data"
    },
    {
     "data": {
      "image/png": "[encoded data removed]",
      "text/plain": [
       "<Figure size 1584x576 with 2 Axes>"
      ]
     },
     "metadata": {
      "needs_background": "light"
     },
     "output_type": "display_data"
    },
    {
     "data": {
      "image/png": "[encoded data removed]",
      "text/plain": [
       "<Figure size 1584x576 with 2 Axes>"
      ]
     },
     "metadata": {
      "needs_background": "light"
     },
     "output_type": "display_data"
    },
    {
     "data": {
      "image/png": "[encoded data removed]",
      "text/plain": [
       "<Figure size 1584x576 with 2 Axes>"
      ]
     },
     "metadata": {
      "needs_background": "light"
     },
     "output_type": "display_data"
    },
    {
     "data": {
      "image/png": "[encoded data removed]",
      "text/plain": [
       "<Figure size 1584x576 with 2 Axes>"
      ]
     },
     "metadata": {
      "needs_background": "light"
     },
     "output_type": "display_data"
    }
   ],
   "source": [
    "categorical_columns = dt.columns[dt.dtypes == 'object']\n",
    "\n",
    "for column in categorical_columns:\n",
    "    \n",
    "    columne_most_freq = dt[column].value_counts()[:10].sort_values(ascending=False).index\n",
    "    \n",
    "    if '' in columne_most_freq:\n",
    "        columne_most_freq = columne_most_freq.drop('')\n",
    "    \n",
    "    fig, axes = plt.subplots(nrows=1, ncols=2, figsize=(22,8))    \n",
    "    \n",
    "    plt.subplot(1,2,1)\n",
    "    plt.title(f'{column} Histogram')\n",
    "    sns.countplot(\n",
    "            dt[dt[column].isin(columne_most_freq)][column],\n",
    "            order=columne_most_freq,\n",
    "            palette=colors[column]\n",
    "    )\n",
    "\n",
    "    plt.subplot(1,2,2)\n",
    "    plt.title(f'{column} vs Log Price')\n",
    "    ax = sns.boxplot(\n",
    "            x=dt[dt[column].isin(columne_most_freq)][column], \n",
    "            y=np.log(dt[dt[column].isin(columne_most_freq)].cur_price), \n",
    "            order=columne_most_freq,\n",
    "            palette=colors[column]\n",
    "    )\n",
    "\n",
    "    plt.show()"
   ]
  },
  {
   "cell_type": "code",
   "execution_count": 697,
   "metadata": {},
   "outputs": [
    {
     "data": {
      "image/png": "[encoded data removed]",
      "text/plain": [
       "<Figure size 720x1440 with 6 Axes>"
      ]
     },
     "metadata": {
      "needs_background": "light"
     },
     "output_type": "display_data"
    }
   ],
   "source": [
    "def scatter(column,fig):\n",
    "    plt.subplot(7,2,fig)\n",
    "    ax = plt.scatter(\n",
    "        x=[price if 'price' not in column else np.log(price) for price in dt[dt[column] > 0][column]],\n",
    "        y=np.log(dt[dt[column] > 0].cur_price),\n",
    "        color = '#e30e51'\n",
    "    )\n",
    "    plt.title(f'{column} vs Log Price')\n",
    "    plt.title(f'{column} vs Log Price' if 'price' not in column else f'Log {column} vs Log Price')\n",
    "    plt.ylabel('Log Price')\n",
    "    plt.xlabel(column if 'price' not in column else f'Log {column}')\n",
    "\n",
    "plt.figure(figsize=(10,20))\n",
    "\n",
    "numerical_columns = dt.columns[dt.dtypes != 'object'].drop('cur_price')\n",
    "for i, column in enumerate(numerical_columns):\n",
    "    scatter(column, i + 1)\n",
    "plt.tight_layout()"
   ]
  },
  {
   "cell_type": "code",
   "execution_count": 707,
   "metadata": {},
   "outputs": [],
   "source": [
    "dt['fuel_label']= [dict(zip(['Бензин', 'Дизель', 'Гибрид'], range(3)))[fuel] for fuel in dt.fuel]\n",
    "dt['transmission_type_label'] = [dict(zip([ 'Механика', 'Автомат'], \n",
    "                    range(2)))[transmission_type] for transmission_type in dt.transmission_type]\n",
    "dt['retailer_label'] = [dict(zip(['ФЛ', 'ЮЛ'], range(2)))[retailer] for retailer in dt.retailer]"
   ]
  },
  {
   "cell_type": "markdown",
   "metadata": {},
   "source": [
    "Корреляционная матрица, которая позволяет увидить зависимость признаков друг от друга. Самая большая зависимость оказалась между текущей и начальной ценой, что логично, так же размер скидки сильно коррелирует с текущей ценой."
   ]
  },
  {
   "cell_type": "code",
   "execution_count": 699,
   "metadata": {},
   "outputs": [
    {
     "data": {
      "image/png": "[encoded data removed]",
      "text/plain": [
       "<Figure size 720x576 with 2 Axes>"
      ]
     },
     "metadata": {
      "needs_background": "light"
     },
     "output_type": "display_data"
    }
   ],
   "source": [
    "plt.figure(figsize = (10, 8))\n",
    "sns.heatmap(dt.corr(), annot = True, linewidths=.5, cmap = 'Blues')\n",
    "plt.show()"
   ]
  },
  {
   "cell_type": "markdown",
   "metadata": {},
   "source": [
    "## 3. Кластерный анализ"
   ]
  },
  {
   "cell_type": "markdown",
   "metadata": {},
   "source": [
    "Перейдем к класстерном анализу.  Для этого нам потребуется нормализовать имеющиеся численные данные. Категориальные данные потребуется захэшировать"
   ]
  },
  {
   "cell_type": "code",
   "execution_count": 705,
   "metadata": {},
   "outputs": [
    {
     "data": {
      "text/plain": [
       "Index(['run', 'horsepower', 'year', 'cylinder_volume', 'brand_label'], dtype='object')"
      ]
     },
     "execution_count": 705,
     "metadata": {},
     "output_type": "execute_result"
    }
   ],
   "source": [
    "numerical_columns = dt.columns[dt.dtypes != 'object'].drop(['cur_price', 'first_price', 'diff_price_down'])\n",
    "numerical_columns"
   ]
  },
  {
   "cell_type": "code",
   "execution_count": 706,
   "metadata": {},
   "outputs": [],
   "source": [
    "for column in ['run', 'horsepower', 'year']:\n",
    "    dt.loc[dt[column] < 1, column] = dt[column].mode()[0]\n"
   ]
  },
  {
   "cell_type": "code",
   "execution_count": 351,
   "metadata": {},
   "outputs": [
    {
     "data": {
      "text/html": [
       "<div>\n",
       "<style scoped>\n",
       "    .dataframe tbody tr th:only-of-type {\n",
       "        vertical-align: middle;\n",
       "    }\n",
       "\n",
       "    .dataframe tbody tr th {\n",
       "        vertical-align: top;\n",
       "    }\n",
       "\n",
       "    .dataframe thead th {\n",
       "        text-align: right;\n",
       "    }\n",
       "</style>\n",
       "<table border=\"1\" class=\"dataframe\">\n",
       "  <thead>\n",
       "    <tr style=\"text-align: right;\">\n",
       "      <th></th>\n",
       "      <th>run</th>\n",
       "      <th>horsepower</th>\n",
       "      <th>year</th>\n",
       "      <th>cylinder_volume</th>\n",
       "      <th>fuel_label</th>\n",
       "      <th>transmission_type_label</th>\n",
       "      <th>retailer_label</th>\n",
       "    </tr>\n",
       "  </thead>\n",
       "  <tbody>\n",
       "    <tr>\n",
       "      <th>0</th>\n",
       "      <td>0.1</td>\n",
       "      <td>0.1</td>\n",
       "      <td>1.0</td>\n",
       "      <td>0.2</td>\n",
       "      <td>0.0</td>\n",
       "      <td>0.0</td>\n",
       "      <td>0.0</td>\n",
       "    </tr>\n",
       "    <tr>\n",
       "      <th>1</th>\n",
       "      <td>0.2</td>\n",
       "      <td>0.1</td>\n",
       "      <td>1.0</td>\n",
       "      <td>0.2</td>\n",
       "      <td>0.0</td>\n",
       "      <td>0.0</td>\n",
       "      <td>1.0</td>\n",
       "    </tr>\n",
       "    <tr>\n",
       "      <th>2</th>\n",
       "      <td>0.1</td>\n",
       "      <td>0.1</td>\n",
       "      <td>1.0</td>\n",
       "      <td>0.2</td>\n",
       "      <td>0.0</td>\n",
       "      <td>0.0</td>\n",
       "      <td>1.0</td>\n",
       "    </tr>\n",
       "    <tr>\n",
       "      <th>3</th>\n",
       "      <td>0.1</td>\n",
       "      <td>0.1</td>\n",
       "      <td>1.0</td>\n",
       "      <td>0.2</td>\n",
       "      <td>0.0</td>\n",
       "      <td>0.0</td>\n",
       "      <td>1.0</td>\n",
       "    </tr>\n",
       "    <tr>\n",
       "      <th>4</th>\n",
       "      <td>0.2</td>\n",
       "      <td>0.2</td>\n",
       "      <td>1.0</td>\n",
       "      <td>0.3</td>\n",
       "      <td>0.0</td>\n",
       "      <td>0.0</td>\n",
       "      <td>0.0</td>\n",
       "    </tr>\n",
       "    <tr>\n",
       "      <th>...</th>\n",
       "      <td>...</td>\n",
       "      <td>...</td>\n",
       "      <td>...</td>\n",
       "      <td>...</td>\n",
       "      <td>...</td>\n",
       "      <td>...</td>\n",
       "      <td>...</td>\n",
       "    </tr>\n",
       "    <tr>\n",
       "      <th>35995</th>\n",
       "      <td>0.0</td>\n",
       "      <td>0.3</td>\n",
       "      <td>1.0</td>\n",
       "      <td>0.3</td>\n",
       "      <td>0.5</td>\n",
       "      <td>1.0</td>\n",
       "      <td>1.0</td>\n",
       "    </tr>\n",
       "    <tr>\n",
       "      <th>35996</th>\n",
       "      <td>0.1</td>\n",
       "      <td>0.5</td>\n",
       "      <td>1.0</td>\n",
       "      <td>0.7</td>\n",
       "      <td>0.5</td>\n",
       "      <td>1.0</td>\n",
       "      <td>1.0</td>\n",
       "    </tr>\n",
       "    <tr>\n",
       "      <th>35997</th>\n",
       "      <td>0.1</td>\n",
       "      <td>0.2</td>\n",
       "      <td>1.0</td>\n",
       "      <td>0.2</td>\n",
       "      <td>0.0</td>\n",
       "      <td>0.0</td>\n",
       "      <td>1.0</td>\n",
       "    </tr>\n",
       "    <tr>\n",
       "      <th>35998</th>\n",
       "      <td>0.2</td>\n",
       "      <td>0.3</td>\n",
       "      <td>1.0</td>\n",
       "      <td>0.3</td>\n",
       "      <td>0.5</td>\n",
       "      <td>1.0</td>\n",
       "      <td>1.0</td>\n",
       "    </tr>\n",
       "    <tr>\n",
       "      <th>35999</th>\n",
       "      <td>0.1</td>\n",
       "      <td>0.4</td>\n",
       "      <td>1.0</td>\n",
       "      <td>0.3</td>\n",
       "      <td>0.0</td>\n",
       "      <td>1.0</td>\n",
       "      <td>1.0</td>\n",
       "    </tr>\n",
       "  </tbody>\n",
       "</table>\n",
       "<p>36000 rows × 7 columns</p>\n",
       "</div>"
      ],
      "text/plain": [
       "       run  horsepower  year  cylinder_volume  fuel_label  \\\n",
       "0      0.1         0.1   1.0              0.2         0.0   \n",
       "1      0.2         0.1   1.0              0.2         0.0   \n",
       "2      0.1         0.1   1.0              0.2         0.0   \n",
       "3      0.1         0.1   1.0              0.2         0.0   \n",
       "4      0.2         0.2   1.0              0.3         0.0   \n",
       "...    ...         ...   ...              ...         ...   \n",
       "35995  0.0         0.3   1.0              0.3         0.5   \n",
       "35996  0.1         0.5   1.0              0.7         0.5   \n",
       "35997  0.1         0.2   1.0              0.2         0.0   \n",
       "35998  0.2         0.3   1.0              0.3         0.5   \n",
       "35999  0.1         0.4   1.0              0.3         0.0   \n",
       "\n",
       "       transmission_type_label  retailer_label  \n",
       "0                          0.0             0.0  \n",
       "1                          0.0             1.0  \n",
       "2                          0.0             1.0  \n",
       "3                          0.0             1.0  \n",
       "4                          0.0             0.0  \n",
       "...                        ...             ...  \n",
       "35995                      1.0             1.0  \n",
       "35996                      1.0             1.0  \n",
       "35997                      0.0             1.0  \n",
       "35998                      1.0             1.0  \n",
       "35999                      1.0             1.0  \n",
       "\n",
       "[36000 rows x 7 columns]"
      ]
     },
     "execution_count": 351,
     "metadata": {},
     "output_type": "execute_result"
    }
   ],
   "source": [
    "norm = preprocessing.MaxAbsScaler()\n",
    "norm.fit(dt[numerical_columns])\n",
    "X_num = norm.transform(dt[numerical_columns])\n",
    "X_num = pd.DataFrame(X_num, index=dt[numerical_columns].index, columns=dt[numerical_columns].columns)\n",
    "X_num"
   ]
  },
  {
   "cell_type": "code",
   "execution_count": 352,
   "metadata": {},
   "outputs": [],
   "source": [
    "link = linkage(X_num, 'ward', 'euclidean')"
   ]
  },
  {
   "cell_type": "code",
   "execution_count": 353,
   "metadata": {},
   "outputs": [
    {
     "data": {
      "text/plain": [
       "array([  4.28018817,   4.40385046,   5.30314204,   5.39699155,\n",
       "         5.88203326,   5.95420731,   6.1391084 ,   6.21977288,\n",
       "         6.72792135,   8.16131534,   8.41699152,  12.25014508,\n",
       "        13.53405737,  15.59042174,  18.10204213,  23.8356476 ,\n",
       "        33.33592878,  48.39825652,  52.32233157, 100.46678389])"
      ]
     },
     "execution_count": 353,
     "metadata": {},
     "output_type": "execute_result"
    }
   ],
   "source": [
    "link[-20:, 2]"
   ]
  },
  {
   "cell_type": "markdown",
   "metadata": {},
   "source": [
    "### Построение дендрограммы"
   ]
  },
  {
   "cell_type": "code",
   "execution_count": 354,
   "metadata": {},
   "outputs": [
    {
     "data": {
      "image/png": "[encoded data removed]",
      "text/plain": [
       "<Figure size 842.4x595.44 with 1 Axes>"
      ]
     },
     "metadata": {
      "needs_background": "light"
     },
     "output_type": "display_data"
    }
   ],
   "source": [
    "matplotlib.rcParams['lines.linewidth'] = 2\n",
    "\n",
    "fig, ax = plt.subplots()\n",
    "fig.set_size_inches(11.7, 8.27)\n",
    "\n",
    "dn = dendrogram(\n",
    "    link,\n",
    "    labels=X_num.index.tolist(),\n",
    "    truncate_mode='lastp',\n",
    ")\n",
    "ax.tick_params(labelsize=13)\n",
    "plt.title('Hierarchical Clustering Dendrogram (truncate)')\n",
    "plt.ylabel('index')\n",
    "plt.xlabel('distance (Ward)')\n",
    "plt.show()"
   ]
  },
  {
   "cell_type": "markdown",
   "metadata": {},
   "source": [
    "### Построение каменистой осыпи"
   ]
  },
  {
   "cell_type": "code",
   "execution_count": 355,
   "metadata": {},
   "outputs": [
    {
     "data": {
      "image/png": "[encoded data removed]",
      "text/plain": [
       "<Figure size 842.4x595.44 with 1 Axes>"
      ]
     },
     "metadata": {
      "needs_background": "light"
     },
     "output_type": "display_data"
    }
   ],
   "source": [
    "dist = link[-30:, 2]\n",
    "dist_rev = dist[::-1]\n",
    "idxs = range(1, len(dist) + 1)\n",
    "\n",
    "fig, ax = plt.subplots()\n",
    "fig.set_size_inches(11.7, 8.27)\n",
    "plt.plot(idxs, dist_rev, marker='o')\n",
    "plt.title('Distance between merged clusters')\n",
    "plt.xlabel('Step')\n",
    "plt.ylabel('Distance')\n",
    "plt.axhline(48.39825652, c='g', linestyle='dashed')\n",
    "plt.axhline(33.33592878, c='g', linestyle='dashed')\n",
    "plt.text(22, 50, '3 clusters', size = 15)\n",
    "plt.text(22, 37, '4 clusters', size = 15)\n",
    "plt.xticks(np.arange(min(idxs), max(idxs)+1, 1.0))\n",
    "plt.show()"
   ]
  },
  {
   "cell_type": "markdown",
   "metadata": {},
   "source": [
    "## Кластеризация методом k-means"
   ]
  },
  {
   "cell_type": "code",
   "execution_count": 356,
   "metadata": {},
   "outputs": [
    {
     "data": {
      "image/png": "[encoded data removed]",
      "text/plain": [
       "<Figure size 842.4x595.44 with 1 Axes>"
      ]
     },
     "metadata": {
      "needs_background": "light"
     },
     "output_type": "display_data"
    }
   ],
   "source": [
    "K = range(1, 16)\n",
    "models = [KMeans(n_clusters=k, random_state=42).fit(X_num.iloc[:, :-1]) for k in K]\n",
    "dist = [model.inertia_ for model in models]\n",
    "\n",
    "fig, ax = plt.subplots()\n",
    "fig.set_size_inches(11.7, 8.27)\n",
    "plt.plot(K, dist, marker='o')\n",
    "plt.xlabel('k')\n",
    "plt.ylabel('Sum of distances')\n",
    "plt.axvline(4, c='g', linestyle='dashed')\n",
    "plt.title('The Elbow Method showing the optimal k')\n",
    "plt.show()"
   ]
  },
  {
   "cell_type": "markdown",
   "metadata": {},
   "source": [
    "Исходя из построенных диаграмм, понятно, что логично разбить имеющиеся данные о машинах на 4 кластера"
   ]
  },
  {
   "cell_type": "code",
   "execution_count": 357,
   "metadata": {},
   "outputs": [
    {
     "data": {
      "text/html": [
       "<div>\n",
       "<style scoped>\n",
       "    .dataframe tbody tr th:only-of-type {\n",
       "        vertical-align: middle;\n",
       "    }\n",
       "\n",
       "    .dataframe tbody tr th {\n",
       "        vertical-align: top;\n",
       "    }\n",
       "\n",
       "    .dataframe thead th {\n",
       "        text-align: right;\n",
       "    }\n",
       "</style>\n",
       "<table border=\"1\" class=\"dataframe\">\n",
       "  <thead>\n",
       "    <tr style=\"text-align: right;\">\n",
       "      <th></th>\n",
       "      <th>run</th>\n",
       "      <th>horsepower</th>\n",
       "      <th>year</th>\n",
       "      <th>cylinder_volume</th>\n",
       "      <th>fuel_label</th>\n",
       "      <th>transmission_type_label</th>\n",
       "      <th>retailer_label</th>\n",
       "    </tr>\n",
       "    <tr>\n",
       "      <th>cluster</th>\n",
       "      <th></th>\n",
       "      <th></th>\n",
       "      <th></th>\n",
       "      <th></th>\n",
       "      <th></th>\n",
       "      <th></th>\n",
       "      <th></th>\n",
       "    </tr>\n",
       "  </thead>\n",
       "  <tbody>\n",
       "    <tr>\n",
       "      <th>0</th>\n",
       "      <td>0.1</td>\n",
       "      <td>0.3</td>\n",
       "      <td>1.0</td>\n",
       "      <td>0.3</td>\n",
       "      <td>0.0</td>\n",
       "      <td>1.0</td>\n",
       "      <td>1.0</td>\n",
       "    </tr>\n",
       "    <tr>\n",
       "      <th>1</th>\n",
       "      <td>0.1</td>\n",
       "      <td>0.2</td>\n",
       "      <td>1.0</td>\n",
       "      <td>0.2</td>\n",
       "      <td>0.0</td>\n",
       "      <td>0.0</td>\n",
       "      <td>1.0</td>\n",
       "    </tr>\n",
       "    <tr>\n",
       "      <th>2</th>\n",
       "      <td>0.1</td>\n",
       "      <td>0.3</td>\n",
       "      <td>1.0</td>\n",
       "      <td>0.4</td>\n",
       "      <td>0.5</td>\n",
       "      <td>1.0</td>\n",
       "      <td>1.0</td>\n",
       "    </tr>\n",
       "    <tr>\n",
       "      <th>3</th>\n",
       "      <td>0.1</td>\n",
       "      <td>0.2</td>\n",
       "      <td>1.0</td>\n",
       "      <td>0.3</td>\n",
       "      <td>0.0</td>\n",
       "      <td>0.5</td>\n",
       "      <td>0.0</td>\n",
       "    </tr>\n",
       "  </tbody>\n",
       "</table>\n",
       "</div>"
      ],
      "text/plain": [
       "         run  horsepower  year  cylinder_volume  fuel_label  \\\n",
       "cluster                                                       \n",
       "0        0.1         0.3   1.0              0.3         0.0   \n",
       "1        0.1         0.2   1.0              0.2         0.0   \n",
       "2        0.1         0.3   1.0              0.4         0.5   \n",
       "3        0.1         0.2   1.0              0.3         0.0   \n",
       "\n",
       "         transmission_type_label  retailer_label  \n",
       "cluster                                           \n",
       "0                            1.0             1.0  \n",
       "1                            0.0             1.0  \n",
       "2                            1.0             1.0  \n",
       "3                            0.5             0.0  "
      ]
     },
     "execution_count": 357,
     "metadata": {},
     "output_type": "execute_result"
    }
   ],
   "source": [
    "model = KMeans(n_clusters=4, random_state=42)\n",
    "model.fit(X_num)\n",
    "X_num['cluster'] = model.labels_\n",
    "X_num.groupby('cluster').mean()"
   ]
  },
  {
   "cell_type": "code",
   "execution_count": 358,
   "metadata": {},
   "outputs": [
    {
     "data": {
      "text/plain": [
       "cluster\n",
       "0    23213\n",
       "1     5684\n",
       "2     5971\n",
       "3     1132\n",
       "dtype: int64"
      ]
     },
     "execution_count": 358,
     "metadata": {},
     "output_type": "execute_result"
    }
   ],
   "source": [
    "X_num.groupby('cluster').size()"
   ]
  },
  {
   "cell_type": "code",
   "execution_count": 359,
   "metadata": {},
   "outputs": [
    {
     "data": {
      "image/png": "[encoded data removed]",
      "text/plain": [
       "<Figure size 1058.4x667.44 with 4 Axes>"
      ]
     },
     "metadata": {
      "needs_background": "light"
     },
     "output_type": "display_data"
    }
   ],
   "source": [
    "fig, axs = plt.subplots(nrows=2, ncols=2, sharex=True)\n",
    "fig.set_size_inches(14.7, 9.27)\n",
    "plt.subplots_adjust( wspace=0.625)\n",
    "k = 0\n",
    "c = ['grey', 'violet', 'salmon', 'skyblue', 'orange']\n",
    "for i in range(2):\n",
    "    for j in range(2):\n",
    "        ax = axs[i, j]\n",
    "        k += 1\n",
    "        X_num[X_num.cluster == k-1].groupby('cluster').mean().T.plot.barh(ax = ax, color = c[k-1])\n",
    "        ax.tick_params(labelsize = 11)"
   ]
  },
  {
   "cell_type": "markdown",
   "metadata": {},
   "source": [
    "### Выводы по кластерному анализу \n"
   ]
  },
  {
   "cell_type": "markdown",
   "metadata": {},
   "source": [
    "Кластеры 0, 1, 2 - это машины, которые продают юридические лица. Для них всех важно, чтобы машина была новой. Различаются они только:\n",
    "\n",
    "- Кластер label = 0 - Характеризует машины с автоматической коробкой передач на бензине с небольшим пробегом и с объемом цилиндра ниже среднего\n",
    "\n",
    "- Кластер label = 1 - Включает в себя машины с большим пробегом, чем в кластере 0, c меньшим количеством лошадиных сил, с меньшим объемом цилиндров. Но главное отличие в том, что это авто с механической коробкой передач.\n",
    "\n",
    "- Кластер label = 2 - Включает в себя машины на автомате, которые используют дизель или гибрид, с большим количеством лошадиных сил, с большим объемом цилиндров. \n",
    "\n",
    "- Кластер label = 3 - Характеризует машины, которые продают физ. лица (retailer = 0). У таких предложений самым важным фактором является новизна авто. Половина машин в этом кластре - это механика, остальные - автома. Тип топлива - бензин"
   ]
  },
  {
   "cell_type": "code",
   "execution_count": 700,
   "metadata": {},
   "outputs": [],
   "source": [
    "# dt = dt.drop(['fuel_label', 'transmission_type_label',\n",
    "#        'retailer_label'], axis = 1)"
   ]
  },
  {
   "cell_type": "markdown",
   "metadata": {},
   "source": [
    "## 4. Построение регресси справедливой цены автомобиля по представленным признакам"
   ]
  },
  {
   "cell_type": "code",
   "execution_count": 519,
   "metadata": {},
   "outputs": [],
   "source": [
    "from sklearn.metrics import mean_squared_error"
   ]
  },
  {
   "cell_type": "code",
   "execution_count": 701,
   "metadata": {},
   "outputs": [],
   "source": [
    "dt['brand_label'] = [dict(zip(['Low_cost', 'General', 'Luxe'], range(3)))[brand] for brand in dt.brand]"
   ]
  },
  {
   "cell_type": "code",
   "execution_count": 708,
   "metadata": {},
   "outputs": [
    {
     "data": {
      "text/html": [
       "<div>\n",
       "<style scoped>\n",
       "    .dataframe tbody tr th:only-of-type {\n",
       "        vertical-align: middle;\n",
       "    }\n",
       "\n",
       "    .dataframe tbody tr th {\n",
       "        vertical-align: top;\n",
       "    }\n",
       "\n",
       "    .dataframe thead th {\n",
       "        text-align: right;\n",
       "    }\n",
       "</style>\n",
       "<table border=\"1\" class=\"dataframe\">\n",
       "  <thead>\n",
       "    <tr style=\"text-align: right;\">\n",
       "      <th></th>\n",
       "      <th>run</th>\n",
       "      <th>fuel</th>\n",
       "      <th>horsepower</th>\n",
       "      <th>year</th>\n",
       "      <th>car_type</th>\n",
       "      <th>transmission_type</th>\n",
       "      <th>retailer</th>\n",
       "      <th>cur_price</th>\n",
       "      <th>first_price</th>\n",
       "      <th>diff_price_down</th>\n",
       "      <th>brand</th>\n",
       "      <th>cylinder_volume</th>\n",
       "      <th>brand_label</th>\n",
       "      <th>fuel_label</th>\n",
       "      <th>transmission_type_label</th>\n",
       "      <th>retailer_label</th>\n",
       "    </tr>\n",
       "  </thead>\n",
       "  <tbody>\n",
       "    <tr>\n",
       "      <th>0</th>\n",
       "      <td>105000.0000</td>\n",
       "      <td>Бензин</td>\n",
       "      <td>81</td>\n",
       "      <td>2008</td>\n",
       "      <td>Хетчбэк</td>\n",
       "      <td>Механика</td>\n",
       "      <td>ФЛ</td>\n",
       "      <td>40000</td>\n",
       "      <td>0</td>\n",
       "      <td>0</td>\n",
       "      <td>General</td>\n",
       "      <td>1.6000</td>\n",
       "      <td>1</td>\n",
       "      <td>0</td>\n",
       "      <td>0</td>\n",
       "      <td>0</td>\n",
       "    </tr>\n",
       "    <tr>\n",
       "      <th>1</th>\n",
       "      <td>240000.0000</td>\n",
       "      <td>Бензин</td>\n",
       "      <td>86</td>\n",
       "      <td>2008</td>\n",
       "      <td>Седан</td>\n",
       "      <td>Механика</td>\n",
       "      <td>ЮЛ</td>\n",
       "      <td>96000</td>\n",
       "      <td>0</td>\n",
       "      <td>0</td>\n",
       "      <td>General</td>\n",
       "      <td>1.5000</td>\n",
       "      <td>1</td>\n",
       "      <td>0</td>\n",
       "      <td>0</td>\n",
       "      <td>1</td>\n",
       "    </tr>\n",
       "    <tr>\n",
       "      <th>2</th>\n",
       "      <td>60000.0000</td>\n",
       "      <td>Бензин</td>\n",
       "      <td>81</td>\n",
       "      <td>2011</td>\n",
       "      <td>Хетчбэк</td>\n",
       "      <td>Механика</td>\n",
       "      <td>ЮЛ</td>\n",
       "      <td>190000</td>\n",
       "      <td>0</td>\n",
       "      <td>0</td>\n",
       "      <td>General</td>\n",
       "      <td>1.6000</td>\n",
       "      <td>1</td>\n",
       "      <td>0</td>\n",
       "      <td>0</td>\n",
       "      <td>1</td>\n",
       "    </tr>\n",
       "    <tr>\n",
       "      <th>3</th>\n",
       "      <td>137807.0000</td>\n",
       "      <td>Бензин</td>\n",
       "      <td>64</td>\n",
       "      <td>1983</td>\n",
       "      <td>Седан</td>\n",
       "      <td>Механика</td>\n",
       "      <td>ЮЛ</td>\n",
       "      <td>45000</td>\n",
       "      <td>0</td>\n",
       "      <td>0</td>\n",
       "      <td>General</td>\n",
       "      <td>1.2000</td>\n",
       "      <td>1</td>\n",
       "      <td>0</td>\n",
       "      <td>0</td>\n",
       "      <td>1</td>\n",
       "    </tr>\n",
       "    <tr>\n",
       "      <th>4</th>\n",
       "      <td>157000.0000</td>\n",
       "      <td>Бензин</td>\n",
       "      <td>129</td>\n",
       "      <td>2007</td>\n",
       "      <td>Седан</td>\n",
       "      <td>Механика</td>\n",
       "      <td>ФЛ</td>\n",
       "      <td>59999</td>\n",
       "      <td>0</td>\n",
       "      <td>0</td>\n",
       "      <td>General</td>\n",
       "      <td>2.0000</td>\n",
       "      <td>1</td>\n",
       "      <td>0</td>\n",
       "      <td>0</td>\n",
       "      <td>0</td>\n",
       "    </tr>\n",
       "    <tr>\n",
       "      <th>...</th>\n",
       "      <td>...</td>\n",
       "      <td>...</td>\n",
       "      <td>...</td>\n",
       "      <td>...</td>\n",
       "      <td>...</td>\n",
       "      <td>...</td>\n",
       "      <td>...</td>\n",
       "      <td>...</td>\n",
       "      <td>...</td>\n",
       "      <td>...</td>\n",
       "      <td>...</td>\n",
       "      <td>...</td>\n",
       "      <td>...</td>\n",
       "      <td>...</td>\n",
       "      <td>...</td>\n",
       "      <td>...</td>\n",
       "    </tr>\n",
       "    <tr>\n",
       "      <th>35995</th>\n",
       "      <td>15520.0000</td>\n",
       "      <td>Дизель</td>\n",
       "      <td>180</td>\n",
       "      <td>2018</td>\n",
       "      <td>Кроссовер</td>\n",
       "      <td>Автомат</td>\n",
       "      <td>ЮЛ</td>\n",
       "      <td>2350000</td>\n",
       "      <td>2450000</td>\n",
       "      <td>100000</td>\n",
       "      <td>Luxe</td>\n",
       "      <td>2.0000</td>\n",
       "      <td>2</td>\n",
       "      <td>1</td>\n",
       "      <td>1</td>\n",
       "      <td>1</td>\n",
       "    </tr>\n",
       "    <tr>\n",
       "      <th>35996</th>\n",
       "      <td>84893.0000</td>\n",
       "      <td>Дизель</td>\n",
       "      <td>339</td>\n",
       "      <td>2016</td>\n",
       "      <td>Внедорожник</td>\n",
       "      <td>Автомат</td>\n",
       "      <td>ЮЛ</td>\n",
       "      <td>3813740</td>\n",
       "      <td>0</td>\n",
       "      <td>0</td>\n",
       "      <td>Luxe</td>\n",
       "      <td>4.4000</td>\n",
       "      <td>2</td>\n",
       "      <td>1</td>\n",
       "      <td>1</td>\n",
       "      <td>1</td>\n",
       "    </tr>\n",
       "    <tr>\n",
       "      <th>35997</th>\n",
       "      <td>104705.0000</td>\n",
       "      <td>Бензин</td>\n",
       "      <td>105</td>\n",
       "      <td>2010</td>\n",
       "      <td>Кроссовер</td>\n",
       "      <td>Механика</td>\n",
       "      <td>ЮЛ</td>\n",
       "      <td>545000</td>\n",
       "      <td>0</td>\n",
       "      <td>0</td>\n",
       "      <td>General</td>\n",
       "      <td>1.2000</td>\n",
       "      <td>1</td>\n",
       "      <td>0</td>\n",
       "      <td>0</td>\n",
       "      <td>1</td>\n",
       "    </tr>\n",
       "    <tr>\n",
       "      <th>35998</th>\n",
       "      <td>166136.0000</td>\n",
       "      <td>Дизель</td>\n",
       "      <td>184</td>\n",
       "      <td>2013</td>\n",
       "      <td>Кроссовер</td>\n",
       "      <td>Автомат</td>\n",
       "      <td>ЮЛ</td>\n",
       "      <td>720000</td>\n",
       "      <td>730000</td>\n",
       "      <td>10000</td>\n",
       "      <td>General</td>\n",
       "      <td>2.2000</td>\n",
       "      <td>1</td>\n",
       "      <td>1</td>\n",
       "      <td>1</td>\n",
       "      <td>1</td>\n",
       "    </tr>\n",
       "    <tr>\n",
       "      <th>35999</th>\n",
       "      <td>93604.0000</td>\n",
       "      <td>Бензин</td>\n",
       "      <td>225</td>\n",
       "      <td>2014</td>\n",
       "      <td>Седан</td>\n",
       "      <td>Автомат</td>\n",
       "      <td>ЮЛ</td>\n",
       "      <td>1055000</td>\n",
       "      <td>0</td>\n",
       "      <td>0</td>\n",
       "      <td>General</td>\n",
       "      <td>2.0000</td>\n",
       "      <td>1</td>\n",
       "      <td>0</td>\n",
       "      <td>1</td>\n",
       "      <td>1</td>\n",
       "    </tr>\n",
       "  </tbody>\n",
       "</table>\n",
       "<p>36000 rows × 16 columns</p>\n",
       "</div>"
      ],
      "text/plain": [
       "              run    fuel  horsepower  year     car_type transmission_type  \\\n",
       "0     105000.0000  Бензин          81  2008      Хетчбэк          Механика   \n",
       "1     240000.0000  Бензин          86  2008        Седан          Механика   \n",
       "2      60000.0000  Бензин          81  2011      Хетчбэк          Механика   \n",
       "3     137807.0000  Бензин          64  1983        Седан          Механика   \n",
       "4     157000.0000  Бензин         129  2007        Седан          Механика   \n",
       "...           ...     ...         ...   ...          ...               ...   \n",
       "35995  15520.0000  Дизель         180  2018    Кроссовер           Автомат   \n",
       "35996  84893.0000  Дизель         339  2016  Внедорожник           Автомат   \n",
       "35997 104705.0000  Бензин         105  2010    Кроссовер          Механика   \n",
       "35998 166136.0000  Дизель         184  2013    Кроссовер           Автомат   \n",
       "35999  93604.0000  Бензин         225  2014        Седан           Автомат   \n",
       "\n",
       "      retailer  cur_price  first_price  diff_price_down    brand  \\\n",
       "0           ФЛ      40000            0                0  General   \n",
       "1           ЮЛ      96000            0                0  General   \n",
       "2           ЮЛ     190000            0                0  General   \n",
       "3           ЮЛ      45000            0                0  General   \n",
       "4           ФЛ      59999            0                0  General   \n",
       "...        ...        ...          ...              ...      ...   \n",
       "35995       ЮЛ    2350000      2450000           100000     Luxe   \n",
       "35996       ЮЛ    3813740            0                0     Luxe   \n",
       "35997       ЮЛ     545000            0                0  General   \n",
       "35998       ЮЛ     720000       730000            10000  General   \n",
       "35999       ЮЛ    1055000            0                0  General   \n",
       "\n",
       "       cylinder_volume  brand_label  fuel_label  transmission_type_label  \\\n",
       "0               1.6000            1           0                        0   \n",
       "1               1.5000            1           0                        0   \n",
       "2               1.6000            1           0                        0   \n",
       "3               1.2000            1           0                        0   \n",
       "4               2.0000            1           0                        0   \n",
       "...                ...          ...         ...                      ...   \n",
       "35995           2.0000            2           1                        1   \n",
       "35996           4.4000            2           1                        1   \n",
       "35997           1.2000            1           0                        0   \n",
       "35998           2.2000            1           1                        1   \n",
       "35999           2.0000            1           0                        1   \n",
       "\n",
       "       retailer_label  \n",
       "0                   0  \n",
       "1                   1  \n",
       "2                   1  \n",
       "3                   1  \n",
       "4                   0  \n",
       "...               ...  \n",
       "35995               1  \n",
       "35996               1  \n",
       "35997               1  \n",
       "35998               1  \n",
       "35999               1  \n",
       "\n",
       "[36000 rows x 16 columns]"
      ]
     },
     "execution_count": 708,
     "metadata": {},
     "output_type": "execute_result"
    }
   ],
   "source": [
    "dt"
   ]
  },
  {
   "cell_type": "code",
   "execution_count": 709,
   "metadata": {},
   "outputs": [
    {
     "name": "stderr",
     "output_type": "stream",
     "text": [
      "/Users/bazyleva-alex/PycharmProjects/учеба/venv37/lib/python3.7/site-packages/ipykernel_launcher.py:2: FutureWarning: The 'get_values' method is deprecated and will be removed in a future version. Use '.values' or 'np.asarray(..)' instead.\n",
      "  \n",
      "/Users/bazyleva-alex/PycharmProjects/учеба/venv37/lib/python3.7/site-packages/ipykernel_launcher.py:3: FutureWarning: The 'get_values' method is deprecated and will be removed in a future version. Use '.to_numpy()' or '.array' instead.\n",
      "  This is separate from the ipykernel package so we can avoid doing imports until\n"
     ]
    }
   ],
   "source": [
    "X = dt.drop(['cur_price', 'fuel','car_type',  'transmission_type','first_price', 'diff_price_down',\n",
    "       'retailer', 'brand'], axis=1).get_values()\n",
    "y = np.log(dt['cur_price']).get_values()"
   ]
  },
  {
   "cell_type": "code",
   "execution_count": 710,
   "metadata": {
    "scrolled": false
   },
   "outputs": [
    {
     "name": "stdout",
     "output_type": "stream",
     "text": [
      "                                 OLS Regression Results                                \n",
      "=======================================================================================\n",
      "Dep. Variable:                      y   R-squared (uncentered):                   0.999\n",
      "Model:                            OLS   Adj. R-squared (uncentered):              0.999\n",
      "Method:                 Least Squares   F-statistic:                          7.096e+06\n",
      "Date:                Sat, 14 Dec 2019   Prob (F-statistic):                        0.00\n",
      "Time:                        19:47:55   Log-Likelihood:                         -12916.\n",
      "No. Observations:               36000   AIC:                                  2.585e+04\n",
      "Df Residuals:                   35992   BIC:                                  2.592e+04\n",
      "Df Model:                           8                                                  \n",
      "Covariance Type:            nonrobust                                                  \n",
      "==============================================================================\n",
      "                 coef    std err          t      P>|t|      [0.025      0.975]\n",
      "------------------------------------------------------------------------------\n",
      "x1         -4.624e-06   3.12e-08   -148.410      0.000   -4.68e-06   -4.56e-06\n",
      "x2             0.0042   4.66e-05     90.122      0.000       0.004       0.004\n",
      "x3             0.0061   5.63e-06   1087.280      0.000       0.006       0.006\n",
      "x4             0.0460      0.004     11.211      0.000       0.038       0.054\n",
      "x5             0.3881      0.005     82.888      0.000       0.379       0.397\n",
      "x6             0.4651      0.005     97.575      0.000       0.456       0.474\n",
      "x7             0.3898      0.005     71.466      0.000       0.379       0.400\n",
      "x8             0.0799      0.011      7.494      0.000       0.059       0.101\n",
      "==============================================================================\n",
      "Omnibus:                     2195.600   Durbin-Watson:                   2.004\n",
      "Prob(Omnibus):                  0.000   Jarque-Bera (JB):             8124.581\n",
      "Skew:                          -0.213   Prob(JB):                         0.00\n",
      "Kurtosis:                       5.288   Cond. No.                     6.26e+05\n",
      "==============================================================================\n",
      "\n",
      "Warnings:\n",
      "[1] Standard Errors assume that the covariance matrix of the errors is correctly specified.\n",
      "[2] The condition number is large, 6.26e+05. This might indicate that there are\n",
      "strong multicollinearity or other numerical problems.\n"
     ]
    }
   ],
   "source": [
    "import statsmodels.api as sm\n",
    "#линейная регрессия\n",
    "est = sm.OLS(y, X)\n",
    "est = est.fit()\n",
    "print(est.summary())"
   ]
  },
  {
   "cell_type": "code",
   "execution_count": 711,
   "metadata": {},
   "outputs": [],
   "source": [
    "def find_prediction_at_instance_for_ols(X, params, instance):\n",
    "    return sum([val*X[instance, i].sum() for i, val in enumerate(params[:-1])])"
   ]
  },
  {
   "cell_type": "code",
   "execution_count": 712,
   "metadata": {},
   "outputs": [
    {
     "data": {
      "image/png": "[encoded data removed]",
      "text/plain": [
       "<Figure size 432x288 with 1 Axes>"
      ]
     },
     "metadata": {
      "needs_background": "light"
     },
     "output_type": "display_data"
    }
   ],
   "source": [
    "fig.set_size_inches(18.5, 10.5)\n",
    "plt.scatter(\n",
    "    [find_prediction_at_instance_for_ols(X, est.params, i) for i in range(X.shape[0])],\n",
    "    np.log(dt.cur_price),\n",
    "    color = 'darkviolet')\n",
    "plt.plot(list(range(10, 20)),list(range(10, 20)), c = 'orange')\n",
    "plt.xlabel(u'Фактическая цена')\n",
    "plt.ylabel(u'Прогнозная цена')\n",
    "plt.show()"
   ]
  },
  {
   "cell_type": "code",
   "execution_count": 713,
   "metadata": {},
   "outputs": [
    {
     "name": "stdout",
     "output_type": "stream",
     "text": [
      "R^2: 0.9993662481766545\n"
     ]
    }
   ],
   "source": [
    "print (f'R^2: {est.rsquared_adj}')"
   ]
  },
  {
   "cell_type": "code",
   "execution_count": 714,
   "metadata": {},
   "outputs": [],
   "source": [
    "pd.set_option('display.float_format', lambda x: '%.4f' % x)"
   ]
  },
  {
   "cell_type": "code",
   "execution_count": 715,
   "metadata": {},
   "outputs": [
    {
     "data": {
      "text/html": [
       "<div>\n",
       "<style scoped>\n",
       "    .dataframe tbody tr th:only-of-type {\n",
       "        vertical-align: middle;\n",
       "    }\n",
       "\n",
       "    .dataframe tbody tr th {\n",
       "        vertical-align: top;\n",
       "    }\n",
       "\n",
       "    .dataframe thead th {\n",
       "        text-align: right;\n",
       "    }\n",
       "</style>\n",
       "<table border=\"1\" class=\"dataframe\">\n",
       "  <thead>\n",
       "    <tr style=\"text-align: right;\">\n",
       "      <th></th>\n",
       "      <th>feature</th>\n",
       "      <th>coefs</th>\n",
       "      <th>p_value</th>\n",
       "    </tr>\n",
       "  </thead>\n",
       "  <tbody>\n",
       "    <tr>\n",
       "      <th>0</th>\n",
       "      <td>run</td>\n",
       "      <td>-0.0000</td>\n",
       "      <td>0.0000</td>\n",
       "    </tr>\n",
       "    <tr>\n",
       "      <th>1</th>\n",
       "      <td>horsepower</td>\n",
       "      <td>0.0042</td>\n",
       "      <td>0.0000</td>\n",
       "    </tr>\n",
       "    <tr>\n",
       "      <th>2</th>\n",
       "      <td>year</td>\n",
       "      <td>0.0061</td>\n",
       "      <td>0.0000</td>\n",
       "    </tr>\n",
       "    <tr>\n",
       "      <th>3</th>\n",
       "      <td>cylinder_volume</td>\n",
       "      <td>0.0460</td>\n",
       "      <td>0.0000</td>\n",
       "    </tr>\n",
       "    <tr>\n",
       "      <th>4</th>\n",
       "      <td>fuel_label</td>\n",
       "      <td>0.3881</td>\n",
       "      <td>0.0000</td>\n",
       "    </tr>\n",
       "    <tr>\n",
       "      <th>5</th>\n",
       "      <td>transmission_type_label</td>\n",
       "      <td>0.4651</td>\n",
       "      <td>0.0000</td>\n",
       "    </tr>\n",
       "    <tr>\n",
       "      <th>6</th>\n",
       "      <td>retailer_label</td>\n",
       "      <td>0.3898</td>\n",
       "      <td>0.0000</td>\n",
       "    </tr>\n",
       "    <tr>\n",
       "      <th>7</th>\n",
       "      <td>brand_label</td>\n",
       "      <td>0.0799</td>\n",
       "      <td>0.0000</td>\n",
       "    </tr>\n",
       "  </tbody>\n",
       "</table>\n",
       "</div>"
      ],
      "text/plain": [
       "                   feature   coefs  p_value\n",
       "0                      run -0.0000   0.0000\n",
       "1               horsepower  0.0042   0.0000\n",
       "2                     year  0.0061   0.0000\n",
       "3          cylinder_volume  0.0460   0.0000\n",
       "4               fuel_label  0.3881   0.0000\n",
       "5  transmission_type_label  0.4651   0.0000\n",
       "6           retailer_label  0.3898   0.0000\n",
       "7              brand_label  0.0799   0.0000"
      ]
     },
     "execution_count": 715,
     "metadata": {},
     "output_type": "execute_result"
    }
   ],
   "source": [
    "results_ols = pd.DataFrame()\n",
    "results_ols['feature'] = ['run', 'horsepower', 'year', \n",
    "       'cylinder_volume', 'fuel_label', 'transmission_type_label',\n",
    "       'retailer_label', 'brand_label']\n",
    "results_ols['coefs'] = est.params\n",
    "results_ols['p_value'] = est.pvalues\n",
    "results_ols"
   ]
  },
  {
   "cell_type": "markdown",
   "metadata": {},
   "source": [
    "Полученные коэффиценты означают следующее:\n",
    "- Текущая цена автомобиля в основном зависит от типа коробки передач, ритейлера и типа топлива \n",
    "- Так же параметры, которые хоть и не так значительно, но все-таки влиют на цену - это бренд, объем цилиндров, год выпуска и количество лошадиных сил."
   ]
  },
  {
   "cell_type": "markdown",
   "metadata": {},
   "source": [
    "Полученную модель модель модно использовать как калькулятор предположительной цены автомобиля. Это полезно для первичной оценки стоимости продаваемого авто.\n",
    "\n",
    "Рассмотрим пример предсказания цены авто со следующими характеристиками"
   ]
  },
  {
   "cell_type": "code",
   "execution_count": 736,
   "metadata": {},
   "outputs": [],
   "source": [
    "new_offer = {\n",
    "    'run' : 70000, \n",
    "    'horsepower': 70,\n",
    "    'year': 2014, \n",
    "    'cylinder_volume' : 2, \n",
    "    'fuel_label': 0, #Бензин \n",
    "    'transmission_type_label': 1, #Автомат\n",
    "    'retailer_label' : 1, #Юридеческое лицо\n",
    "    'brand_label' : 1 #General\n",
    "}"
   ]
  },
  {
   "cell_type": "code",
   "execution_count": 764,
   "metadata": {},
   "outputs": [
    {
     "data": {
      "text/plain": [
       "(13.321557463718007, 610209.4047514787)"
      ]
     },
     "execution_count": 764,
     "metadata": {},
     "output_type": "execute_result"
    }
   ],
   "source": [
    "log_price = 0\n",
    "for i, val in enumerate(est.params):\n",
    "    log_price += list(new_offer.values())[i]*val\n",
    "log_price, np.exp(log_price)"
   ]
  },
  {
   "cell_type": "markdown",
   "metadata": {},
   "source": [
    "Посмотрим на примеры построенных прогнозов цен моделью OLS"
   ]
  },
  {
   "cell_type": "code",
   "execution_count": 738,
   "metadata": {},
   "outputs": [],
   "source": [
    "prediction = pd.DataFrame()\n",
    "prediction['pred'] = est.predict(X)\n",
    "prediction['fact'] = y"
   ]
  },
  {
   "cell_type": "code",
   "execution_count": 739,
   "metadata": {},
   "outputs": [
    {
     "data": {
      "text/html": [
       "<div>\n",
       "<style scoped>\n",
       "    .dataframe tbody tr th:only-of-type {\n",
       "        vertical-align: middle;\n",
       "    }\n",
       "\n",
       "    .dataframe tbody tr th {\n",
       "        vertical-align: top;\n",
       "    }\n",
       "\n",
       "    .dataframe thead th {\n",
       "        text-align: right;\n",
       "    }\n",
       "</style>\n",
       "<table border=\"1\" class=\"dataframe\">\n",
       "  <thead>\n",
       "    <tr style=\"text-align: right;\">\n",
       "      <th></th>\n",
       "      <th>18553</th>\n",
       "      <th>33370</th>\n",
       "      <th>11341</th>\n",
       "      <th>5828</th>\n",
       "      <th>1918</th>\n",
       "      <th>31954</th>\n",
       "      <th>19076</th>\n",
       "      <th>11986</th>\n",
       "      <th>24057</th>\n",
       "      <th>31747</th>\n",
       "      <th>6406</th>\n",
       "      <th>26428</th>\n",
       "      <th>31768</th>\n",
       "      <th>28989</th>\n",
       "      <th>10746</th>\n",
       "      <th>28407</th>\n",
       "      <th>31110</th>\n",
       "    </tr>\n",
       "  </thead>\n",
       "  <tbody>\n",
       "    <tr>\n",
       "      <th>pred</th>\n",
       "      <td>14.8365</td>\n",
       "      <td>13.4319</td>\n",
       "      <td>14.4134</td>\n",
       "      <td>14.7684</td>\n",
       "      <td>13.4835</td>\n",
       "      <td>15.2821</td>\n",
       "      <td>13.7474</td>\n",
       "      <td>14.2472</td>\n",
       "      <td>13.6987</td>\n",
       "      <td>13.8496</td>\n",
       "      <td>13.0850</td>\n",
       "      <td>13.3403</td>\n",
       "      <td>12.7009</td>\n",
       "      <td>14.4215</td>\n",
       "      <td>14.2472</td>\n",
       "      <td>13.4319</td>\n",
       "      <td>14.5318</td>\n",
       "    </tr>\n",
       "    <tr>\n",
       "      <th>fact</th>\n",
       "      <td>14.6699</td>\n",
       "      <td>13.0795</td>\n",
       "      <td>14.2143</td>\n",
       "      <td>14.8733</td>\n",
       "      <td>13.6877</td>\n",
       "      <td>15.1541</td>\n",
       "      <td>13.4870</td>\n",
       "      <td>14.2176</td>\n",
       "      <td>14.1267</td>\n",
       "      <td>14.5334</td>\n",
       "      <td>13.3212</td>\n",
       "      <td>12.9945</td>\n",
       "      <td>12.8866</td>\n",
       "      <td>14.2143</td>\n",
       "      <td>14.2176</td>\n",
       "      <td>13.0795</td>\n",
       "      <td>14.3402</td>\n",
       "    </tr>\n",
       "  </tbody>\n",
       "</table>\n",
       "</div>"
      ],
      "text/plain": [
       "       18553   33370   11341   5828    1918    31954   19076   11986   24057  \\\n",
       "pred 14.8365 13.4319 14.4134 14.7684 13.4835 15.2821 13.7474 14.2472 13.6987   \n",
       "fact 14.6699 13.0795 14.2143 14.8733 13.6877 15.1541 13.4870 14.2176 14.1267   \n",
       "\n",
       "       31747   6406    26428   31768   28989   10746   28407   31110  \n",
       "pred 13.8496 13.0850 13.3403 12.7009 14.4215 14.2472 13.4319 14.5318  \n",
       "fact 14.5334 13.3212 12.9945 12.8866 14.2143 14.2176 13.0795 14.3402  "
      ]
     },
     "execution_count": 739,
     "metadata": {},
     "output_type": "execute_result"
    }
   ],
   "source": [
    "prediction.sample(17).T"
   ]
  },
  {
   "cell_type": "markdown",
   "metadata": {},
   "source": [
    "Линейная модель полученная методом OLS показала отличные результаты. \n",
    "Заметим, что переменная с типом ритейлера оказалась статистически незначимой, поэтому стоит исключить ее из рассмотрения.\n",
    "Воспользуемся еще методами Lasso и Ridge для сравнения результатов."
   ]
  },
  {
   "cell_type": "code",
   "execution_count": 754,
   "metadata": {},
   "outputs": [
    {
     "name": "stderr",
     "output_type": "stream",
     "text": [
      "/Users/bazyleva-alex/PycharmProjects/учеба/venv37/lib/python3.7/site-packages/ipykernel_launcher.py:2: FutureWarning: The 'get_values' method is deprecated and will be removed in a future version. Use '.values' or 'np.asarray(..)' instead.\n",
      "  \n",
      "/Users/bazyleva-alex/PycharmProjects/учеба/venv37/lib/python3.7/site-packages/ipykernel_launcher.py:3: FutureWarning: The 'get_values' method is deprecated and will be removed in a future version. Use '.to_numpy()' or '.array' instead.\n",
      "  This is separate from the ipykernel package so we can avoid doing imports until\n"
     ]
    }
   ],
   "source": [
    "X = dt.drop(['cur_price', 'fuel','car_type',  'transmission_type', 'first_price', 'diff_price_down',\n",
    "       'retailer', 'brand', 'retailer_label'], axis=1).get_values()\n",
    "y = np.log(dt['cur_price']).get_values()"
   ]
  },
  {
   "cell_type": "code",
   "execution_count": 755,
   "metadata": {},
   "outputs": [],
   "source": [
    "from sklearn.linear_model import LinearRegression, Lasso, Ridge\n",
    "from sklearn.linear_model import LassoCV, RidgeCV"
   ]
  },
  {
   "cell_type": "code",
   "execution_count": 756,
   "metadata": {},
   "outputs": [],
   "source": [
    "lasso_regressor = Lasso(random_state = 1)\n",
    "lasso_regressor.fit(X, y)\n",
    "lasso_predictions = lasso_regressor.predict(X)"
   ]
  },
  {
   "cell_type": "code",
   "execution_count": 757,
   "metadata": {},
   "outputs": [
    {
     "name": "stdout",
     "output_type": "stream",
     "text": [
      "RMSE = 0.78\n"
     ]
    }
   ],
   "source": [
    "rmse = np.sqrt(mean_squared_error(y, lasso_predictions.astype(int))).round(2)\n",
    "print(f'RMSE = {rmse}')"
   ]
  },
  {
   "cell_type": "code",
   "execution_count": 758,
   "metadata": {},
   "outputs": [
    {
     "name": "stdout",
     "output_type": "stream",
     "text": [
      "R^2 = 0.648261610847472\n"
     ]
    }
   ],
   "source": [
    "score = lasso_regressor.score(X, y)\n",
    "print('R^2 = {}'.format(score))"
   ]
  },
  {
   "cell_type": "code",
   "execution_count": 759,
   "metadata": {},
   "outputs": [
    {
     "data": {
      "text/html": [
       "<div>\n",
       "<style scoped>\n",
       "    .dataframe tbody tr th:only-of-type {\n",
       "        vertical-align: middle;\n",
       "    }\n",
       "\n",
       "    .dataframe tbody tr th {\n",
       "        vertical-align: top;\n",
       "    }\n",
       "\n",
       "    .dataframe thead th {\n",
       "        text-align: right;\n",
       "    }\n",
       "</style>\n",
       "<table border=\"1\" class=\"dataframe\">\n",
       "  <thead>\n",
       "    <tr style=\"text-align: right;\">\n",
       "      <th></th>\n",
       "      <th>feature</th>\n",
       "      <th>coefs</th>\n",
       "    </tr>\n",
       "  </thead>\n",
       "  <tbody>\n",
       "    <tr>\n",
       "      <th>0</th>\n",
       "      <td>run</td>\n",
       "      <td>-0.0000</td>\n",
       "    </tr>\n",
       "    <tr>\n",
       "      <th>1</th>\n",
       "      <td>horsepower</td>\n",
       "      <td>0.0070</td>\n",
       "    </tr>\n",
       "    <tr>\n",
       "      <th>2</th>\n",
       "      <td>year</td>\n",
       "      <td>0.0000</td>\n",
       "    </tr>\n",
       "    <tr>\n",
       "      <th>3</th>\n",
       "      <td>cylinder_volume</td>\n",
       "      <td>0.0000</td>\n",
       "    </tr>\n",
       "    <tr>\n",
       "      <th>4</th>\n",
       "      <td>fuel_label</td>\n",
       "      <td>0.0000</td>\n",
       "    </tr>\n",
       "    <tr>\n",
       "      <th>5</th>\n",
       "      <td>transmission_type_label</td>\n",
       "      <td>0.0000</td>\n",
       "    </tr>\n",
       "    <tr>\n",
       "      <th>6</th>\n",
       "      <td>brand_label</td>\n",
       "      <td>0.0000</td>\n",
       "    </tr>\n",
       "    <tr>\n",
       "      <th>7</th>\n",
       "      <td>intercept</td>\n",
       "      <td>12.9168</td>\n",
       "    </tr>\n",
       "  </tbody>\n",
       "</table>\n",
       "</div>"
      ],
      "text/plain": [
       "                   feature   coefs\n",
       "0                      run -0.0000\n",
       "1               horsepower  0.0070\n",
       "2                     year  0.0000\n",
       "3          cylinder_volume  0.0000\n",
       "4               fuel_label  0.0000\n",
       "5  transmission_type_label  0.0000\n",
       "6              brand_label  0.0000\n",
       "7                intercept 12.9168"
      ]
     },
     "execution_count": 759,
     "metadata": {},
     "output_type": "execute_result"
    }
   ],
   "source": [
    "results_lasso= pd.DataFrame()\n",
    "results_lasso['feature'] = ['run', 'horsepower', 'year',\n",
    "       'cylinder_volume', 'fuel_label', 'transmission_type_label',\n",
    "        'brand_label', 'intercept']\n",
    "results_lasso['coefs'] = [*lasso_regressor.coef_, lasso_regressor.intercept_]\n",
    "\n",
    "results_lasso"
   ]
  },
  {
   "cell_type": "code",
   "execution_count": 760,
   "metadata": {},
   "outputs": [
    {
     "data": {
      "image/png": "[encoded data removed]",
      "text/plain": [
       "<Figure size 432x288 with 1 Axes>"
      ]
     },
     "metadata": {
      "needs_background": "light"
     },
     "output_type": "display_data"
    }
   ],
   "source": [
    "fig.set_size_inches(18.5, 10.5)\n",
    "plt.scatter(\n",
    "    [find_prediction_at_instance_for_ols(X, lasso_regressor.coef_, i) + lasso_regressor.intercept_   \n",
    "     for i in range(X.shape[0])],\n",
    "    np.log(dt.cur_price),\n",
    "    color = 'darkviolet')\n",
    "plt.plot(list(range(10, 20)),list(range(10, 20)), c = 'orange')\n",
    "plt.xlabel(u'Прогнозная цена')\n",
    "plt.ylabel(u'Фактическая цена')\n",
    "plt.show()"
   ]
  },
  {
   "cell_type": "code",
   "execution_count": 761,
   "metadata": {},
   "outputs": [],
   "source": [
    "prediction = pd.DataFrame()\n",
    "prediction['pred'] = lasso_regressor.predict(X)\n",
    "prediction['fact'] = y"
   ]
  },
  {
   "cell_type": "code",
   "execution_count": 762,
   "metadata": {},
   "outputs": [
    {
     "data": {
      "text/html": [
       "<div>\n",
       "<style scoped>\n",
       "    .dataframe tbody tr th:only-of-type {\n",
       "        vertical-align: middle;\n",
       "    }\n",
       "\n",
       "    .dataframe tbody tr th {\n",
       "        vertical-align: top;\n",
       "    }\n",
       "\n",
       "    .dataframe thead th {\n",
       "        text-align: right;\n",
       "    }\n",
       "</style>\n",
       "<table border=\"1\" class=\"dataframe\">\n",
       "  <thead>\n",
       "    <tr style=\"text-align: right;\">\n",
       "      <th></th>\n",
       "      <th>26243</th>\n",
       "      <th>3590</th>\n",
       "      <th>5216</th>\n",
       "      <th>12224</th>\n",
       "      <th>33182</th>\n",
       "      <th>32369</th>\n",
       "      <th>27134</th>\n",
       "      <th>5927</th>\n",
       "      <th>26000</th>\n",
       "      <th>18960</th>\n",
       "      <th>9556</th>\n",
       "      <th>5985</th>\n",
       "      <th>11549</th>\n",
       "      <th>4353</th>\n",
       "      <th>31097</th>\n",
       "      <th>11248</th>\n",
       "      <th>20886</th>\n",
       "    </tr>\n",
       "  </thead>\n",
       "  <tbody>\n",
       "    <tr>\n",
       "      <th>pred</th>\n",
       "      <td>13.8835</td>\n",
       "      <td>12.7857</td>\n",
       "      <td>12.7299</td>\n",
       "      <td>13.5051</td>\n",
       "      <td>13.7160</td>\n",
       "      <td>13.5574</td>\n",
       "      <td>13.5581</td>\n",
       "      <td>13.8150</td>\n",
       "      <td>13.7241</td>\n",
       "      <td>14.1514</td>\n",
       "      <td>13.1727</td>\n",
       "      <td>13.6976</td>\n",
       "      <td>13.8661</td>\n",
       "      <td>13.7057</td>\n",
       "      <td>13.5581</td>\n",
       "      <td>13.5383</td>\n",
       "      <td>13.0613</td>\n",
       "    </tr>\n",
       "    <tr>\n",
       "      <th>fact</th>\n",
       "      <td>13.9970</td>\n",
       "      <td>12.9239</td>\n",
       "      <td>11.7753</td>\n",
       "      <td>13.4284</td>\n",
       "      <td>14.3456</td>\n",
       "      <td>13.4075</td>\n",
       "      <td>13.7046</td>\n",
       "      <td>14.0832</td>\n",
       "      <td>13.6647</td>\n",
       "      <td>14.2143</td>\n",
       "      <td>12.9239</td>\n",
       "      <td>13.7267</td>\n",
       "      <td>14.1697</td>\n",
       "      <td>14.0306</td>\n",
       "      <td>13.7046</td>\n",
       "      <td>13.3212</td>\n",
       "      <td>12.8866</td>\n",
       "    </tr>\n",
       "  </tbody>\n",
       "</table>\n",
       "</div>"
      ],
      "text/plain": [
       "       26243   3590    5216    12224   33182   32369   27134   5927    26000  \\\n",
       "pred 13.8835 12.7857 12.7299 13.5051 13.7160 13.5574 13.5581 13.8150 13.7241   \n",
       "fact 13.9970 12.9239 11.7753 13.4284 14.3456 13.4075 13.7046 14.0832 13.6647   \n",
       "\n",
       "       18960   9556    5985    11549   4353    31097   11248   20886  \n",
       "pred 14.1514 13.1727 13.6976 13.8661 13.7057 13.5581 13.5383 13.0613  \n",
       "fact 14.2143 12.9239 13.7267 14.1697 14.0306 13.7046 13.3212 12.8866  "
      ]
     },
     "execution_count": 762,
     "metadata": {},
     "output_type": "execute_result"
    }
   ],
   "source": [
    "prediction.sample(17).T"
   ]
  },
  {
   "cell_type": "code",
   "execution_count": 763,
   "metadata": {},
   "outputs": [
    {
     "data": {
      "text/plain": [
       "(13.087817216057108, 483021.8723882427)"
      ]
     },
     "execution_count": 763,
     "metadata": {},
     "output_type": "execute_result"
    }
   ],
   "source": [
    "new_offer = {\n",
    "    'run' : 70000, \n",
    "    'horsepower': 70,\n",
    "    'year': 2014, \n",
    "    'cylinder_volume' : 2, \n",
    "    'fuel_label': 0, #Бензин \n",
    "    'transmission_type_label': 1, #Автомат\n",
    "    'retailer_label' : 1, #Юридеческое лицо\n",
    "    'brand_label' : 1 #General\n",
    "}\n",
    "log_price = 0\n",
    "for i, val in enumerate([*lasso_regressor.coef_, lasso_regressor.intercept_]):\n",
    "    log_price += list(new_offer.values())[i]*val\n",
    "log_price, np.exp(log_price)"
   ]
  },
  {
   "cell_type": "markdown",
   "metadata": {},
   "source": [
    "Это метод явно хуже OLS, это можно понять не только по R^2, но и по подобранным значениям переменных"
   ]
  },
  {
   "cell_type": "code",
   "execution_count": 765,
   "metadata": {},
   "outputs": [],
   "source": [
    "ridge_regressor = Ridge(random_state = 1)\n",
    "ridge_regressor.fit(X, y)\n",
    "ridge_predictor = ridge_regressor.predict(X)"
   ]
  },
  {
   "cell_type": "code",
   "execution_count": 766,
   "metadata": {},
   "outputs": [
    {
     "name": "stdout",
     "output_type": "stream",
     "text": [
      "R^2 = 0.8831222615361177\n"
     ]
    }
   ],
   "source": [
    "score = ridge_regressor.score(X, y)\n",
    "print('R^2 = {}'.format(score))"
   ]
  },
  {
   "cell_type": "code",
   "execution_count": 769,
   "metadata": {},
   "outputs": [
    {
     "data": {
      "text/html": [
       "<div>\n",
       "<style scoped>\n",
       "    .dataframe tbody tr th:only-of-type {\n",
       "        vertical-align: middle;\n",
       "    }\n",
       "\n",
       "    .dataframe tbody tr th {\n",
       "        vertical-align: top;\n",
       "    }\n",
       "\n",
       "    .dataframe thead th {\n",
       "        text-align: right;\n",
       "    }\n",
       "</style>\n",
       "<table border=\"1\" class=\"dataframe\">\n",
       "  <thead>\n",
       "    <tr style=\"text-align: right;\">\n",
       "      <th></th>\n",
       "      <th>feature</th>\n",
       "      <th>coefs</th>\n",
       "    </tr>\n",
       "  </thead>\n",
       "  <tbody>\n",
       "    <tr>\n",
       "      <th>0</th>\n",
       "      <td>run</td>\n",
       "      <td>-0.0000</td>\n",
       "    </tr>\n",
       "    <tr>\n",
       "      <th>1</th>\n",
       "      <td>horsepower</td>\n",
       "      <td>0.0041</td>\n",
       "    </tr>\n",
       "    <tr>\n",
       "      <th>2</th>\n",
       "      <td>year</td>\n",
       "      <td>0.0882</td>\n",
       "    </tr>\n",
       "    <tr>\n",
       "      <th>3</th>\n",
       "      <td>cylinder_volume</td>\n",
       "      <td>0.0396</td>\n",
       "    </tr>\n",
       "    <tr>\n",
       "      <th>4</th>\n",
       "      <td>fuel_label</td>\n",
       "      <td>0.3633</td>\n",
       "    </tr>\n",
       "    <tr>\n",
       "      <th>5</th>\n",
       "      <td>transmission_type_label</td>\n",
       "      <td>0.3927</td>\n",
       "    </tr>\n",
       "    <tr>\n",
       "      <th>6</th>\n",
       "      <td>brand_label</td>\n",
       "      <td>0.3356</td>\n",
       "    </tr>\n",
       "    <tr>\n",
       "      <th>7</th>\n",
       "      <td>intercept</td>\n",
       "      <td>-165.4372</td>\n",
       "    </tr>\n",
       "  </tbody>\n",
       "</table>\n",
       "</div>"
      ],
      "text/plain": [
       "                   feature     coefs\n",
       "0                      run   -0.0000\n",
       "1               horsepower    0.0041\n",
       "2                     year    0.0882\n",
       "3          cylinder_volume    0.0396\n",
       "4               fuel_label    0.3633\n",
       "5  transmission_type_label    0.3927\n",
       "6              brand_label    0.3356\n",
       "7                intercept -165.4372"
      ]
     },
     "execution_count": 769,
     "metadata": {},
     "output_type": "execute_result"
    }
   ],
   "source": [
    "results_ridge= pd.DataFrame()\n",
    "results_ridge['feature'] = ['run', 'horsepower', 'year',\n",
    "       'cylinder_volume', 'fuel_label', 'transmission_type_label',\n",
    "        'brand_label', 'intercept']\n",
    "results_ridge['coefs'] = [*ridge_regressor.coef_, ridge_regressor.intercept_]\n",
    "\n",
    "results_ridge"
   ]
  },
  {
   "cell_type": "code",
   "execution_count": 770,
   "metadata": {},
   "outputs": [
    {
     "data": {
      "image/png": "[encoded data removed]",
      "text/plain": [
       "<Figure size 432x288 with 1 Axes>"
      ]
     },
     "metadata": {
      "needs_background": "light"
     },
     "output_type": "display_data"
    }
   ],
   "source": [
    "fig.set_size_inches(18.5, 10.5)\n",
    "plt.scatter(\n",
    "    [find_prediction_at_instance_for_ols(X, ridge_regressor.coef_, i) + ridge_regressor.intercept_   \n",
    "     for i in range(X.shape[0])],\n",
    "    np.log(dt.cur_price),\n",
    "    color = 'darkviolet')\n",
    "plt.plot(list(range(10, 20)),list(range(10, 20)), c = 'orange')\n",
    "plt.xlabel(u'Прогнозная цена')\n",
    "plt.ylabel(u'Фактическая цена')\n",
    "plt.show()"
   ]
  },
  {
   "cell_type": "code",
   "execution_count": 771,
   "metadata": {},
   "outputs": [],
   "source": [
    "prediction = pd.DataFrame()\n",
    "prediction['pred'] = ridge_regressor.predict(X)\n",
    "prediction['fact'] = y"
   ]
  },
  {
   "cell_type": "code",
   "execution_count": 772,
   "metadata": {},
   "outputs": [
    {
     "data": {
      "text/html": [
       "<div>\n",
       "<style scoped>\n",
       "    .dataframe tbody tr th:only-of-type {\n",
       "        vertical-align: middle;\n",
       "    }\n",
       "\n",
       "    .dataframe tbody tr th {\n",
       "        vertical-align: top;\n",
       "    }\n",
       "\n",
       "    .dataframe thead th {\n",
       "        text-align: right;\n",
       "    }\n",
       "</style>\n",
       "<table border=\"1\" class=\"dataframe\">\n",
       "  <thead>\n",
       "    <tr style=\"text-align: right;\">\n",
       "      <th></th>\n",
       "      <th>4388</th>\n",
       "      <th>13875</th>\n",
       "      <th>26607</th>\n",
       "      <th>33300</th>\n",
       "      <th>408</th>\n",
       "      <th>16707</th>\n",
       "      <th>16815</th>\n",
       "      <th>23961</th>\n",
       "      <th>25216</th>\n",
       "      <th>9519</th>\n",
       "      <th>12397</th>\n",
       "      <th>16061</th>\n",
       "      <th>3828</th>\n",
       "      <th>8716</th>\n",
       "      <th>27613</th>\n",
       "      <th>18210</th>\n",
       "      <th>1404</th>\n",
       "    </tr>\n",
       "  </thead>\n",
       "  <tbody>\n",
       "    <tr>\n",
       "      <th>pred</th>\n",
       "      <td>14.8260</td>\n",
       "      <td>13.9636</td>\n",
       "      <td>13.1057</td>\n",
       "      <td>13.7934</td>\n",
       "      <td>13.4387</td>\n",
       "      <td>14.1179</td>\n",
       "      <td>13.7527</td>\n",
       "      <td>13.7909</td>\n",
       "      <td>13.1416</td>\n",
       "      <td>14.6613</td>\n",
       "      <td>15.2758</td>\n",
       "      <td>12.7367</td>\n",
       "      <td>13.6191</td>\n",
       "      <td>12.9065</td>\n",
       "      <td>13.9514</td>\n",
       "      <td>13.1057</td>\n",
       "      <td>13.0299</td>\n",
       "    </tr>\n",
       "    <tr>\n",
       "      <th>fact</th>\n",
       "      <td>14.8733</td>\n",
       "      <td>14.2792</td>\n",
       "      <td>13.0795</td>\n",
       "      <td>13.8785</td>\n",
       "      <td>13.5911</td>\n",
       "      <td>14.2176</td>\n",
       "      <td>13.9509</td>\n",
       "      <td>13.6647</td>\n",
       "      <td>12.6729</td>\n",
       "      <td>14.4447</td>\n",
       "      <td>15.8502</td>\n",
       "      <td>12.8347</td>\n",
       "      <td>13.8402</td>\n",
       "      <td>12.9239</td>\n",
       "      <td>13.7429</td>\n",
       "      <td>13.0795</td>\n",
       "      <td>12.9215</td>\n",
       "    </tr>\n",
       "  </tbody>\n",
       "</table>\n",
       "</div>"
      ],
      "text/plain": [
       "       4388    13875   26607   33300   408     16707   16815   23961   25216  \\\n",
       "pred 14.8260 13.9636 13.1057 13.7934 13.4387 14.1179 13.7527 13.7909 13.1416   \n",
       "fact 14.8733 14.2792 13.0795 13.8785 13.5911 14.2176 13.9509 13.6647 12.6729   \n",
       "\n",
       "       9519    12397   16061   3828    8716    27613   18210   1404   \n",
       "pred 14.6613 15.2758 12.7367 13.6191 12.9065 13.9514 13.1057 13.0299  \n",
       "fact 14.4447 15.8502 12.8347 13.8402 12.9239 13.7429 13.0795 12.9215  "
      ]
     },
     "execution_count": 772,
     "metadata": {},
     "output_type": "execute_result"
    }
   ],
   "source": [
    "prediction.sample(17).T"
   ]
  },
  {
   "cell_type": "code",
   "execution_count": 773,
   "metadata": {},
   "outputs": [
    {
     "data": {
      "text/plain": [
       "(13.271719718303842, 580543.329082654)"
      ]
     },
     "execution_count": 773,
     "metadata": {},
     "output_type": "execute_result"
    }
   ],
   "source": [
    "new_offer = {\n",
    "    'run' : 70000, \n",
    "    'horsepower': 70,\n",
    "    'year': 2014, \n",
    "    'cylinder_volume' : 2, \n",
    "    'fuel_label': 0, #Бензин \n",
    "    'transmission_type_label': 1, #Автомат\n",
    "    'retailer_label' : 1, #Юридеческое лицо\n",
    "    'brand_label' : 1 #General\n",
    "}\n",
    "log_price = 0\n",
    "for i, val in enumerate([*ridge_regressor.coef_, ridge_regressor.intercept_]):\n",
    "    log_price += list(new_offer.values())[i]*val\n",
    "log_price, np.exp(log_price)"
   ]
  },
  {
   "cell_type": "markdown",
   "metadata": {},
   "source": [
    "Метод Ridge показал хорошие результаты, но OLS все-таки оказался лучше."
   ]
  },
  {
   "cell_type": "markdown",
   "metadata": {},
   "source": [
    "# Выводы\n",
    "В рамках проведенной работы были собраны данные о продаваемых машинах. У каждого автомобиля были определены следующие параметры:\n",
    "- Пробег автомобиля\n",
    "- Тип топлива\n",
    "- Количество лошадиных сил\n",
    "- Год выпуска\n",
    "- Тип коробки передач\n",
    "- Ритейлер\n",
    "- Бренд\n",
    "- Объем цилиндров\n",
    "- Текущая цена в объявлении о продаже\n",
    "\n",
    "Собранные данные были приведены к необходимому для анализа виду. \n",
    "\n",
    "Были построены графики, которые помогли понять природу и количество данных и зависимость данных друг от друга.\n",
    "\n",
    "Данные были кластеризованы методом Kmeans. Количество выделенных кластеров - 4. В первые три кластера попали машины, продаваемые юридическими лицами, различия кластеров в типе коробки передач и топлива. 4 кластер образовали машины, продаваемые физическими лицами.\n",
    "\n",
    "К имеющимся данным была применена линейная регрессия для предсказания цены автомобиля по имеющимся параметрам. Были рассмотренны три модели: OLS, Lasso, Ridge. Лучше всех показала себя модель OLS. Полученные коэффициенты в модели говорят нам о том, что главные факторы, влияющие на цену автомобиля - это бренд, топ топлива и тип коробки передач"
   ]
  },
  {
   "cell_type": "code",
   "execution_count": null,
   "metadata": {},
   "outputs": [],
   "source": []
  }
 ],
 "metadata": {
  "kernelspec": {
   "display_name": "Python 3",
   "language": "python",
   "name": "python3"
  },
  "language_info": {
   "codemirror_mode": {
    "name": "ipython",
    "version": 3
   },
   "file_extension": ".py",
   "mimetype": "text/x-python",
   "name": "python",
   "nbconvert_exporter": "python",
   "pygments_lexer": "ipython3",
   "version": "3.7.0"
  }
 },
 "nbformat": 4,
 "nbformat_minor": 2
}
